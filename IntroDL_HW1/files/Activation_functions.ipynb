{
  "nbformat": 4,
  "nbformat_minor": 0,
  "metadata": {
    "colab": {
      "provenance": [],
      "toc_visible": true
    },
    "kernelspec": {
      "name": "python3",
      "display_name": "Python 3"
    },
    "language_info": {
      "name": "python"
    }
  },
  "cells": [
    {
      "cell_type": "code",
      "execution_count": null,
      "metadata": {
        "id": "R6xpOYRj8PqS"
      },
      "outputs": [],
      "source": [
        "# import libraries\n",
        "import numpy as np\n",
        "import torch\n",
        "import torch.nn as nn\n",
        "import matplotlib.pyplot as plt"
      ]
    },
    {
      "cell_type": "code",
      "source": [
        "# create some dummy data\n",
        "test_data_np = np.linspace(-10.0, 10.0, num=500)\n",
        "test_data_torch = torch.tensor(test_data_np, dtype=torch.float64)"
      ],
      "metadata": {
        "id": "VscrGqUrCINF"
      },
      "execution_count": null,
      "outputs": []
    },
    {
      "cell_type": "code",
      "source": [
        "# define a function for plotting\n",
        "def plot_function(x, y):\n",
        "    plt.plot(x, y)"
      ],
      "metadata": {
        "id": "4nrP1BTGCLNz"
      },
      "execution_count": null,
      "outputs": []
    },
    {
      "cell_type": "code",
      "source": [
        "# define a function to test the two activation functions\n",
        "def test(x, function1, function2):\n",
        "    output_fn1 = function1(x)\n",
        "    output_fn2 = function2(x)\n",
        "    return torch.allclose(output_fn1,output_fn2), output_fn1"
      ],
      "metadata": {
        "id": "7zbTJNe3COoN"
      },
      "execution_count": null,
      "outputs": []
    },
    {
      "cell_type": "markdown",
      "source": [
        "# Sigmoid"
      ],
      "metadata": {
        "id": "ffqV_EZGCWoV"
      }
    },
    {
      "cell_type": "code",
      "source": [
        "# implement the sigmoid activation function\n",
        "##### TO DO #####"
      ],
      "metadata": {
        "id": "TyMjbOVACUIZ"
      },
      "execution_count": null,
      "outputs": []
    },
    {
      "cell_type": "code",
      "source": [
        "# test your function against the sigmoid activation function from torch\n",
        "result_sigmoid, output_sigmoid = test(test_data_torch, '''your function''', nn.Sigmoid())\n",
        "print(result_sigmoid)"
      ],
      "metadata": {
        "id": "ILU22leOCcxT"
      },
      "execution_count": null,
      "outputs": []
    },
    {
      "cell_type": "code",
      "source": [
        "# plot the sigmoid activation function\n",
        "plot_function(test_data_np, output_sigmoid)"
      ],
      "metadata": {
        "id": "vXeSAj3DCmQF"
      },
      "execution_count": null,
      "outputs": []
    },
    {
      "cell_type": "markdown",
      "source": [
        "# Softmax"
      ],
      "metadata": {
        "id": "7uA7M_3tCn_M"
      }
    },
    {
      "cell_type": "code",
      "source": [
        "# implement the softmax activation function\n",
        "##### TO DO #####"
      ],
      "metadata": {
        "id": "2d-ctBKzCm8D"
      },
      "execution_count": null,
      "outputs": []
    },
    {
      "cell_type": "code",
      "source": [
        "# test your function against the softmax activation function from torch\n",
        "result_softmax, output_softmax = test(test_data_torch, '''your function''', nn.Softmax())\n",
        "print(result_softmax)"
      ],
      "metadata": {
        "id": "u06Np300Ct6W"
      },
      "execution_count": null,
      "outputs": []
    },
    {
      "cell_type": "code",
      "source": [
        "# plot the softmax activation function\n",
        "plot_function(test_data_np, output_softmax)"
      ],
      "metadata": {
        "id": "OK-KGIYBCyNe"
      },
      "execution_count": null,
      "outputs": []
    },
    {
      "cell_type": "markdown",
      "source": [
        "# ReLU"
      ],
      "metadata": {
        "id": "zD20_GVNC2Fi"
      }
    },
    {
      "cell_type": "code",
      "source": [
        "# implement the ReLU activation function\n",
        "##### TO DO #####"
      ],
      "metadata": {
        "id": "7Z3YuB9lC1dP"
      },
      "execution_count": null,
      "outputs": []
    },
    {
      "cell_type": "code",
      "source": [
        "# test your function against the ReLU activation function from torch\n",
        "result_relu, output_relu = test(test_data_torch, '''your function''', nn.ReLU())\n",
        "print(result_relu)"
      ],
      "metadata": {
        "id": "TpPj0BxsC9MO"
      },
      "execution_count": null,
      "outputs": []
    },
    {
      "cell_type": "code",
      "source": [
        "# plot the ReLU activation function\n",
        "plot_function(test_data_np, output_relu)"
      ],
      "metadata": {
        "id": "YDzS0tI3DADe"
      },
      "execution_count": null,
      "outputs": []
    },
    {
      "cell_type": "markdown",
      "source": [
        "# Leaky ReLU"
      ],
      "metadata": {
        "id": "g0in-byDDFmM"
      }
    },
    {
      "cell_type": "code",
      "source": [
        "# implement the Leaky ReLU activation function\n",
        "##### TO DO #####"
      ],
      "metadata": {
        "id": "KgyYznrxDDeU"
      },
      "execution_count": null,
      "outputs": []
    },
    {
      "cell_type": "code",
      "source": [
        "# test your function against the Leaky ReLU activation function from torch\n",
        "result_leaky_relu, output_leaky_relu = test(test_data_torch, '''your function''', nn.LeakyReLU())\n",
        "print(result_leaky_relu)"
      ],
      "metadata": {
        "id": "fth0SstwDIdo"
      },
      "execution_count": null,
      "outputs": []
    },
    {
      "cell_type": "code",
      "source": [
        "# plot the Leaky ReLU activation function\n",
        "plot_function(test_data_np, output_leaky_relu)"
      ],
      "metadata": {
        "id": "e5IA3QVBDKHm"
      },
      "execution_count": null,
      "outputs": []
    },
    {
      "cell_type": "markdown",
      "source": [
        "# Tanh"
      ],
      "metadata": {
        "id": "zxBSEsS3DNwv"
      }
    },
    {
      "cell_type": "code",
      "source": [
        "# implement the tanh activation function\n",
        "##### TO DO #####"
      ],
      "metadata": {
        "id": "ZS8nwj6GDL1e"
      },
      "execution_count": null,
      "outputs": []
    },
    {
      "cell_type": "code",
      "source": [
        "# test your function against the tanh activation function from torch\n",
        "result_tanh, output_tanh = test(test_data_torch, '''your function''', nn.Tanh())\n",
        "print(result_tanh)"
      ],
      "metadata": {
        "id": "uhfVtYMcDTbT"
      },
      "execution_count": null,
      "outputs": []
    },
    {
      "cell_type": "code",
      "source": [
        "# plot the tanh activation function\n",
        "plot_function(test_data_np, output_tanh)"
      ],
      "metadata": {
        "id": "ZUnob8nJDYPS"
      },
      "execution_count": null,
      "outputs": []
    }
  ]
}