{
  "cells": [
    {
      "cell_type": "markdown",
      "metadata": {
        "id": "1H4m2VIPgrrH"
      },
      "source": [
        "# NLP?\n",
        "NLP or NAtural Language Processing is a part of AI which deals with the textual aspect of the data. We can perform different task using NLP some of the simplest being:\n",
        "\n",
        "1. Classify the kind of text data. (Science,Sports etc)\n",
        "2. Extract the summary from the text (useful in the key points for legal documents)\n",
        "3. Make a Fill in the Blanks Model\n",
        "4. ChatBots\n",
        "5. Image Captioning\n",
        "\n",
        "NLP has reached a point of complexity where the models are generating scripts for a play or generate a random story based on a random word."
      ]
    },
    {
      "cell_type": "markdown",
      "metadata": {
        "id": "1vz-HMf0grrH"
      },
      "source": [
        "# Problem?\n",
        "We have to classify the given comments in 2 parts whether these are toxis or not by using the comments. 1 shows Toxic, 0 shows Not Toxic"
      ]
    },
    {
      "cell_type": "markdown",
      "metadata": {
        "id": "fXymW27BgrrH"
      },
      "source": [
        "# Solution?\n",
        "## RNN (Recurrent Neural Networks):\n",
        "I can not draw the figure for weights,biases and all the other things that are very essential to have a deep understanding of RNN so Please check out [this insightful video](https://www.youtube.com/watch?v=2E65LDnM2cA&list=PL1F3ABbhcqa3BBWo170U4Ev2wfsF7FN8l) on RNN by Andrew NG and a very [intutive video by MIT](https://www.youtube.com/watch?v=SEnXr6v2ifU&t=1398s) before you start.\n",
        "\n",
        "**<font color='teal'>RNN helps wherever we need context from the previous input such as:**</font>\n",
        "\n",
        "1. Language to Language Translation (Many to Many Articture: Many inputs Many Outputs)\n",
        "2. Sentimeny Analysis (Many to One Articture: Many inputs One Output)\n",
        "3. Music, Story Generation (One to Many Articture: One input Many Outputs)\n",
        "\n",
        "**<font color='red'>We're talking about the `Many to Many Architecture Below`</font>**\n",
        "\n",
        "RNN are specialised version of Neural Networks which deals with the time aspect as well. For instance, given a sentence like `Because Eminem is the only Rapper to win an Oscar, best selling rapper of all time, most top Billboards and has got 15 Grammy award wins so it makes him the ____` can have a complex structure because filling the right word as `GOD/GOAT/Best` is linked to the first word itself and has a relation with the entire sequence of the words. Simple Dense networds can not address the problem so to get the results in the sentence, we have to get the relation from the past where the output is based on  `only,rapper,win,Oscar,most,selling,all,time,most,top,billboards,15,Grammy`. So in order to teach the model, RNN are used where an output is based only not only on the inputs but the previous outputs too.\n",
        "\n",
        "RNN have <font color='green'>**BPTT**: **Back Propagation Through Time**</font> which is a specialised version of Back Propagation Algorithm to train RNN.\n",
        "\n",
        "Conceptually, BPTT works by unrolling all input timesteps. Each timestep has one input timestep, one copy of the network, and one output. Errors are then calculated and accumulated for each timestep. The network is rolled back up and the weights are updated.\n",
        "\n",
        "Gradients will have to be called for the past cells too so if layers are in thousands so BPTT can be computationally expensive as the number of timesteps increases and it also leads to Vanishing gradients (no change in Gradients) or exploding (gradients changing too fast).\n",
        "\n",
        "## Working and feeding data into RNN for NLP?\n",
        "Unlike the data that we feed in simple DNN, we feed the data at time intervals. Let us see by an example.\n",
        "Suppose we have the Sentence `Eminem is the GOAT` and the vector representation of it suppose `[1,2,3,4]` and we want to train a super slow but intelligent model model of just 1 cell or layer in RNN `(t-1 only)`. So insted of feeding the whole instance at 12:00 PM, it'll feed starting hidden state as `h_start` (which is generally random or 0) and `1`  which is notation for  `Eminem` at 12:00 PM and generate an output say `99` and a hidden state `h0` at 12:01. At 12:02, We'll feed the model with past state `h0` and the current input `2` to get a result `42` and a modified hidden state from `h0 -> h1` at 12:03 and it goes on until the end of the vector. By the time our model finish training, it would have produced a vector of results and a final state `h_end`(which is of no use now except we are using Encoder-Decoder) which interprets to  `He is indeed GOD. Period`.\n",
        "\n",
        "**<font color='red'>NOTE: RNN uses SAME function (mostly`tanh`) as activation function and SAME weight matrix `W` to calculate the variables at EACH TIME STEP. Depending on the requirements, there can be multiple Weight Matrices for example one weight matrix  (`Wh`) that gets multiplied by the previous hidden state (`h_old`), another one as (`Wx`) that gets multiplied by input (`x_in`).`h_now = tanh(Wh*h_old + Wx*x_in)`. To calculate the current output as (`y_now`), we use another weight matrix (`Wy`)  so that `y_now = softmax(Wy * h_now)`</font>**\n",
        "\n",
        "**<font color='teal'>Note: Hidden State is not a scaler but has dimension `d`.Hidden state represent how many different features you want to remember for either short term or long term (in LSTM's context). Hidden States tend to do something like this:</font>**\n",
        "\n",
        "1. Remember the context\n",
        "2. Remeber the Grammar\n",
        "3. Preserve the style words have been used\n",
        "4. etc... etc...\n",
        "\n",
        "**<font color='maroon'>Data should be of same length for all of the Training instances for most of the basic Deep Learning models (except sequence-to-seqence, attention etc)**</font>. You can not pass in Vectors of different length to the model such as `Eminem is the best rapper` and `Eminem is the best rapper born EOD`. You need to either truncate the second one or to pad the first one. People mostly use the padding where the sentence with the maximum length is considered as base and a unique vector is appended to the each sentence in the end to mae the vectors of same size. By doing that, our second sentence will become `Eminem is the best rapper -PAD- PAD-` and it'll become `[1,2,3,4,777,777]`.\n",
        "\n",
        "There might be times when your model will encounter some words that it is unaware of. For example we have the sentence `But Kanye has more Grammys. Now What?`. Our model will literally throw an error like `Kanye?? WHO???? I don't know that name. Never Heard of this word`. So to overcome the problem, another unidentified token is attached as -UN- to make the sentence as `But -UN- has more Grammys` and the result for that would be `For Producing Music mostly not Rapping, got it?`."
      ]
    },
    {
      "cell_type": "markdown",
      "metadata": {
        "id": "zHKNLpbYgrrI"
      },
      "source": [
        "# Imports\n",
        "Import the required libraries."
      ]
    },
    {
      "cell_type": "code",
      "execution_count": 1,
      "metadata": {
        "colab": {
          "base_uri": "https://localhost:8080/"
        },
        "id": "bH--XwKjxdio",
        "outputId": "51ae5f3b-9fd7-4c1f-9db1-7f406a261624"
      },
      "outputs": [
        {
          "output_type": "stream",
          "name": "stdout",
          "text": [
            "Collecting torchtext==0.6\n",
            "  Downloading torchtext-0.6.0-py3-none-any.whl (64 kB)\n",
            "\u001b[2K     \u001b[90m━━━━━━━━━━━━━━━━━━━━━━━━━━━━━━━━━━━━━━━━\u001b[0m \u001b[32m64.2/64.2 kB\u001b[0m \u001b[31m858.5 kB/s\u001b[0m eta \u001b[36m0:00:00\u001b[0m\n",
            "\u001b[?25hRequirement already satisfied: tqdm in /usr/local/lib/python3.10/dist-packages (from torchtext==0.6) (4.66.1)\n",
            "Requirement already satisfied: requests in /usr/local/lib/python3.10/dist-packages (from torchtext==0.6) (2.31.0)\n",
            "Requirement already satisfied: torch in /usr/local/lib/python3.10/dist-packages (from torchtext==0.6) (2.1.2)\n",
            "Requirement already satisfied: numpy in /usr/local/lib/python3.10/dist-packages (from torchtext==0.6) (1.23.5)\n",
            "Requirement already satisfied: six in /usr/local/lib/python3.10/dist-packages (from torchtext==0.6) (1.16.0)\n",
            "Collecting sentencepiece (from torchtext==0.6)\n",
            "  Downloading sentencepiece-0.1.99-cp310-cp310-manylinux_2_17_x86_64.manylinux2014_x86_64.whl (1.3 MB)\n",
            "\u001b[2K     \u001b[90m━━━━━━━━━━━━━━━━━━━━━━━━━━━━━━━━━━━━━━━━\u001b[0m \u001b[32m1.3/1.3 MB\u001b[0m \u001b[31m9.3 MB/s\u001b[0m eta \u001b[36m0:00:00\u001b[0m\n",
            "\u001b[?25hRequirement already satisfied: charset-normalizer<4,>=2 in /usr/local/lib/python3.10/dist-packages (from requests->torchtext==0.6) (3.3.2)\n",
            "Requirement already satisfied: idna<4,>=2.5 in /usr/local/lib/python3.10/dist-packages (from requests->torchtext==0.6) (3.6)\n",
            "Requirement already satisfied: urllib3<3,>=1.21.1 in /usr/local/lib/python3.10/dist-packages (from requests->torchtext==0.6) (2.0.7)\n",
            "Requirement already satisfied: certifi>=2017.4.17 in /usr/local/lib/python3.10/dist-packages (from requests->torchtext==0.6) (2023.11.17)\n",
            "Requirement already satisfied: filelock in /usr/local/lib/python3.10/dist-packages (from torch->torchtext==0.6) (3.13.1)\n",
            "Requirement already satisfied: typing-extensions in /usr/local/lib/python3.10/dist-packages (from torch->torchtext==0.6) (4.5.0)\n",
            "Requirement already satisfied: sympy in /usr/local/lib/python3.10/dist-packages (from torch->torchtext==0.6) (1.12)\n",
            "Requirement already satisfied: networkx in /usr/local/lib/python3.10/dist-packages (from torch->torchtext==0.6) (3.2.1)\n",
            "Requirement already satisfied: jinja2 in /usr/local/lib/python3.10/dist-packages (from torch->torchtext==0.6) (3.1.2)\n",
            "Requirement already satisfied: fsspec in /usr/local/lib/python3.10/dist-packages (from torch->torchtext==0.6) (2023.6.0)\n",
            "Requirement already satisfied: nvidia-cuda-nvrtc-cu12==12.1.105 in /usr/local/lib/python3.10/dist-packages (from torch->torchtext==0.6) (12.1.105)\n",
            "Requirement already satisfied: nvidia-cuda-runtime-cu12==12.1.105 in /usr/local/lib/python3.10/dist-packages (from torch->torchtext==0.6) (12.1.105)\n",
            "Requirement already satisfied: nvidia-cuda-cupti-cu12==12.1.105 in /usr/local/lib/python3.10/dist-packages (from torch->torchtext==0.6) (12.1.105)\n",
            "Requirement already satisfied: nvidia-cudnn-cu12==8.9.2.26 in /usr/local/lib/python3.10/dist-packages (from torch->torchtext==0.6) (8.9.2.26)\n",
            "Requirement already satisfied: nvidia-cublas-cu12==12.1.3.1 in /usr/local/lib/python3.10/dist-packages (from torch->torchtext==0.6) (12.1.3.1)\n",
            "Requirement already satisfied: nvidia-cufft-cu12==11.0.2.54 in /usr/local/lib/python3.10/dist-packages (from torch->torchtext==0.6) (11.0.2.54)\n",
            "Requirement already satisfied: nvidia-curand-cu12==10.3.2.106 in /usr/local/lib/python3.10/dist-packages (from torch->torchtext==0.6) (10.3.2.106)\n",
            "Requirement already satisfied: nvidia-cusolver-cu12==11.4.5.107 in /usr/local/lib/python3.10/dist-packages (from torch->torchtext==0.6) (11.4.5.107)\n",
            "Requirement already satisfied: nvidia-cusparse-cu12==12.1.0.106 in /usr/local/lib/python3.10/dist-packages (from torch->torchtext==0.6) (12.1.0.106)\n",
            "Requirement already satisfied: nvidia-nccl-cu12==2.18.1 in /usr/local/lib/python3.10/dist-packages (from torch->torchtext==0.6) (2.18.1)\n",
            "Requirement already satisfied: nvidia-nvtx-cu12==12.1.105 in /usr/local/lib/python3.10/dist-packages (from torch->torchtext==0.6) (12.1.105)\n",
            "Requirement already satisfied: triton==2.1.0 in /usr/local/lib/python3.10/dist-packages (from torch->torchtext==0.6) (2.1.0)\n",
            "Requirement already satisfied: nvidia-nvjitlink-cu12 in /usr/local/lib/python3.10/dist-packages (from nvidia-cusolver-cu12==11.4.5.107->torch->torchtext==0.6) (12.3.101)\n",
            "Requirement already satisfied: MarkupSafe>=2.0 in /usr/local/lib/python3.10/dist-packages (from jinja2->torch->torchtext==0.6) (2.1.3)\n",
            "Requirement already satisfied: mpmath>=0.19 in /usr/local/lib/python3.10/dist-packages (from sympy->torch->torchtext==0.6) (1.3.0)\n",
            "Installing collected packages: sentencepiece, torchtext\n",
            "  Attempting uninstall: torchtext\n",
            "    Found existing installation: torchtext 0.16.2\n",
            "    Uninstalling torchtext-0.16.2:\n",
            "      Successfully uninstalled torchtext-0.16.2\n",
            "Successfully installed sentencepiece-0.1.99 torchtext-0.6.0\n"
          ]
        }
      ],
      "source": [
        "!pip install -U torchtext==0.6"
      ]
    },
    {
      "cell_type": "code",
      "execution_count": 2,
      "metadata": {
        "id": "LDi57OgigrrI"
      },
      "outputs": [],
      "source": [
        "import pandas as pd # data handling\n",
        "import numpy as np # base of all\n",
        "import matplotlib.pyplot as plt # plotting\n",
        "import seaborn as sns  # advance plotting\n",
        "from wordcloud import WordCloud # to see the words as image\n",
        "import torch # PyTorch for building Networks\n",
        "import torch.nn as nn\n",
        "import torch.nn.functional as F\n",
        "from torchtext.data import Field,LabelField,BucketIterator,TabularDataset # TorchText has Text processing Function\n",
        "from torchtext import vocab\n",
        "from torchtext.vocab import GloVe\n",
        "from sklearn.model_selection import train_test_split # split the data into training and testing\n",
        "from sklearn.metrics import accuracy_score # accuracy metric\n",
        "from nltk import word_tokenize # very popular Text processing Library\n",
        "import random # to perform randomisation of tasks\n",
        "from tqdm.notebook import tqdm # for a continuous progress bar style\n",
        "import time # time module\n",
        "import os # import operating system"
      ]
    },
    {
      "cell_type": "code",
      "execution_count": 3,
      "metadata": {
        "colab": {
          "base_uri": "https://localhost:8080/"
        },
        "id": "PkrJPNX7BuAC",
        "outputId": "542f4e1b-4ef9-4665-be14-80a3866a85e2"
      },
      "outputs": [
        {
          "output_type": "stream",
          "name": "stderr",
          "text": [
            "[nltk_data] Downloading package punkt to /root/nltk_data...\n",
            "[nltk_data]   Unzipping tokenizers/punkt.zip.\n"
          ]
        },
        {
          "output_type": "execute_result",
          "data": {
            "text/plain": [
              "True"
            ]
          },
          "metadata": {},
          "execution_count": 3
        }
      ],
      "source": [
        "import nltk\n",
        "nltk.download('punkt')"
      ]
    },
    {
      "cell_type": "markdown",
      "metadata": {
        "id": "bFOAOhaZgrrK"
      },
      "source": [
        "# Set Defaults & Globals\n",
        "Set default conditions for some libraries and Global Variables"
      ]
    },
    {
      "cell_type": "code",
      "execution_count": 4,
      "metadata": {
        "id": "aRmGvmFtgrrK"
      },
      "outputs": [],
      "source": [
        "SEED = 13 # reproducible results: Same results in every run\n",
        "EPOCH = 1 # number of epochs to run for model\n",
        "device = torch.device('cuda' if torch.cuda.is_available() else 'cpu') # use 'cuda' if available else 'cpu'"
      ]
    },
    {
      "cell_type": "markdown",
      "metadata": {
        "id": "qCXVrPt4grrK"
      },
      "source": [
        "# Input & EDA\n",
        "Check out the data"
      ]
    },
    {
      "cell_type": "code",
      "execution_count": 13,
      "metadata": {
        "id": "gbHsqnHhgrrK",
        "colab": {
          "base_uri": "https://localhost:8080/",
          "height": 206
        },
        "outputId": "3008cdf3-eaa7-4929-d169-281e29770afc"
      },
      "outputs": [
        {
          "output_type": "execute_result",
          "data": {
            "text/plain": [
              "                 id                                       comment_text  toxic  \\\n",
              "0  0000997932d777bf  Explanation\\nWhy the edits made under my usern...      0   \n",
              "1  000103f0d9cfb60f  D'aww! He matches this background colour I'm s...      0   \n",
              "2  000113f07ec002fd  Hey man, I'm really not trying to edit war. It...      0   \n",
              "3  0001b41b1c6bb37e  \"\\nMore\\nI can't make any real suggestions on ...      0   \n",
              "4  0001d958c54c6e35  You, sir, are my hero. Any chance you remember...      0   \n",
              "\n",
              "   severe_toxic  obscene  threat  insult  identity_hate  \n",
              "0             0        0       0       0              0  \n",
              "1             0        0       0       0              0  \n",
              "2             0        0       0       0              0  \n",
              "3             0        0       0       0              0  \n",
              "4             0        0       0       0              0  "
            ],
            "text/html": [
              "\n",
              "  <div id=\"df-81d5c12a-df65-4a54-a5ce-989930036dde\" class=\"colab-df-container\">\n",
              "    <div>\n",
              "<style scoped>\n",
              "    .dataframe tbody tr th:only-of-type {\n",
              "        vertical-align: middle;\n",
              "    }\n",
              "\n",
              "    .dataframe tbody tr th {\n",
              "        vertical-align: top;\n",
              "    }\n",
              "\n",
              "    .dataframe thead th {\n",
              "        text-align: right;\n",
              "    }\n",
              "</style>\n",
              "<table border=\"1\" class=\"dataframe\">\n",
              "  <thead>\n",
              "    <tr style=\"text-align: right;\">\n",
              "      <th></th>\n",
              "      <th>id</th>\n",
              "      <th>comment_text</th>\n",
              "      <th>toxic</th>\n",
              "      <th>severe_toxic</th>\n",
              "      <th>obscene</th>\n",
              "      <th>threat</th>\n",
              "      <th>insult</th>\n",
              "      <th>identity_hate</th>\n",
              "    </tr>\n",
              "  </thead>\n",
              "  <tbody>\n",
              "    <tr>\n",
              "      <th>0</th>\n",
              "      <td>0000997932d777bf</td>\n",
              "      <td>Explanation\\nWhy the edits made under my usern...</td>\n",
              "      <td>0</td>\n",
              "      <td>0</td>\n",
              "      <td>0</td>\n",
              "      <td>0</td>\n",
              "      <td>0</td>\n",
              "      <td>0</td>\n",
              "    </tr>\n",
              "    <tr>\n",
              "      <th>1</th>\n",
              "      <td>000103f0d9cfb60f</td>\n",
              "      <td>D'aww! He matches this background colour I'm s...</td>\n",
              "      <td>0</td>\n",
              "      <td>0</td>\n",
              "      <td>0</td>\n",
              "      <td>0</td>\n",
              "      <td>0</td>\n",
              "      <td>0</td>\n",
              "    </tr>\n",
              "    <tr>\n",
              "      <th>2</th>\n",
              "      <td>000113f07ec002fd</td>\n",
              "      <td>Hey man, I'm really not trying to edit war. It...</td>\n",
              "      <td>0</td>\n",
              "      <td>0</td>\n",
              "      <td>0</td>\n",
              "      <td>0</td>\n",
              "      <td>0</td>\n",
              "      <td>0</td>\n",
              "    </tr>\n",
              "    <tr>\n",
              "      <th>3</th>\n",
              "      <td>0001b41b1c6bb37e</td>\n",
              "      <td>\"\\nMore\\nI can't make any real suggestions on ...</td>\n",
              "      <td>0</td>\n",
              "      <td>0</td>\n",
              "      <td>0</td>\n",
              "      <td>0</td>\n",
              "      <td>0</td>\n",
              "      <td>0</td>\n",
              "    </tr>\n",
              "    <tr>\n",
              "      <th>4</th>\n",
              "      <td>0001d958c54c6e35</td>\n",
              "      <td>You, sir, are my hero. Any chance you remember...</td>\n",
              "      <td>0</td>\n",
              "      <td>0</td>\n",
              "      <td>0</td>\n",
              "      <td>0</td>\n",
              "      <td>0</td>\n",
              "      <td>0</td>\n",
              "    </tr>\n",
              "  </tbody>\n",
              "</table>\n",
              "</div>\n",
              "    <div class=\"colab-df-buttons\">\n",
              "\n",
              "  <div class=\"colab-df-container\">\n",
              "    <button class=\"colab-df-convert\" onclick=\"convertToInteractive('df-81d5c12a-df65-4a54-a5ce-989930036dde')\"\n",
              "            title=\"Convert this dataframe to an interactive table.\"\n",
              "            style=\"display:none;\">\n",
              "\n",
              "  <svg xmlns=\"http://www.w3.org/2000/svg\" height=\"24px\" viewBox=\"0 -960 960 960\">\n",
              "    <path d=\"M120-120v-720h720v720H120Zm60-500h600v-160H180v160Zm220 220h160v-160H400v160Zm0 220h160v-160H400v160ZM180-400h160v-160H180v160Zm440 0h160v-160H620v160ZM180-180h160v-160H180v160Zm440 0h160v-160H620v160Z\"/>\n",
              "  </svg>\n",
              "    </button>\n",
              "\n",
              "  <style>\n",
              "    .colab-df-container {\n",
              "      display:flex;\n",
              "      gap: 12px;\n",
              "    }\n",
              "\n",
              "    .colab-df-convert {\n",
              "      background-color: #E8F0FE;\n",
              "      border: none;\n",
              "      border-radius: 50%;\n",
              "      cursor: pointer;\n",
              "      display: none;\n",
              "      fill: #1967D2;\n",
              "      height: 32px;\n",
              "      padding: 0 0 0 0;\n",
              "      width: 32px;\n",
              "    }\n",
              "\n",
              "    .colab-df-convert:hover {\n",
              "      background-color: #E2EBFA;\n",
              "      box-shadow: 0px 1px 2px rgba(60, 64, 67, 0.3), 0px 1px 3px 1px rgba(60, 64, 67, 0.15);\n",
              "      fill: #174EA6;\n",
              "    }\n",
              "\n",
              "    .colab-df-buttons div {\n",
              "      margin-bottom: 4px;\n",
              "    }\n",
              "\n",
              "    [theme=dark] .colab-df-convert {\n",
              "      background-color: #3B4455;\n",
              "      fill: #D2E3FC;\n",
              "    }\n",
              "\n",
              "    [theme=dark] .colab-df-convert:hover {\n",
              "      background-color: #434B5C;\n",
              "      box-shadow: 0px 1px 3px 1px rgba(0, 0, 0, 0.15);\n",
              "      filter: drop-shadow(0px 1px 2px rgba(0, 0, 0, 0.3));\n",
              "      fill: #FFFFFF;\n",
              "    }\n",
              "  </style>\n",
              "\n",
              "    <script>\n",
              "      const buttonEl =\n",
              "        document.querySelector('#df-81d5c12a-df65-4a54-a5ce-989930036dde button.colab-df-convert');\n",
              "      buttonEl.style.display =\n",
              "        google.colab.kernel.accessAllowed ? 'block' : 'none';\n",
              "\n",
              "      async function convertToInteractive(key) {\n",
              "        const element = document.querySelector('#df-81d5c12a-df65-4a54-a5ce-989930036dde');\n",
              "        const dataTable =\n",
              "          await google.colab.kernel.invokeFunction('convertToInteractive',\n",
              "                                                    [key], {});\n",
              "        if (!dataTable) return;\n",
              "\n",
              "        const docLinkHtml = 'Like what you see? Visit the ' +\n",
              "          '<a target=\"_blank\" href=https://colab.research.google.com/notebooks/data_table.ipynb>data table notebook</a>'\n",
              "          + ' to learn more about interactive tables.';\n",
              "        element.innerHTML = '';\n",
              "        dataTable['output_type'] = 'display_data';\n",
              "        await google.colab.output.renderOutput(dataTable, element);\n",
              "        const docLink = document.createElement('div');\n",
              "        docLink.innerHTML = docLinkHtml;\n",
              "        element.appendChild(docLink);\n",
              "      }\n",
              "    </script>\n",
              "  </div>\n",
              "\n",
              "\n",
              "<div id=\"df-3c3e9665-9650-4a5b-a69d-ac6a3595d975\">\n",
              "  <button class=\"colab-df-quickchart\" onclick=\"quickchart('df-3c3e9665-9650-4a5b-a69d-ac6a3595d975')\"\n",
              "            title=\"Suggest charts\"\n",
              "            style=\"display:none;\">\n",
              "\n",
              "<svg xmlns=\"http://www.w3.org/2000/svg\" height=\"24px\"viewBox=\"0 0 24 24\"\n",
              "     width=\"24px\">\n",
              "    <g>\n",
              "        <path d=\"M19 3H5c-1.1 0-2 .9-2 2v14c0 1.1.9 2 2 2h14c1.1 0 2-.9 2-2V5c0-1.1-.9-2-2-2zM9 17H7v-7h2v7zm4 0h-2V7h2v10zm4 0h-2v-4h2v4z\"/>\n",
              "    </g>\n",
              "</svg>\n",
              "  </button>\n",
              "\n",
              "<style>\n",
              "  .colab-df-quickchart {\n",
              "      --bg-color: #E8F0FE;\n",
              "      --fill-color: #1967D2;\n",
              "      --hover-bg-color: #E2EBFA;\n",
              "      --hover-fill-color: #174EA6;\n",
              "      --disabled-fill-color: #AAA;\n",
              "      --disabled-bg-color: #DDD;\n",
              "  }\n",
              "\n",
              "  [theme=dark] .colab-df-quickchart {\n",
              "      --bg-color: #3B4455;\n",
              "      --fill-color: #D2E3FC;\n",
              "      --hover-bg-color: #434B5C;\n",
              "      --hover-fill-color: #FFFFFF;\n",
              "      --disabled-bg-color: #3B4455;\n",
              "      --disabled-fill-color: #666;\n",
              "  }\n",
              "\n",
              "  .colab-df-quickchart {\n",
              "    background-color: var(--bg-color);\n",
              "    border: none;\n",
              "    border-radius: 50%;\n",
              "    cursor: pointer;\n",
              "    display: none;\n",
              "    fill: var(--fill-color);\n",
              "    height: 32px;\n",
              "    padding: 0;\n",
              "    width: 32px;\n",
              "  }\n",
              "\n",
              "  .colab-df-quickchart:hover {\n",
              "    background-color: var(--hover-bg-color);\n",
              "    box-shadow: 0 1px 2px rgba(60, 64, 67, 0.3), 0 1px 3px 1px rgba(60, 64, 67, 0.15);\n",
              "    fill: var(--button-hover-fill-color);\n",
              "  }\n",
              "\n",
              "  .colab-df-quickchart-complete:disabled,\n",
              "  .colab-df-quickchart-complete:disabled:hover {\n",
              "    background-color: var(--disabled-bg-color);\n",
              "    fill: var(--disabled-fill-color);\n",
              "    box-shadow: none;\n",
              "  }\n",
              "\n",
              "  .colab-df-spinner {\n",
              "    border: 2px solid var(--fill-color);\n",
              "    border-color: transparent;\n",
              "    border-bottom-color: var(--fill-color);\n",
              "    animation:\n",
              "      spin 1s steps(1) infinite;\n",
              "  }\n",
              "\n",
              "  @keyframes spin {\n",
              "    0% {\n",
              "      border-color: transparent;\n",
              "      border-bottom-color: var(--fill-color);\n",
              "      border-left-color: var(--fill-color);\n",
              "    }\n",
              "    20% {\n",
              "      border-color: transparent;\n",
              "      border-left-color: var(--fill-color);\n",
              "      border-top-color: var(--fill-color);\n",
              "    }\n",
              "    30% {\n",
              "      border-color: transparent;\n",
              "      border-left-color: var(--fill-color);\n",
              "      border-top-color: var(--fill-color);\n",
              "      border-right-color: var(--fill-color);\n",
              "    }\n",
              "    40% {\n",
              "      border-color: transparent;\n",
              "      border-right-color: var(--fill-color);\n",
              "      border-top-color: var(--fill-color);\n",
              "    }\n",
              "    60% {\n",
              "      border-color: transparent;\n",
              "      border-right-color: var(--fill-color);\n",
              "    }\n",
              "    80% {\n",
              "      border-color: transparent;\n",
              "      border-right-color: var(--fill-color);\n",
              "      border-bottom-color: var(--fill-color);\n",
              "    }\n",
              "    90% {\n",
              "      border-color: transparent;\n",
              "      border-bottom-color: var(--fill-color);\n",
              "    }\n",
              "  }\n",
              "</style>\n",
              "\n",
              "  <script>\n",
              "    async function quickchart(key) {\n",
              "      const quickchartButtonEl =\n",
              "        document.querySelector('#' + key + ' button');\n",
              "      quickchartButtonEl.disabled = true;  // To prevent multiple clicks.\n",
              "      quickchartButtonEl.classList.add('colab-df-spinner');\n",
              "      try {\n",
              "        const charts = await google.colab.kernel.invokeFunction(\n",
              "            'suggestCharts', [key], {});\n",
              "      } catch (error) {\n",
              "        console.error('Error during call to suggestCharts:', error);\n",
              "      }\n",
              "      quickchartButtonEl.classList.remove('colab-df-spinner');\n",
              "      quickchartButtonEl.classList.add('colab-df-quickchart-complete');\n",
              "    }\n",
              "    (() => {\n",
              "      let quickchartButtonEl =\n",
              "        document.querySelector('#df-3c3e9665-9650-4a5b-a69d-ac6a3595d975 button');\n",
              "      quickchartButtonEl.style.display =\n",
              "        google.colab.kernel.accessAllowed ? 'block' : 'none';\n",
              "    })();\n",
              "  </script>\n",
              "</div>\n",
              "    </div>\n",
              "  </div>\n"
            ]
          },
          "metadata": {},
          "execution_count": 13
        }
      ],
      "source": [
        "# read data.csv file with pandas (1 line)\n",
        "# start of your code/\n",
        "df = pd.read_csv('/content/data.csv')\n",
        "# end of your code\n",
        "df.head()"
      ]
    },
    {
      "cell_type": "code",
      "execution_count": 12,
      "metadata": {
        "id": "xg7xK-ncgrrL",
        "colab": {
          "base_uri": "https://localhost:8080/",
          "height": 406
        },
        "outputId": "5a23aa5c-c63b-4ee2-9dd6-e4da9cb43190"
      },
      "outputs": [
        {
          "output_type": "display_data",
          "data": {
            "text/plain": [
              "<Figure size 640x480 with 1 Axes>"
            ],
            "image/png": "[encoded data removed]"
          },
          "metadata": {}
        }
      ],
      "source": [
        "df['toxic'].value_counts().plot(kind='pie',autopct='%.2f%%',labels=['Not Toxic','Toxic'],cmap='Set2')\n",
        "# distribution of Toxic or Non Toxic. 1 detemines Toxic\n",
        "plt.show()"
      ]
    },
    {
      "cell_type": "code",
      "execution_count": 15,
      "metadata": {
        "colab": {
          "base_uri": "https://localhost:8080/"
        },
        "id": "1FkMfQrggrrL",
        "outputId": "d6632b68-92a4-4f47-9075-4d009d7bccf6"
      },
      "outputs": [
        {
          "output_type": "stream",
          "name": "stdout",
          "text": [
            "There are 63042228 unique words in the whole dataset\n"
          ]
        }
      ],
      "source": [
        "# join all the comments to make a new one big comment (1 line)\n",
        "# start of your code\n",
        "text = ' '.join(df['comment_text'].astype(str))\n",
        "# end of your code\n",
        "print(f'There are {len(text)} unique words in the whole dataset')"
      ]
    },
    {
      "cell_type": "markdown",
      "metadata": {
        "id": "Zdfqb1mEgrrM"
      },
      "source": [
        "# Pre- Processing\n",
        "Remove Null Values, Duplicates etc . Split the data, and change the structure according to the requiements of PyTorch\n",
        "\n",
        "## Remove un-necessary values\n",
        "Remove unwanted columns, Null rows and duplicated rows"
      ]
    },
    {
      "cell_type": "code",
      "execution_count": 16,
      "metadata": {
        "id": "xXwcHO4XgrrM",
        "colab": {
          "base_uri": "https://localhost:8080/",
          "height": 206
        },
        "outputId": "e39e5d9d-cd85-4c07-ef08-a51461301665"
      },
      "outputs": [
        {
          "output_type": "execute_result",
          "data": {
            "text/plain": [
              "                                        comment_text  toxic\n",
              "0  Explanation\\nWhy the edits made under my usern...      0\n",
              "1  D'aww! He matches this background colour I'm s...      0\n",
              "2  Hey man, I'm really not trying to edit war. It...      0\n",
              "3  \"\\nMore\\nI can't make any real suggestions on ...      0\n",
              "4  You, sir, are my hero. Any chance you remember...      0"
            ],
            "text/html": [
              "\n",
              "  <div id=\"df-b805cf22-9420-421b-9270-90066ef4bc34\" class=\"colab-df-container\">\n",
              "    <div>\n",
              "<style scoped>\n",
              "    .dataframe tbody tr th:only-of-type {\n",
              "        vertical-align: middle;\n",
              "    }\n",
              "\n",
              "    .dataframe tbody tr th {\n",
              "        vertical-align: top;\n",
              "    }\n",
              "\n",
              "    .dataframe thead th {\n",
              "        text-align: right;\n",
              "    }\n",
              "</style>\n",
              "<table border=\"1\" class=\"dataframe\">\n",
              "  <thead>\n",
              "    <tr style=\"text-align: right;\">\n",
              "      <th></th>\n",
              "      <th>comment_text</th>\n",
              "      <th>toxic</th>\n",
              "    </tr>\n",
              "  </thead>\n",
              "  <tbody>\n",
              "    <tr>\n",
              "      <th>0</th>\n",
              "      <td>Explanation\\nWhy the edits made under my usern...</td>\n",
              "      <td>0</td>\n",
              "    </tr>\n",
              "    <tr>\n",
              "      <th>1</th>\n",
              "      <td>D'aww! He matches this background colour I'm s...</td>\n",
              "      <td>0</td>\n",
              "    </tr>\n",
              "    <tr>\n",
              "      <th>2</th>\n",
              "      <td>Hey man, I'm really not trying to edit war. It...</td>\n",
              "      <td>0</td>\n",
              "    </tr>\n",
              "    <tr>\n",
              "      <th>3</th>\n",
              "      <td>\"\\nMore\\nI can't make any real suggestions on ...</td>\n",
              "      <td>0</td>\n",
              "    </tr>\n",
              "    <tr>\n",
              "      <th>4</th>\n",
              "      <td>You, sir, are my hero. Any chance you remember...</td>\n",
              "      <td>0</td>\n",
              "    </tr>\n",
              "  </tbody>\n",
              "</table>\n",
              "</div>\n",
              "    <div class=\"colab-df-buttons\">\n",
              "\n",
              "  <div class=\"colab-df-container\">\n",
              "    <button class=\"colab-df-convert\" onclick=\"convertToInteractive('df-b805cf22-9420-421b-9270-90066ef4bc34')\"\n",
              "            title=\"Convert this dataframe to an interactive table.\"\n",
              "            style=\"display:none;\">\n",
              "\n",
              "  <svg xmlns=\"http://www.w3.org/2000/svg\" height=\"24px\" viewBox=\"0 -960 960 960\">\n",
              "    <path d=\"M120-120v-720h720v720H120Zm60-500h600v-160H180v160Zm220 220h160v-160H400v160Zm0 220h160v-160H400v160ZM180-400h160v-160H180v160Zm440 0h160v-160H620v160ZM180-180h160v-160H180v160Zm440 0h160v-160H620v160Z\"/>\n",
              "  </svg>\n",
              "    </button>\n",
              "\n",
              "  <style>\n",
              "    .colab-df-container {\n",
              "      display:flex;\n",
              "      gap: 12px;\n",
              "    }\n",
              "\n",
              "    .colab-df-convert {\n",
              "      background-color: #E8F0FE;\n",
              "      border: none;\n",
              "      border-radius: 50%;\n",
              "      cursor: pointer;\n",
              "      display: none;\n",
              "      fill: #1967D2;\n",
              "      height: 32px;\n",
              "      padding: 0 0 0 0;\n",
              "      width: 32px;\n",
              "    }\n",
              "\n",
              "    .colab-df-convert:hover {\n",
              "      background-color: #E2EBFA;\n",
              "      box-shadow: 0px 1px 2px rgba(60, 64, 67, 0.3), 0px 1px 3px 1px rgba(60, 64, 67, 0.15);\n",
              "      fill: #174EA6;\n",
              "    }\n",
              "\n",
              "    .colab-df-buttons div {\n",
              "      margin-bottom: 4px;\n",
              "    }\n",
              "\n",
              "    [theme=dark] .colab-df-convert {\n",
              "      background-color: #3B4455;\n",
              "      fill: #D2E3FC;\n",
              "    }\n",
              "\n",
              "    [theme=dark] .colab-df-convert:hover {\n",
              "      background-color: #434B5C;\n",
              "      box-shadow: 0px 1px 3px 1px rgba(0, 0, 0, 0.15);\n",
              "      filter: drop-shadow(0px 1px 2px rgba(0, 0, 0, 0.3));\n",
              "      fill: #FFFFFF;\n",
              "    }\n",
              "  </style>\n",
              "\n",
              "    <script>\n",
              "      const buttonEl =\n",
              "        document.querySelector('#df-b805cf22-9420-421b-9270-90066ef4bc34 button.colab-df-convert');\n",
              "      buttonEl.style.display =\n",
              "        google.colab.kernel.accessAllowed ? 'block' : 'none';\n",
              "\n",
              "      async function convertToInteractive(key) {\n",
              "        const element = document.querySelector('#df-b805cf22-9420-421b-9270-90066ef4bc34');\n",
              "        const dataTable =\n",
              "          await google.colab.kernel.invokeFunction('convertToInteractive',\n",
              "                                                    [key], {});\n",
              "        if (!dataTable) return;\n",
              "\n",
              "        const docLinkHtml = 'Like what you see? Visit the ' +\n",
              "          '<a target=\"_blank\" href=https://colab.research.google.com/notebooks/data_table.ipynb>data table notebook</a>'\n",
              "          + ' to learn more about interactive tables.';\n",
              "        element.innerHTML = '';\n",
              "        dataTable['output_type'] = 'display_data';\n",
              "        await google.colab.output.renderOutput(dataTable, element);\n",
              "        const docLink = document.createElement('div');\n",
              "        docLink.innerHTML = docLinkHtml;\n",
              "        element.appendChild(docLink);\n",
              "      }\n",
              "    </script>\n",
              "  </div>\n",
              "\n",
              "\n",
              "<div id=\"df-8395e5dc-8e77-46e5-bd21-8903079a9dcb\">\n",
              "  <button class=\"colab-df-quickchart\" onclick=\"quickchart('df-8395e5dc-8e77-46e5-bd21-8903079a9dcb')\"\n",
              "            title=\"Suggest charts\"\n",
              "            style=\"display:none;\">\n",
              "\n",
              "<svg xmlns=\"http://www.w3.org/2000/svg\" height=\"24px\"viewBox=\"0 0 24 24\"\n",
              "     width=\"24px\">\n",
              "    <g>\n",
              "        <path d=\"M19 3H5c-1.1 0-2 .9-2 2v14c0 1.1.9 2 2 2h14c1.1 0 2-.9 2-2V5c0-1.1-.9-2-2-2zM9 17H7v-7h2v7zm4 0h-2V7h2v10zm4 0h-2v-4h2v4z\"/>\n",
              "    </g>\n",
              "</svg>\n",
              "  </button>\n",
              "\n",
              "<style>\n",
              "  .colab-df-quickchart {\n",
              "      --bg-color: #E8F0FE;\n",
              "      --fill-color: #1967D2;\n",
              "      --hover-bg-color: #E2EBFA;\n",
              "      --hover-fill-color: #174EA6;\n",
              "      --disabled-fill-color: #AAA;\n",
              "      --disabled-bg-color: #DDD;\n",
              "  }\n",
              "\n",
              "  [theme=dark] .colab-df-quickchart {\n",
              "      --bg-color: #3B4455;\n",
              "      --fill-color: #D2E3FC;\n",
              "      --hover-bg-color: #434B5C;\n",
              "      --hover-fill-color: #FFFFFF;\n",
              "      --disabled-bg-color: #3B4455;\n",
              "      --disabled-fill-color: #666;\n",
              "  }\n",
              "\n",
              "  .colab-df-quickchart {\n",
              "    background-color: var(--bg-color);\n",
              "    border: none;\n",
              "    border-radius: 50%;\n",
              "    cursor: pointer;\n",
              "    display: none;\n",
              "    fill: var(--fill-color);\n",
              "    height: 32px;\n",
              "    padding: 0;\n",
              "    width: 32px;\n",
              "  }\n",
              "\n",
              "  .colab-df-quickchart:hover {\n",
              "    background-color: var(--hover-bg-color);\n",
              "    box-shadow: 0 1px 2px rgba(60, 64, 67, 0.3), 0 1px 3px 1px rgba(60, 64, 67, 0.15);\n",
              "    fill: var(--button-hover-fill-color);\n",
              "  }\n",
              "\n",
              "  .colab-df-quickchart-complete:disabled,\n",
              "  .colab-df-quickchart-complete:disabled:hover {\n",
              "    background-color: var(--disabled-bg-color);\n",
              "    fill: var(--disabled-fill-color);\n",
              "    box-shadow: none;\n",
              "  }\n",
              "\n",
              "  .colab-df-spinner {\n",
              "    border: 2px solid var(--fill-color);\n",
              "    border-color: transparent;\n",
              "    border-bottom-color: var(--fill-color);\n",
              "    animation:\n",
              "      spin 1s steps(1) infinite;\n",
              "  }\n",
              "\n",
              "  @keyframes spin {\n",
              "    0% {\n",
              "      border-color: transparent;\n",
              "      border-bottom-color: var(--fill-color);\n",
              "      border-left-color: var(--fill-color);\n",
              "    }\n",
              "    20% {\n",
              "      border-color: transparent;\n",
              "      border-left-color: var(--fill-color);\n",
              "      border-top-color: var(--fill-color);\n",
              "    }\n",
              "    30% {\n",
              "      border-color: transparent;\n",
              "      border-left-color: var(--fill-color);\n",
              "      border-top-color: var(--fill-color);\n",
              "      border-right-color: var(--fill-color);\n",
              "    }\n",
              "    40% {\n",
              "      border-color: transparent;\n",
              "      border-right-color: var(--fill-color);\n",
              "      border-top-color: var(--fill-color);\n",
              "    }\n",
              "    60% {\n",
              "      border-color: transparent;\n",
              "      border-right-color: var(--fill-color);\n",
              "    }\n",
              "    80% {\n",
              "      border-color: transparent;\n",
              "      border-right-color: var(--fill-color);\n",
              "      border-bottom-color: var(--fill-color);\n",
              "    }\n",
              "    90% {\n",
              "      border-color: transparent;\n",
              "      border-bottom-color: var(--fill-color);\n",
              "    }\n",
              "  }\n",
              "</style>\n",
              "\n",
              "  <script>\n",
              "    async function quickchart(key) {\n",
              "      const quickchartButtonEl =\n",
              "        document.querySelector('#' + key + ' button');\n",
              "      quickchartButtonEl.disabled = true;  // To prevent multiple clicks.\n",
              "      quickchartButtonEl.classList.add('colab-df-spinner');\n",
              "      try {\n",
              "        const charts = await google.colab.kernel.invokeFunction(\n",
              "            'suggestCharts', [key], {});\n",
              "      } catch (error) {\n",
              "        console.error('Error during call to suggestCharts:', error);\n",
              "      }\n",
              "      quickchartButtonEl.classList.remove('colab-df-spinner');\n",
              "      quickchartButtonEl.classList.add('colab-df-quickchart-complete');\n",
              "    }\n",
              "    (() => {\n",
              "      let quickchartButtonEl =\n",
              "        document.querySelector('#df-8395e5dc-8e77-46e5-bd21-8903079a9dcb button');\n",
              "      quickchartButtonEl.style.display =\n",
              "        google.colab.kernel.accessAllowed ? 'block' : 'none';\n",
              "    })();\n",
              "  </script>\n",
              "</div>\n",
              "    </div>\n",
              "  </div>\n"
            ]
          },
          "metadata": {},
          "execution_count": 16
        }
      ],
      "source": [
        "# we need just the two columns ('comment_text' and 'toxic')\n",
        "# drop duplicates and it'll include empty comments too\n",
        "# we do not need any of the columns with empty values (3 lines)\n",
        "# start of your code\n",
        "df = df[['comment_text', 'toxic']]\n",
        "df = df.drop_duplicates()\n",
        "df = df.dropna()\n",
        "# end of your code\n",
        "df.head()"
      ]
    },
    {
      "cell_type": "markdown",
      "metadata": {
        "id": "sio5PIMMgrrM"
      },
      "source": [
        "## Split Data\n",
        "Split Data into 3-Fold Training, Validation and tsting dataframes and save to memory for later use."
      ]
    },
    {
      "cell_type": "code",
      "execution_count": 17,
      "metadata": {
        "colab": {
          "base_uri": "https://localhost:8080/"
        },
        "id": "V6wcwySGgrrM",
        "outputId": "eb632a40-c165-43e4-e9e0-fa0c7f92fd38"
      },
      "outputs": [
        {
          "output_type": "stream",
          "name": "stdout",
          "text": [
            "train_df is of type DataFrame and is having a shape (95742, 2)\n"
          ]
        }
      ],
      "source": [
        "df,test_df = train_test_split(df,test_size=0.25,random_state=SEED,stratify=df['toxic'])\n",
        "# stratify tries to split in a manner that distribution of 'toxic' is same in both train and test\n",
        "\n",
        "train_df,val_df = train_test_split(df,test_size=0.20,random_state=SEED,stratify=df['toxic'])\n",
        "\n",
        "train_df.reset_index(drop=True),val_df.reset_index(drop=True), test_df.reset_index(drop=True)\n",
        "# split the data while preserving the type of the data. It preserves the original Index so you need to reset\n",
        "print(f'train_df is of type {type(train_df,).__name__} and is having a shape {train_df.shape}')\n",
        "\n",
        "# save the dataframes so that we can directly use those from disk by using PyTorch's modules\n",
        "train_df.to_csv('train.csv',index=False)\n",
        "val_df.to_csv('val.csv',index=False)\n",
        "test_df.to_csv('test.csv',index=False)"
      ]
    },
    {
      "cell_type": "markdown",
      "metadata": {
        "id": "8GIBnD8BgrrM"
      },
      "source": [
        "## Changing Structure\n",
        "Change the structure of data according to PyTorch's requirements"
      ]
    },
    {
      "cell_type": "code",
      "execution_count": 19,
      "metadata": {
        "id": "wkMlvVW6grrN"
      },
      "outputs": [],
      "source": [
        "text_field = Field(tokenize=word_tokenize)\n",
        "# tokenize text using word_tokenize and convert to numerical form using default parameters\n",
        "\n",
        "label_field = LabelField(dtype=torch.float)\n",
        "# useful for label string to LabelEncoding. Not useful here but doesn't hurt either\n",
        "\n",
        "fields = [('comment_text',text_field),('toxic',label_field)]\n",
        "# (column name,field object to use on that column) pair for the dictonary\n",
        "\n",
        "# use TabularDataset to split train, val and test (1 line)\n",
        "# start of your code\n",
        "train, val, test = TabularDataset.splits(path='/content/', train='train.csv', validation='val.csv', test='test.csv', format='csv', fields=fields, skip_header=True)\n",
        "# end of your code"
      ]
    },
    {
      "cell_type": "markdown",
      "metadata": {
        "id": "l9IKqlV5grrN"
      },
      "source": [
        "Let us explore that what exactly is in the `train`, `test`"
      ]
    },
    {
      "cell_type": "code",
      "execution_count": 20,
      "metadata": {
        "colab": {
          "base_uri": "https://localhost:8080/"
        },
        "id": "WI5VUMomgrrN",
        "outputId": "5ad07f79-8bfe-4319-d0ea-de6e1340a983"
      },
      "outputs": [
        {
          "output_type": "stream",
          "name": "stdout",
          "text": [
            "Type of \"train:\" <class 'torchtext.data.dataset.TabularDataset'>\n",
            " Length of \"train\": 95742\n",
            "\n",
            "Keys at index 31084 of \"train\": dict_keys(['comment_text', 'toxic'])\n",
            "\n",
            "Contents at random index:\n",
            " {'comment_text': ['Tobymac', 'Hey', ',', 'this', 'K.O', '.', 'what', \"'s\", 'up', '?', 'I', 'really', 'need', 'your', 'help', '.', 'The', 'Tobymac', 'page', 'needs', 'some', 'major', 'editing', '.', 'The', 'page', 'has', 'basically', 'no', 'info', 'on', 'Toby', 'and', 'his', 'musical', 'career', '.', 'I', 'was', 'wondering', 'if', 'you', 'could', 'help', 'me', 'fix', 'the', 'Tobymac', 'page', 'in', 'any', 'way', 'that', 'you', 'can', '.', 'If', 'you', 'need', 'any', 'Tobymac', 'info', 'just', 'ask', 'and', 'I', 'am', 'pretty', 'sure', 'I', 'can', 'give', 'it', 'to', 'you', 'Please', 'respond', 'asap', '.'], 'toxic': '0'}\n"
          ]
        }
      ],
      "source": [
        "print(f'Type of \"train:\" {type(train)}\\n Length of \"train\": {len(train)}\\n' )\n",
        "i = random.randint(0,len(train)) # generate a random index  within the lenth of train\n",
        "print(f'Keys at index {i} of \"train\": {train[i].__dict__.keys()}\\n')\n",
        "print(\"Contents at random index:\\n\",vars(train.examples[i]))\n",
        "# vars is used to see the whole dictonary when the classes or modules have __dict__() used"
      ]
    },
    {
      "cell_type": "markdown",
      "metadata": {
        "id": "43iV81BrgrrN"
      },
      "source": [
        "## Build Vocab\n",
        "out of 85000000 words, we choose to have just 100000 `UNIQUE` words to build a vocab. Words that are not a part of our vocab will be represented by specialised token, let's assume `<unk>`. There will be 1 extra token apart from `<unk>` and that'll be padding token `<pad>` ."
      ]
    },
    {
      "cell_type": "code",
      "execution_count": 21,
      "metadata": {
        "id": "Fw6fnL8bgrrN"
      },
      "outputs": [],
      "source": [
        "text_field.build_vocab(train,max_size=100000)\n",
        "label_field.build_vocab(train)\n",
        "\n",
        "# words are stored as integers withn the vocab for internal data structure handling.\n",
        "# let us look at the {'word':respective_integer} of first 15\n",
        "# this is just pure python code to get first N elements from a a dictonary, as a dictonary (1 line)\n",
        "N = 15\n",
        "# start of your code\n",
        "firstN = dict(list(text_field.vocab.stoi.items())[:N])\n",
        "# end of your code"
      ]
    },
    {
      "cell_type": "code",
      "source": [
        "print(firstN)"
      ],
      "metadata": {
        "colab": {
          "base_uri": "https://localhost:8080/"
        },
        "id": "em4GMpqQDVHc",
        "outputId": "1113b62d-df6b-44b8-b223-9fd827f6e1a0"
      },
      "execution_count": 22,
      "outputs": [
        {
          "output_type": "stream",
          "name": "stdout",
          "text": [
            "{'<unk>': 0, '<pad>': 1, '.': 2, ',': 3, 'the': 4, 'to': 5, \"''\": 6, 'of': 7, 'I': 8, 'and': 9, 'a': 10, 'you': 11, 'is': 12, '``': 13, 'that': 14}\n"
          ]
        }
      ]
    },
    {
      "cell_type": "code",
      "execution_count": 23,
      "metadata": {
        "colab": {
          "base_uri": "https://localhost:8080/"
        },
        "id": "zgBeE_2sgrrO",
        "outputId": "012a7724-ae74-4d44-9b19-b3bb079af5cd"
      },
      "outputs": [
        {
          "output_type": "stream",
          "name": "stdout",
          "text": [
            "Most common 15 words in the vocab are: [('.', 301202), (',', 283170), ('the', 270901), ('to', 175726), (\"''\", 145097), ('of', 132634), ('I', 132308), ('and', 127387), ('a', 122779), ('you', 108274), ('is', 105155), ('``', 93541), ('that', 91215), ('in', 80271), ('it', 74466)]\n"
          ]
        }
      ],
      "source": [
        "print(f\"Most common 15 words in the vocab are: {text_field.vocab.freqs.most_common(15)}\")\n",
        "# integers i int the second part of each tuples are the frequencies of words in the vocab. They show that how many\n",
        "# number of times this specific word has apprered in the whole training data set"
      ]
    },
    {
      "cell_type": "markdown",
      "metadata": {
        "id": "LxXdmnAIgrrO"
      },
      "source": [
        "## BucketIterator\n",
        "`BucketIterator` is very useful for text processing because it returns the batch of texts which have almost same length. <font color='cornflowerblue'>As we know that while calculating gradients during the BPTT, the gradients are calculated to the whole length of text</font> and because <font color='coral'>we always calculate the gradients on the batches but not on an individual example to speed up the process, we'll have to pad the short length texts</font>. So the `BatchIterator` minimizes the hassle by making a batch which has all of the texts of same length more or less."
      ]
    },
    {
      "cell_type": "code",
      "execution_count": 24,
      "metadata": {
        "id": "6NdrgDMRgrrO"
      },
      "outputs": [],
      "source": [
        "train_iter, val_iter, test_iter = BucketIterator.splits((train,val,test), batch_sizes=(32,128,128),\n",
        "                                              sort_key=lambda x: len(x.comment_text),\n",
        "                                              sort_within_batch=False,\n",
        "                                              device=device) # use the cuda device if available"
      ]
    },
    {
      "cell_type": "markdown",
      "metadata": {
        "id": "z8zLz1vFgrrO"
      },
      "source": [
        "# Build Model\n",
        "We'll build a class based model. Bes thing about PyTorch is that first of al it Dynamic in nature and scondly it is very close to the Neural Networks as you have to pass in the in,out and all the parameters. In case you are looking at the `PyTorch` the very first time, I'll highly recommend you to go and [check this notebook](https://www.kaggle.com/deshwalmahesh/pytorch-detailed-tutorial-for-beginners-using-cnn) which is dedicated towards the working of `PyTorch` and provides in depth knowledge.\n",
        "\n",
        "I hope you have been through the tutorials and know about the all the layers and structure. One thing that the notebook does not cover in that tutorial is `Embedding Layer`.\n",
        "\n",
        "**From the `PyTorch's` documentation:**\n",
        "\n",
        "<font color='coral'>A simple lookup table that stores embeddings of a fixed dictionary and size.\n",
        "    \n",
        "This module is often used to store word embeddings and retrieve them using indices. The input to the module is a list of indices, and the output is the corresponding word embeddings.</font></br>\n",
        "\n",
        "Before we want to give you a definition of that, let us look at a scenario:\n",
        "\n",
        "What if I ask you that what is common between `Eminem` and `Kanye`? Those who have something to do with Music will describe the features as the most accurately as `Rappers`. Those who have no knowledge of those but know there are English names, they'll describe that `Male English Names`. Those with just basic names will describe `English Words`. So like this, we have 3 features in our hand for 2 different attributes. What if I ask that what is difference between a `plastic bag` and `6ix9ine`??? You have no idea what that can be. You can't tell that both tend to have `garbage mostly`  until yov've seen the workings of both. This is exactly what we call `Embeddings` or `Latent Features`. Our Model can generate `K` new features from the existing `N` features in the data so that the model can learn from the hidden features insted of those original features. So if we train on the `lyrics of 6ix9ne`, `essays about garbage`, `Eminem biography` etc etc, it'll tend to put the first 2 in the category of `trash` and the last one as `legend` even if the computer has no knowledge about what just happed. I Guess my model is more intelligent and has better music taste than many people out there ;)\n",
        "\n",
        "**<font color='#2ef90'>Word embeddings are a type of word representation that allows words with similar meaning to have a similar representation.</font>**\n",
        "\n",
        "**<font color='red'>NOTE: While looking at the structure, please ignore the `LSTM` for now. Structure is almost same for both `RNN` and `LSTM` in `PyTorch` but working is different. To save the hassle of re-designing the network, I have used `if-else` statement. Later, I'll be talking about the LSTM too.</font>**"
      ]
    },
    {
      "cell_type": "code",
      "execution_count": 31,
      "metadata": {
        "id": "HxJHlGdZgrrO"
      },
      "outputs": [],
      "source": [
        "class Network(torch.nn.Module):\n",
        "    '''\n",
        "    It inherits the functionality of Module class from torch.nn whic includes al the layers, weights, grads setup\n",
        "    and methods to calculate the same. We just need to put in the required layers and describe the flows as\n",
        "    which layers comes after which one\n",
        "    '''\n",
        "\n",
        "    def __init__(self,in_neuron,embedding_dim=128,hidden_size=256,out_neuron=1,m_type='rnn',drop=0.53,**kwargs):\n",
        "        '''\n",
        "        Constructor of the class which will instantiate the layers while initialisation.\n",
        "\n",
        "        NOTE: Order of the layer defined here has nothing to do wit hthe working. Just like we can define Drouout()\n",
        "        layer anywhere in ithe init() but actual working depends on the forward() method  as well as the input\n",
        "        and output shapes. You should be aware of the in,out shapes as the mismatch can produce error.\n",
        "\n",
        "        args:\n",
        "            in_neuron: input dimensions of the first layer {int}\n",
        "            embedding_dim: number of latent features you want to calculate from the input data {int} default=128\n",
        "            hidden_size: neurons you want to have in your hidden RNN layer {int} default=256\n",
        "            out_neuron: number of outputs you want to have at the end.{int} default=1\n",
        "            model: whether to use 'rnn' or 'lstm' {string}\n",
        "            drop: proportion of values to dropout from the previous values randomly {float 0-1} default=0.53\n",
        "            **kwargs: any torch.nn.RNN or torch.nn.LSTM args given m_type='rnn' or'lstm' {dict}\n",
        "        out:\n",
        "            return a tensor of shape {batch,out_neuron} as output\n",
        "        '''\n",
        "        super(Network,self).__init__() # call the constructor of Base Class\n",
        "        self.m_type = m_type\n",
        "\n",
        "        # embedding layer is always the first layer (1 line)\n",
        "        # start of your code\n",
        "        self.embedding = nn.Embedding(num_embeddings=in_neuron, embedding_dim=embedding_dim)\n",
        "        # end of your code\n",
        "\n",
        "        # whether to use the LSTM type model or the RNN type model. It'll use only 1 in forward()\n",
        "        # Note: Don't forget to pass them kwargs (3 lines)\n",
        "        # start of your code\n",
        "        if self.m_type == 'lstm':\n",
        "            self.lstm = nn.LSTM(input_size=embedding_dim, hidden_size=hidden_size, **kwargs)\n",
        "        elif self.m_type == 'gru':\n",
        "            self.gru = nn.GRU(input_size=embedding_dim, hidden_size=hidden_size, **kwargs)\n",
        "        else:\n",
        "            self.rnn = nn.RNN(input_size=embedding_dim, hidden_size=hidden_size, **kwargs)\n",
        "        # end of your code\n",
        "\n",
        "        # drop the values by random which comes from previous layer and last fully connected layer (2 lines)\n",
        "        # start of your code\n",
        "        self.dropout = nn.Dropout(p=drop)\n",
        "\n",
        "        self.dense = nn.Linear(hidden_size, out_neuron)\n",
        "        # end of your code\n",
        "\n",
        "    def forward(self,t):\n",
        "        '''\n",
        "        Activate the forward propagation of a batch at a time to transform the input bath of tensors through\n",
        "        the different layers to get an out which then will be compared to original label for computing loss.\n",
        "        args:\n",
        "            t: tensors in the form of a batch {torch.tensor}\n",
        "        '''\n",
        "        # Step:1 pass the incoming tensor to the first layer to get embeddings (1 line)\n",
        "        # start of your code\n",
        "        embedding_t = self.embedding(t)\n",
        "        # end of your code\n",
        "\n",
        "        # Step 2: Apply dropout\n",
        "        # start of your code\n",
        "        drop_emb = self.dropout(embedding_t)\n",
        "        # end of your code\n",
        "\n",
        "        # Step 3: Get hidden state and output. It'll use either LSTM or gru or RNN (3 lines)\n",
        "        # Note: shape of rnn_out = (seq_len, batch, num_directions * hidden_size)\n",
        "        # start of your code\n",
        "        if self.m_type == 'lstm':\n",
        "            out, (hidden_state,_) = self.lstm(drop_emb)\n",
        "        elif self.m_type == 'gru':\n",
        "            out, hidden_state = self.gru(drop_emb)\n",
        "        else:\n",
        "            out, hidden_state = self.rnn(drop_emb)\n",
        "        # end of your code\n",
        "\n",
        "        # Step 4: Remove the extra axis from Hidden State (1 line)\n",
        "        # Note: shape of hidden_state = (num_layers * num_directions, batch, hidden_size) = (1*1,b,h) so extra 1 layer\n",
        "        # start of your code\n",
        "        hidden_squeezed = hidden_state.squeeze(0)\n",
        "        # end of your code\n",
        "\n",
        "        # Step 5: Assert to check. if failed, AssertionError error will be thrown\n",
        "        assert torch.equal(out[-1,:,:],hidden_squeezed)\n",
        "        # out_rnn is concatenation of hidden states so squeezed hidden and last value of out_rnn should be equal\n",
        "\n",
        "        # Step 6: Pass the \"last\" hidden state only because we only want 1 output based on the last hidden state\n",
        "        return self.dense(hidden_squeezed) # these are not the probabilities. We still need to use an activation"
      ]
    },
    {
      "cell_type": "markdown",
      "metadata": {
        "id": "6dGIx8dAgrrP"
      },
      "source": [
        "# Train Model"
      ]
    },
    {
      "cell_type": "code",
      "execution_count": 28,
      "metadata": {
        "id": "bQV2WLUdgrrP"
      },
      "outputs": [],
      "source": [
        "def train_network(network,train_iter,optimizer,loss_fn,epoch_num):\n",
        "    '''\n",
        "    train the network using given parameters\n",
        "    args:\n",
        "        network: any Neural Network object\n",
        "        train_batch: iterator of training data\n",
        "        optimizer: optimizer for gradients calculation and updation\n",
        "        loss_fn: appropriate loss function\n",
        "        epoch_num = Epoch number so that it can show which epoch number in tqdm Bar\n",
        "    out:\n",
        "        a tuple of (average_loss,average_accuracy) of floating values for a single epoch\n",
        "    '''\n",
        "    epoch_loss = 0 # loss per epoch\n",
        "    epoch_acc = 0 # accuracy per epoch\n",
        "\n",
        "    network.train() # set the model in training mode as it requires gradients calculation and updtion\n",
        "    # turn off while testing using  model.eval() and torch.no_grad() block\n",
        "\n",
        "    for batch in tqdm(train_iter,f\"Epoch: {epoch_num}\"):\n",
        "        # data will be shown to model in batches per epoch to calculate gradients per batch\n",
        "        # step 1: clear all the calculated grdients from previous step\n",
        "        # step 2: squeeze out the extra dimension [batch_size,1]\n",
        "        # step 3: calculate loss on the whole batch\n",
        "        # step 4: sigmoid will convert each output value (which is a single float value for each sentence in batch)\n",
        "        # to probability between {0,1}. round is nothing but setting the threshold at 0.5 that if probability\n",
        "        # is greater than 0.5, it belongs to one class and if it is less than 0.5, it belongs to other\n",
        "        # step 5: get a floating tensors of predicted classes  which match original true class\n",
        "        # step 6: calculate acc\n",
        "        # step 7: Start Back Propagation so that model can calculate gradients based on loss\n",
        "        # step 8: update the weights based on gradient corresponding to each neuron\n",
        "        # step 9: add the loss for this batch to calculate the loss for whole epoch\n",
        "        # step 10: add the acc for this batch to calculate the acc for whole epoch (10 lines)\n",
        "\n",
        "        # start of your code\n",
        "        optimizer.zero_grad()\n",
        "\n",
        "        predictions = network(batch.comment_text).squeeze(1)\n",
        "\n",
        "        loss = loss_fn(predictions, batch.toxic)\n",
        "\n",
        "        preds = torch.round(torch.sigmoid(predictions))\n",
        "\n",
        "        correct = (preds == batch.toxic).float()\n",
        "\n",
        "        acc = correct.sum() / len(correct)\n",
        "\n",
        "        loss.backward()\n",
        "\n",
        "        optimizer.step()\n",
        "\n",
        "        epoch_loss += loss.item()\n",
        "\n",
        "        epoch_acc += acc.item()\n",
        "        # end of your code\n",
        "\n",
        "        time.sleep(0.001) # for tqdm progess bar\n",
        "\n",
        "    return epoch_loss/len(train_iter), epoch_acc/len(train_iter)"
      ]
    },
    {
      "cell_type": "code",
      "execution_count": 29,
      "metadata": {
        "id": "oi5VOBxegrrP"
      },
      "outputs": [],
      "source": [
        "def evaluate_network(network,val_test_iter,optimizer,loss_fn):\n",
        "    '''\n",
        "    evaluate the network using given parameters\n",
        "    args:\n",
        "        network: any Neural Network object\n",
        "        val_test_iter: iterator of validation/test data\n",
        "        optimizer: optimizer for gradients calculation and updation\n",
        "        loss_fn: appropriate loss function\n",
        "    out:\n",
        "        a tuple of (average_loss,average_accuracy) of floating values for the incoming dataset\n",
        "    '''\n",
        "    total_loss = 0  # total loss for the whole incoming data\n",
        "    total_acc = 0 # total accuracy for the whole data\n",
        "\n",
        "    network.eval() # set the model in evaluation mode to not compute gradients and reduce overhead\n",
        "\n",
        "    with torch.no_grad(): # turn of gradients calculation\n",
        "\n",
        "        for batch in val_test_iter:\n",
        "            # step 1: squeeze out the extra dimension [batch_size,1]\n",
        "            # step 2: calculate loss on the whole batch\n",
        "            # step 3: sigmoid will convert each output value (which is a single float value for each sentence in batch)\n",
        "            # to probability between {0,1}. round is nothing but setting the threshold at 0.5 that if probability\n",
        "            # is greater than 0.5, it belongs to one class and if it is less than 0.5, it belongs to other\n",
        "            # step 4: get a floating tensors of predicted classes  which match original true class\n",
        "            # step 5: calculate acc\n",
        "            # step 6: add the loss for this batch to calculate the loss for whole epoch\n",
        "            # step 7: add the acc for this batch to calculate the acc for whole epoch (7 lines)\n",
        "\n",
        "            # start of your code\n",
        "            predictions = network(batch.comment_text).squeeze(1)\n",
        "\n",
        "            loss = loss_fn(predictions, batch.toxic)\n",
        "\n",
        "            preds = torch.round(torch.sigmoid(predictions))\n",
        "\n",
        "            correct = (preds == batch.toxic).float()\n",
        "\n",
        "            acc = correct.sum() / len(correct)\n",
        "\n",
        "            total_loss += loss.item()\n",
        "\n",
        "            total_acc += acc.item()\n",
        "            # end of your code\n",
        "\n",
        "        return total_loss/len(val_test_iter), total_acc/len(val_test_iter)"
      ]
    },
    {
      "cell_type": "markdown",
      "metadata": {
        "id": "JJF8hWiPgrrP"
      },
      "source": [
        "## RNN\n",
        "We'll train our RNN First"
      ]
    },
    {
      "cell_type": "code",
      "execution_count": 32,
      "metadata": {
        "id": "JhilqswNgrrP",
        "colab": {
          "base_uri": "https://localhost:8080/",
          "height": 67,
          "referenced_widgets": [
            "98e58d637a564566bfb634981fc4525e",
            "bcb0efc79d9449e594a94c89d55f4ac0",
            "b6c2c512ba0140418173118df0a80a9a",
            "faf7bb01f6164c59838611037db78d48",
            "0ba94dd1609c4b8a801599a08f074e35",
            "13d26768cdf240fb96288f6f92925f5a",
            "4f12deecf7f849598e01c05622e75e6e",
            "ad996ee4d6eb4fe18897bd2419d1af7f",
            "29db6c9fb365400fb467fcb20e203714",
            "e05fa4cf0d734d54ae77af99133a4717",
            "fd929bce2fae49df9ec067896575ffbc"
          ]
        },
        "outputId": "1eb87e35-1316-43d6-8775-63a9b66fa039"
      },
      "outputs": [
        {
          "output_type": "display_data",
          "data": {
            "text/plain": [
              "Epoch: 1:   0%|          | 0/2992 [00:00<?, ?it/s]"
            ],
            "application/vnd.jupyter.widget-view+json": {
              "version_major": 2,
              "version_minor": 0,
              "model_id": "98e58d637a564566bfb634981fc4525e"
            }
          },
          "metadata": {}
        },
        {
          "output_type": "stream",
          "name": "stdout",
          "text": [
            "End of Epoch: 1  |  Train Loss: 0.319  |  Val Loss: 0.328  |  Train Acc: 90.36%  |  Val Acc: 89.46%\n"
          ]
        }
      ],
      "source": [
        "in_neuron = len(text_field.vocab)\n",
        "lr = 3e-4 # learning rate = 0.0003\n",
        "\n",
        "network = Network(in_neuron) # instantiate the RNN object. other parameters remain default\n",
        "if torch.cuda.is_available():\n",
        "    network.cuda() # activate GPU spport\n",
        "\n",
        "optimizer = torch.optim.Adam(network.parameters(),lr=lr) # use Adam Optimizer\n",
        "loss_fn = torch.nn.BCEWithLogitsLoss() # Sigmoid activation with Binary Cross Entropy loss. This is more\n",
        "# numerically stable than using a plain Sigmoid followed by a BCELoss as, by combining the operations into one\n",
        "# layer,we take advantage of the log-sum-exp trick for numerical stability\n",
        "\n",
        "for epoch in range(EPOCH):\n",
        "    train_loss, train_acc = train_network(network,train_iter,optimizer,loss_fn,epoch+1)\n",
        "    val_loss,val_acc = evaluate_network(network,val_iter,optimizer,loss_fn)\n",
        "    tqdm.write(f'''End of Epoch: {epoch+1}  |  Train Loss: {train_loss:.3f}  |  Val Loss: {val_loss:.3f}  |  Train Acc: {train_acc*100:.2f}%  |  Val Acc: {val_acc*100:.2f}%''')"
      ]
    },
    {
      "cell_type": "markdown",
      "metadata": {
        "id": "t_Dg-f_HbxhX"
      },
      "source": [
        "## GRU"
      ]
    },
    {
      "cell_type": "code",
      "execution_count": 33,
      "metadata": {
        "id": "-WIsh5Oyb0wR",
        "colab": {
          "base_uri": "https://localhost:8080/",
          "height": 67,
          "referenced_widgets": [
            "ce6feb2347e4442690def60d33cb4ad5",
            "67f558753a884a5ca613b40005d0d80b",
            "2f81f12a44a645ec85c8d31aeb990642",
            "7d6cac0102344a4486f731b7747d742b",
            "6375d698d06949c7ae7371a868959f02",
            "6448743557c94ba69d99f9fb9230577e",
            "0ef6400b29b54702b5f94d278475e3e3",
            "744ff875b9834104a59fee1273aa0bc4",
            "4f6b2172b6ec4230827a6405d5c46157",
            "9bb2c84500b841afb3ceb40066b929a0",
            "d0baa0a040174f5fa7ca417b7df91a0a"
          ]
        },
        "outputId": "17b32d95-76a3-4559-dda6-7ccab75f92f4"
      },
      "outputs": [
        {
          "output_type": "display_data",
          "data": {
            "text/plain": [
              "Epoch: 1:   0%|          | 0/2992 [00:00<?, ?it/s]"
            ],
            "application/vnd.jupyter.widget-view+json": {
              "version_major": 2,
              "version_minor": 0,
              "model_id": "ce6feb2347e4442690def60d33cb4ad5"
            }
          },
          "metadata": {}
        },
        {
          "output_type": "stream",
          "name": "stdout",
          "text": [
            "End of Epoch: 1  |  Train Loss: 0.702  |  Val Loss: 0.695  |  Train Acc: 44.55%  |  Val Acc: 45.16%\n"
          ]
        }
      ],
      "source": [
        "network = Network(in_neuron,m_type='gru')\n",
        "\n",
        "if torch.cuda.is_available():\n",
        "    network.cuda() # activate GPU spport\n",
        "\n",
        "# optimizer and losses remains the same\n",
        "\n",
        "for epoch in range(EPOCH):\n",
        "    train_loss, train_acc = train_network(network,train_iter,optimizer,loss_fn,epoch+1)\n",
        "    val_loss,val_acc = evaluate_network(network,val_iter,optimizer,loss_fn)\n",
        "    tqdm.write(f'''End of Epoch: {epoch+1}  |  Train Loss: {train_loss:.3f}  |  Val Loss: {val_loss:.3f}  |  Train Acc: {train_acc*100:.2f}%  |  Val Acc: {val_acc*100:.2f}%''')"
      ]
    },
    {
      "cell_type": "markdown",
      "metadata": {
        "id": "Whsh59_0grrQ"
      },
      "source": [
        "## LSTM\n",
        "LSTM is a specialised version of RNN which has 4 Gates. Instead of updating the states by using the the previous values in RNN, these 4 gates together do the following tasks:\n",
        "1. Which Information is valuable\n",
        "2. Which information we have to keep\n",
        "3. Which information we have to forget\n",
        "4. Which information will be used to update the state\n",
        "5. Which information has become obsolete and we have to forget it"
      ]
    },
    {
      "cell_type": "code",
      "execution_count": 34,
      "metadata": {
        "id": "mOJr-ZLdgrrQ",
        "colab": {
          "base_uri": "https://localhost:8080/",
          "height": 67,
          "referenced_widgets": [
            "8a7632b972ca49159697b5c4f5a0bdfb",
            "e22082efe072409996a663e55533e4fe",
            "655e268b4e40432d812a63a4666d0ab3",
            "64ecee6d1f1e4df69b6d42e916362ae5",
            "2c3006c2adbb462fa403bdfa1bc4d572",
            "d531bc1f15ae4f7d88385b6ab3f67dd2",
            "5e546d1ae77147eca59aa7a975a94156",
            "1de7dbb8f2d440b8be2ad95625e63c25",
            "c7fbf70d264c4e028ebb04280d04cab3",
            "0cd7998391f54979aa62b69f38fbc0e5",
            "9f307b64d9384ea5b94475c2f927013e"
          ]
        },
        "outputId": "795ade11-3ae1-4e04-a6a4-bfcc2b8d578f"
      },
      "outputs": [
        {
          "output_type": "display_data",
          "data": {
            "text/plain": [
              "Epoch: 1:   0%|          | 0/2992 [00:00<?, ?it/s]"
            ],
            "application/vnd.jupyter.widget-view+json": {
              "version_major": 2,
              "version_minor": 0,
              "model_id": "8a7632b972ca49159697b5c4f5a0bdfb"
            }
          },
          "metadata": {}
        },
        {
          "output_type": "stream",
          "name": "stdout",
          "text": [
            "End of Epoch: 1  |  Train Loss: 0.760  |  Val Loss: 0.713  |  Train Acc: 10.99%  |  Val Acc: 30.36%\n"
          ]
        }
      ],
      "source": [
        "network = Network(in_neuron,m_type='lstm')\n",
        "\n",
        "if torch.cuda.is_available():\n",
        "    network.cuda() # activate GPU spport\n",
        "\n",
        "# optimizer and losses remains the same\n",
        "\n",
        "for epoch in range(EPOCH):\n",
        "    train_loss, train_acc = train_network(network,train_iter,optimizer,loss_fn,epoch+1)\n",
        "    val_loss,val_acc = evaluate_network(network,val_iter,optimizer,loss_fn)\n",
        "    tqdm.write(f'''End of Epoch: {epoch+1}  |  Train Loss: {train_loss:.3f}  |  Val Loss: {val_loss:.3f}  |  Train Acc: {train_acc*100:.2f}%  |  Val Acc: {val_acc*100:.2f}%''')"
      ]
    },
    {
      "cell_type": "markdown",
      "metadata": {
        "id": "U3JLXR6ggrrQ"
      },
      "source": [
        "# Bidirectional RNN/ LSTM\n",
        "These are specialised version of RNN which not only look at the past but the future too. Means instead of looking at 1 word at time, they look at two words but in opposite direction. Don't worry, let us try to see with an example. Suppose we have sentence `Shady Records not shady plans`. In the birdirectional structure, we'll ave 2 `pipelines` (RNN Cells) working in different direction. First will be like a simple RNN reading words `H0` + `Shady` -> `H1` -> `H1`+ Records -> `H2` and so on .... In the same time, there will be another RNN cells working backwards in the same way.. They'll be Doing `H_0` + `plans` -> `H_1` -> `H_1` + `shady` -> `H_2` and so on..... So in this way, the first output at time step `T0` will be a combination of both **First Hidden State from One Pipeline + Last Hidden State from Second Line**. And for the Last Time stem `Tn`, it'll be **Last Hidden State of one Pipeline + First Hidden State of Second Pipeline**. In this way, it'll calculate First to last and last to first states simultaneously. So the two hidden states will updted by not just past but Future too.\n",
        "\n",
        "**This is helpful in predictions where the Past is dependent on the future**. Such as in cases where we have to predict \"it ___ that's why I had an umbrella with me\""
      ]
    },
    {
      "cell_type": "markdown",
      "metadata": {
        "id": "kzz8S-AVgrrQ"
      },
      "source": [
        "## Multi Layer (Deep) RNN\n",
        "In this type of RNN, we can have `RNN/LSTM/GRU` cells not only giving Hidden States to cells to their right(Uni directional) but to cell that is above to them. We can see that like two boxes stacked over two boxes. So any cell at time T, not only uses the Hidden state from the cells before it but from the cells below it too. SO any output would then be a function of `2 hidden states and the inputs` **For a two layered** architecture.\n",
        "\n",
        "YOu can learn more about Deep RNNs by visiting [this Youtube link](https://www.youtube.com/watch?v=U7wN1x8zsG8&t=0s)\n",
        "\n",
        "**<font color='red'>NOTE: We can use Bidirectional with Stacked to have a very powerfulNetwork. In this setup, each cell will be having 3 different `Hidden States` each from left,right and below cell</font>**"
      ]
    },
    {
      "cell_type": "markdown",
      "metadata": {
        "id": "GC28OyU4grrQ"
      },
      "source": [
        "## Build Deep Bi-Directional RNN"
      ]
    },
    {
      "cell_type": "code",
      "execution_count": 35,
      "metadata": {
        "id": "k8jHXGpLgrrQ"
      },
      "outputs": [],
      "source": [
        "class DeepNetwork(torch.nn.Module):\n",
        "    '''\n",
        "    Deep RNN Network which can have either one both of stacked and bi-directional properties\n",
        "    '''\n",
        "\n",
        "    def __init__(self,in_neuron,embedding_dim=100,hidden_size=256,out_neuron=1,m_type='rnn',drop=0.53,**kwargs):\n",
        "        '''\n",
        "        Constructor of the class which will instantiate the layers while initialisation.\n",
        "\n",
        "        args:\n",
        "            in_neuron: input dimensions of the first layer {int}\n",
        "            embedding_dim: number of latent features you want to calculate from the input data {int} default=100\n",
        "            hidden_size: neurons you want to have in your hidden RNN layer {int} default=256\n",
        "            out_neuron: number of outputs you want to have at the end.{int} default=1\n",
        "            model: whether to use 'rnn','lstm' or 'gru' {string}\n",
        "            drop: proportion of values to dropout from the previous values randomly {float 0-1} default=0.53\n",
        "            **kwargs: any valid torch.nn.RNN, torch.nn.LSTM or torch.nn.GRU args with either 'bidirectional'=True\n",
        "                      or 'num_layers'>1\n",
        "        out:\n",
        "            return a tensor of shape {batch,out_neuron} as output\n",
        "        '''\n",
        "        super(DeepNetwork,self).__init__()\n",
        "\n",
        "        self.m_type = m_type\n",
        "\n",
        "        # embedding layer is always the first layer (1 line)\n",
        "        # start of your code\n",
        "        self.embedding = nn.Embedding(num_embeddings=in_neuron, embedding_dim=embedding_dim)\n",
        "        # end of your code\n",
        "\n",
        "        # whether to use the LSTM type model or the RNN type model. It'll use only 1 in forward()\n",
        "        # Note: Don't forget to pass them kwargs (3 lines)\n",
        "        # start of your code\n",
        "        if self.m_type == 'lstm':\n",
        "            self.lstm = nn.LSTM(input_size=embedding_dim, hidden_size=hidden_size, **kwargs)\n",
        "        elif self.m_type == 'gru':\n",
        "            self.gru = nn.GRU(input_size=embedding_dim, hidden_size=hidden_size, **kwargs)\n",
        "        else:\n",
        "            self.rnn = nn.RNN(input_size=embedding_dim, hidden_size=hidden_size, **kwargs)\n",
        "        # end of your code\n",
        "\n",
        "        # drop the values by random which comes from previous layer and last fully connected layer (2 lines)\n",
        "        # Note: Last output Linear Layer will have the two Hidden States from both the directions to have the result\n",
        "        # start of your code\n",
        "        self.dropout = nn.Dropout(p=drop)\n",
        "\n",
        "        self.dense = nn.Linear(hidden_size * 2, out_neuron)\n",
        "        # end of your code\n",
        "\n",
        "    def forward(self,t):\n",
        "        '''\n",
        "        Activate the forward propagation\n",
        "        args:\n",
        "            t: tensors in the form of a batch {torch.tensor}\n",
        "        '''\n",
        "        # Step:1 get embeddings and dropout (1 line)\n",
        "        # start of your code\n",
        "        embedding_t = self.dropout(self.embedding(t))\n",
        "        # end of your code\n",
        "\n",
        "        # Step 2: Get hidden state and output. It'll use either LSTM or gru or RNN (3 lines)\n",
        "        # Note: shape of rnn = (seq_len, batch, num_directions * hidden_size)\n",
        "        # start of your code\n",
        "        if self.m_type == 'lstm':\n",
        "            out, (hidden_state,_) = self.lstm(embedding_t)\n",
        "        elif self.m_type == 'gru':\n",
        "            out, hidden_state = self.gru(embedding_t)\n",
        "        else:\n",
        "            out, hidden_state = self.rnn(embedding_t)\n",
        "        # end of your code\n",
        "\n",
        "        # Step 3: Concatenate the last and second last hidden. One is from backward and one is from forward (1 line)\n",
        "        # start of your code\n",
        "        t = torch.cat((hidden_state[-2, :, :], hidden_state[-1, :, :]), dim=1)\n",
        "        # end of your code\n",
        "\n",
        "        return self.dense(t)"
      ]
    },
    {
      "cell_type": "markdown",
      "metadata": {
        "id": "bvVfPWwRgrrR"
      },
      "source": [
        "## Train and Evaluate"
      ]
    },
    {
      "cell_type": "code",
      "execution_count": 37,
      "metadata": {
        "id": "vpa6t1l0grrV",
        "colab": {
          "base_uri": "https://localhost:8080/",
          "height": 67,
          "referenced_widgets": [
            "bd54f334bc1f4cfeace5785f2660a506",
            "54321366abee4a1595fb98ca102ed540",
            "414fd2425eb64680a6b83fd4020047e9",
            "d1b0af611ba243008a133952f3ec1fbd",
            "17b3963de9934bdab97a2f60ff2ebbdd",
            "4cfe5a925cf84f41acbc84d90cd27e52",
            "0b83f76d53514fa0853920311ca94494",
            "38ad1e61f7e344d3b0c98fb7ed790e6d",
            "cb7fd1ad4cf340289db595a1b7542fa8",
            "599b150d55c64b87a12dd9158ebd65ab",
            "0e0d78d8022b43f89114bc2acf25556f"
          ]
        },
        "outputId": "c773b407-6e44-4c7a-9855-7df943fbe9b6"
      },
      "outputs": [
        {
          "output_type": "display_data",
          "data": {
            "text/plain": [
              "Epoch: 1:   0%|          | 0/2992 [00:00<?, ?it/s]"
            ],
            "application/vnd.jupyter.widget-view+json": {
              "version_major": 2,
              "version_minor": 0,
              "model_id": "bd54f334bc1f4cfeace5785f2660a506"
            }
          },
          "metadata": {}
        },
        {
          "output_type": "stream",
          "name": "stdout",
          "text": [
            "End of Epoch: 1  |  Train Loss: 0.709  |  Val Loss: 0.693  |  Train Acc: 45.07%  |  Val Acc: 51.50%\n"
          ]
        }
      ],
      "source": [
        "rnn_kwargs = {'num_layers':2,'bidirectional':True}\n",
        "in_neuron = len(text_field.vocab)\n",
        "\n",
        "network = DeepNetwork(in_neuron,m_type='rnn',**rnn_kwargs)\n",
        "\n",
        "if torch.cuda.is_available():\n",
        "    network.cuda() # activate GPU spport\n",
        "\n",
        "# optimizer and losses remains the same\n",
        "\n",
        "for epoch in range(EPOCH):\n",
        "    train_loss, train_acc = train_network(network,train_iter,optimizer,loss_fn,epoch+1)\n",
        "    val_loss,val_acc = evaluate_network(network,val_iter,optimizer,loss_fn)\n",
        "    tqdm.write(f'''End of Epoch: {epoch+1}  |  Train Loss: {train_loss:.3f}  |  Val Loss: {val_loss:.3f}  |  Train Acc: {train_acc*100:.2f}%  |  Val Acc: {val_acc*100:.2f}%''')"
      ]
    },
    {
      "cell_type": "markdown",
      "metadata": {
        "id": "iQAnT4NDgrrW"
      },
      "source": [
        "You can try to work on different combinations of Deep, Bidirectional and type of RNN (LSTM, GRU, or plain RNN) to select a model. Some of the models will perform good while other will perform very poorly with the default 3 Epoch. You can change the Parameters to have a better model."
      ]
    },
    {
      "cell_type": "markdown",
      "metadata": {
        "id": "Hw7Dh9ewgrrW"
      },
      "source": [
        "# Embeddings\n",
        "## Text as Numbers\n",
        "Before we start on Embeddings let us talk about how you can represent text? Text is, youn know \"text\" and machines only know numbers so in order to tell the machine about the text, we use different approaches most widely as `Boolean Matrix or One Hot Encoding`, `Frquency Based or TfIdf` and `Sementic Based or Embeddings`.\n",
        "\n",
        "For example in the sentence `Messi, Eminem and Lebron, they all have achieved greatness to a certain level that it seems like nobody in the near future is going to be even closeer to the half way mark.`\n",
        "\n",
        "There are few choices and the simplese being is giving each unique word a number and getting a vector of length  equal to the total number of words in the sentence. So let us suppose Messi becomes 1, Eminem becomes 2 and so on to represent all the sentences. But the problem with this method is that the model will think Eminem `2` has more influence than Messi `1` in the sentence but in fact there is no ordering.\n",
        "\n",
        "### <font color='teal'>Boolean Vectors:</font>\n",
        "\n",
        "We can have a work around it. We can take every word in all the sentences and and make a vector of length equal to all the number of all the unique words in all the sentences and replace. For example in the 3 sentences, `My name is Marshall`, `Shady is my alter ego`,` Eminem is my stage name`, We'll have 9 unique words ans every sentence will be represented by a vector of length 9 where every word will be represented by a 1 if present at a certain location. For example if `name` is represented by the 2nd index, then in the **First** and **Third** sentence, the second index will be a 1 instead of zero where in the **Second** sentence, it'll be a zero because in First and thrird, `name` is present and is defined by the index position 2. This is all cool until it's not. There are lots of problems with the scenario. For example, if a sentence comes, `Hi!!`, then it'll be adding one more dto the length of vector and even though it's length is just one, it'll be represented by a vector of length 10 where 9 of the indices are filled by 0. Another problem is that when a sentence like `Shady is not shady by heart` comes, even though the word `shady` has come twice, it'll be a single 1 at the inde defined so model will have no way of knowing whether the word came 1 or 1000 times.\n",
        "\n",
        "### <font color='teal'>Frequency Based:</font>\n",
        "\n",
        "We can modify the above problem by giving the position a number equal to the frequeny of word  ( how many times the word has repeated in the sentence) so at a defined index of `Shady`, it'll be a 2. Now let us think about pronouns, articles and connectors. They repeat a lot and lot (a,an,the,at,from,on ...bla bla bla..) So if a frequency is given, again it'll make the model think that `at` is more **TfIdf: Tern Frequency Inverse Term Frequency**. What it does is that it gives the words more weightage which appear more in a document. For example in an article Title about `Eminem is the Greatest: Why?` there will be lots of times when `Eminem` and `greatest` will be there that can easily define the Title of the Article but lots of time there will be `a,an,the,at` will bethere in article too which can hamper. So `TfIdf` surely gives more weightage to the words repeated in lines but it'll penalize the words which comes too often in the whole article which will surely be the non essential words like `a,an,the` etc. This methos eeems perfect but  what about when we want to find the relation of `Eminem` to the `Greatest`?? There is no way to find that using any of the above techniques. This is where the Next Part Comes into play.\n",
        "\n",
        "## Embeddings\n",
        "\n",
        "Solution to all the problems lies in the Embeddings. Word embedding methods learn a real-valued vector representation for a predefined fixed sized vocabulary from a corpus of text. The learning process is either joint with the neural network model on some task, such as document classification, or is an unsupervised process, using document statistics.\n",
        "\n",
        "Confused?? Don't be. Word Embeddings are the Words converted to a Vector of Length  `N` which consists floating values usually in range 0-1. These vectors are not at random but they are there for a reason. If the distance between 2 vectors are small in that embedding means that those two vectors are somehow (and I mean SOMEHOW) related. In this context, we'll say that the disctance of the vector formed by `Moon` will closer to`Earth`  tha `Apple`. Simlarly, the embeddings can JUSt KNOW that Paris, New Delhi and London are related and will have very short distances. These Embeddings represent N dimensional HIDDEN features between words. For Example there are 3 hidden features explored by Embeddings by words as `[Scary`, `Soft` ,`Intelligent]` in the range 0-1. If we have 3 words as ``Cat``,`Gun` and `Human`, then the vector for `Human = [0.3, 0.3, 0.9], Gun = [0.8, 0.1, 0.01], Cat = [0.4, 0.9, 0,4]`. Which means that Human is somewhat scary, somewhat sft but highly intelligent and a cat is scary but super soft. The only thing to note here is that the **Machine Learning Model does not even know what  it has found. To the model, these are some random dimensions and according to these dimensions, these words (one hot encoded vectors) relate.**\n",
        "\n",
        "Whatever I have just described can be seen viually and mathematically by watching [this Andrew NG video](https://www.coursera.org/lecture/nlp-sequence-models/word-representation-6Oq70)\n",
        "\n",
        "## How to?\n",
        "Embeddings are generally generated by using the statistical means on a **HUGE CORPUS OF CLEANED DATA**. There are predefined embeddings such as Google's Word2Vec and Stanford's GloVe but you can use your own Embeddings too by using an `EmbeddingLayer` as the first layer in any Neural Network. The dimension of this layer will be the number of hidden features you want to get and the updated with each epochs will be in a manner to get the context from your data.\n",
        "\n",
        "A very detailed and intutive explanation about Embeddings and it's types is given in [this post](https://machinelearningmastery.com/what-are-word-embeddings/).\n",
        "\n",
        "## GloVe: Global Vectors for Word Representation\n",
        "\n",
        "We'll be using **GLoVE** which is a hybrid approach to mix both the global statistics of matrix factorization techniques like LSA with the local context-based learning in Word2Vec. Rather than using a window to define local context, GloVe constructs an explicit word-context or word co-occurrence matrix using statistics across the whole text corpus. The result is a learning model that may result in generally better word embeddings.\n",
        "\n",
        "GloVe has used  `word-co-occurnce` and `Nearst Neighbour` to get all these embeddings using a Neural Network. It mans that given a word, it tries to find the similar words used in the same **CONTEXT** and given a context, it tries to find words that can be used in the same context. For example let us assume that as `Lionel` and `Messi` are used most of the times together so given `Lionel`, it'll try to predict `Messi` and vice versa (word-Co-occurance). In the same way `Messi` and `Football` are used together in the same context so when you try to look up for similar words as `Messi`, it'll give you `Football` (context).\n",
        "\n",
        "## Working of GloVe\n",
        "Working of GloVe is quite interesting. It has learned that `man+feminine` = `woman`  so `king+femenine` = `queen`. In other words, it can find the relation that if you subtract the two vectors and add the third vector, it can find a 4th vector which is related to 3rd vector in the same 2nd is related to 1st. For example if you do, `woman-man+king`, it'll return `queen` as `woman-man` will give you the `femenine` dimension and adding femenine to king will be equal to queen.# Thank You\n",
        "In the next part, We'll be covering Embeddings (such as GloVe, Word2Vec), Sequence-to-Sequence Modelling, Attention Modelling with Google's BERT to perform tasks which are not possible with fixed length inputs and outputs."
      ]
    },
    {
      "cell_type": "code",
      "execution_count": 38,
      "metadata": {
        "colab": {
          "base_uri": "https://localhost:8080/"
        },
        "id": "fx5roxYVgrrW",
        "outputId": "8591b9f2-754a-45fe-a529-a1140a12db8e"
      },
      "outputs": [
        {
          "output_type": "stream",
          "name": "stderr",
          "text": [
            ".vector_cache/glove.6B.zip: 862MB [02:39, 5.39MB/s]                           \n",
            "100%|█████████▉| 399999/400000 [00:22<00:00, 17922.42it/s]\n"
          ]
        },
        {
          "output_type": "stream",
          "name": "stdout",
          "text": [
            "Shape of GloVe vectors is torch.Size([400000, 100])\n"
          ]
        }
      ],
      "source": [
        "# Load GloVe embeddings\n",
        "glove = GloVe(name='6B', dim=100)  # Adjust dim to match the chosen GloVe embedding dimension\n",
        "\n",
        "print(f'Shape of GloVe vectors is {glove.vectors.shape}')"
      ]
    },
    {
      "cell_type": "markdown",
      "metadata": {
        "id": "N700lVWAgrrX"
      },
      "source": [
        "This means tht there are 400000 words and each one represented by a vector length 100. Every word in this vocab has a unique integer number **for internal storage purpose only**. Words are converted to vectors and and you can use `glove.stoi['some_small_cased_word']` to see the identifier of that word.\n",
        "\n",
        "To access the vector representation of that word, simply use `glove['word']`. When a word is not found in the glove, it is changed by a `<unk>` vector of all zeros of same size."
      ]
    },
    {
      "cell_type": "code",
      "execution_count": 39,
      "metadata": {
        "colab": {
          "base_uri": "https://localhost:8080/"
        },
        "id": "UtE54SAggrrX",
        "outputId": "d608cff5-3204-4ea4-c3df-a7a4a57d249b"
      },
      "outputs": [
        {
          "output_type": "stream",
          "name": "stdout",
          "text": [
            "eminem is represented by the index location at: 20500 and has the following vector values: \n",
            " tensor([ 0.7544, -0.0373,  0.9011, -0.2475,  0.6046,  0.2633,  0.4321, -0.0581,\n",
            "         0.2454,  0.4725,  0.4708,  0.6857, -0.1124, -0.5863,  0.6069,  0.2199,\n",
            "         0.3303, -0.4111,  0.4995,  0.5576,  0.5199, -0.7013,  0.1960,  0.0222,\n",
            "         0.1784,  1.2870,  0.0808, -0.0457,  0.6343, -0.1123,  0.5205,  0.5357,\n",
            "         0.6573,  1.4612, -0.5139,  0.1027,  0.3214,  0.3201, -0.2493, -0.1228,\n",
            "         0.7139,  0.5747, -0.0808,  0.0766, -0.8888, -0.6424, -0.3580, -0.1718,\n",
            "         0.0162, -0.4686, -0.1671, -0.2047,  0.3036,  0.0647, -0.4121, -0.6413,\n",
            "         0.0488, -0.1874, -1.0129,  0.3502, -0.0286,  0.8700, -0.1154,  0.0711,\n",
            "         0.8362,  0.0659,  1.2272,  0.4069,  0.0153,  0.0362, -0.3664,  0.8553,\n",
            "        -0.8979,  0.5335, -0.2803, -0.4116,  0.1657, -0.0971,  0.8507, -1.0010,\n",
            "         0.6556, -0.2359,  0.1473,  0.4138, -0.9671,  0.0302, -0.4406, -0.0727,\n",
            "         0.1327,  0.0797, -0.1519,  0.2030, -0.6210, -0.7379,  0.4092, -0.1602,\n",
            "        -0.1799,  0.2000,  0.3661,  0.1309])\n"
          ]
        }
      ],
      "source": [
        "print(f\"eminem is represented by the index location at: {glove.stoi['eminem']} and has the following vector values: \\n {glove['eminem']}\")"
      ]
    },
    {
      "cell_type": "markdown",
      "metadata": {
        "id": "gj0upbg8grrX"
      },
      "source": [
        "# GloVe Helpers"
      ]
    },
    {
      "cell_type": "code",
      "execution_count": 44,
      "metadata": {
        "id": "CTqHu82hgrrX"
      },
      "outputs": [],
      "source": [
        "def get_vector(glove,word):\n",
        "    '''\n",
        "    Get the vector corresponding to a word from Glove\n",
        "    args:\n",
        "        glove: glove embeddings\n",
        "        word:  any word\n",
        "    out: a vector of dimensions according to the embedding size. If a word is not present, it returns zero vector\n",
        "    '''\n",
        "    # Note: first convert all characters to lower case. (1 line)\n",
        "    # start of your code\n",
        "    output = glove[word.lower()]\n",
        "    # end of your code\n",
        "    return output\n",
        "\n",
        "\n",
        "def find_closest(glove,input_value,n=6,vector=False):\n",
        "    '''\n",
        "    Find the closest words to a given word from the embedding\n",
        "    args:\n",
        "        glove: glove embeddings\n",
        "        input_value: {string,vector} any english word or vector representation from embedding\n",
        "        n: number of closest words to return\n",
        "        vector: whether input type is a word or a vector\n",
        "    out:\n",
        "        tensor of tuple of words and distances\n",
        "    '''\n",
        "    if not vector:\n",
        "        vector = get_vector(glove,input_value) # get vector of the current word\n",
        "    else:\n",
        "        vector  = input_value\n",
        "\n",
        "    distances = []\n",
        "    # start of your code (4 lines)\n",
        "    for word in glove.itos:\n",
        "        dist = torch.dist(vector,get_vector(glove,word))\n",
        "        distances.append((word,dist.item()))\n",
        "\n",
        "    sorted_distances = sorted(distances, key=lambda x: x[1])\n",
        "    # end of your code\n",
        "    return sorted_distances[:n] # return top n\n",
        "\n",
        "\n",
        "def print_neatly(list_of_tuples):\n",
        "    '''\n",
        "    Print a tuple cleanly\n",
        "    args:\n",
        "        list_of_tuples: List of tuple of 2 values\n",
        "    '''\n",
        "    print('Distances \\t Words\\n')\n",
        "    for tup in list_of_tuples:\n",
        "        print('%.3f \\t\\t %s'%(tup[1],tup[0]))\n",
        "    return None\n",
        "\n",
        "\n",
        "def find_analogy(glove,w1,w11,w2,n=7):\n",
        "    '''\n",
        "    Find analogy of the third word given by analogy of two words\n",
        "    args:\n",
        "        w1: first word\n",
        "        w11: analogy of the first word\n",
        "        w2: second word\n",
        "        n: number of analogies to find\n",
        "    out:\n",
        "        words that can relate to w2 in the same way w11 is related to w1\n",
        "    '''\n",
        "    # Note: find extra 3 n (n = n+3)\n",
        "    # Note: w1, w11 and w2 should not be in the output (6 lines)\n",
        "    print(f\"{w1} : {w11} :: {w2} : ?\")\n",
        "    # start of your code (4 lines)\n",
        "    closest_n = find_closest(glove, get_vector(glove, w11) - get_vector(glove, w1) + get_vector(glove, w2), n=n+3, vector=True)\n",
        "\n",
        "    closest_n =[i for i in closest_n if i[0] not in [w1,w11,w2]][:n]\n",
        "    # end of your code\n",
        "    return closest_n"
      ]
    },
    {
      "cell_type": "markdown",
      "metadata": {
        "id": "v3EdJvaKgrrY"
      },
      "source": [
        "# Try out the cool features"
      ]
    },
    {
      "cell_type": "code",
      "execution_count": 45,
      "metadata": {
        "colab": {
          "base_uri": "https://localhost:8080/"
        },
        "id": "Q0l81phFgrrY",
        "outputId": "4674f83d-6f28-44f8-8d5e-64560b1bce65"
      },
      "outputs": [
        {
          "output_type": "stream",
          "name": "stdout",
          "text": [
            "Distances \t Words\n",
            "\n",
            "0.000 \t\t eminem\n",
            "3.705 \t\t jay-z\n",
            "3.903 \t\t kanye\n",
            "3.937 \t\t ludacris\n",
            "3.974 \t\t t.i.\n",
            "3.985 \t\t akon\n"
          ]
        }
      ],
      "source": [
        "print_neatly(find_closest(glove,'eminem'))"
      ]
    },
    {
      "cell_type": "code",
      "execution_count": 46,
      "metadata": {
        "colab": {
          "base_uri": "https://localhost:8080/"
        },
        "id": "Q5Ox3Xq_grrY",
        "outputId": "d3e77cb6-74a6-4ab0-8a68-bc15a973e0e0"
      },
      "outputs": [
        {
          "output_type": "stream",
          "name": "stdout",
          "text": [
            "eminem : rapper :: messi : ?\n",
            "Distances \t Words\n",
            "\n",
            "4.924 \t\t striker\n",
            "4.939 \t\t ronaldinho\n",
            "5.325 \t\t winger\n",
            "5.340 \t\t ronaldo\n",
            "5.379 \t\t robinho\n",
            "5.391 \t\t midfielder\n",
            "5.416 \t\t saviola\n"
          ]
        }
      ],
      "source": [
        "print_neatly(find_analogy(glove,'eminem','rapper','messi'))"
      ]
    },
    {
      "cell_type": "markdown",
      "metadata": {
        "id": "A070vLpNgrrY"
      },
      "source": [
        "# Data Processing For GloVe"
      ]
    },
    {
      "cell_type": "code",
      "execution_count": 47,
      "metadata": {
        "id": "BCq9CAnygrrY"
      },
      "outputs": [],
      "source": [
        "# step1: tokenize text using word_tokenize and convert to numerical form using default parameters\n",
        "# step2: useful for label string to LabelEncoding. Not useful here but doesn't hurt either\n",
        "# step3: (column name,field object to use on that column) pair for the dictonary\n",
        "# step4: use TabularDataset to split train, val and test\n",
        "# start of your code (4 lines)\n",
        "text_field = Field(tokenize=word_tokenize)\n",
        "\n",
        "label_field = LabelField(dtype=torch.float)\n",
        "\n",
        "fields = [('comment_text',text_field),('toxic',label_field)]\n",
        "\n",
        "train, val, test = TabularDataset.splits(path='/content/', train='train.csv', validation='val.csv', test='test.csv', format='csv', fields=fields, skip_header=True)\n",
        "# end of your code\n",
        "\n",
        "\n",
        "text_field.build_vocab(train,max_size=100000,vectors=glove,unk_init=torch.Tensor.zero_)\n",
        "\n",
        "# unk_init = torch.tensor.normal_ set the initial vectors of vocab as the glove vectors and\n",
        "# initialize unknown words as normal distribution instead of zeros\n",
        "\n",
        "label_field.build_vocab(train)\n",
        "\n",
        "\n",
        "train_iter, val_iter, test_iter = BucketIterator.splits((train,val,test), batch_sizes=(32,128,128),\n",
        "                                              sort_key=lambda x: len(x.comment_text),\n",
        "                                              sort_within_batch=False,\n",
        "                                              device=device)"
      ]
    },
    {
      "cell_type": "markdown",
      "metadata": {
        "id": "yCz5VB6IgrrZ"
      },
      "source": [
        "# Initialize Model & Copy Weights to Embedding Layer"
      ]
    },
    {
      "cell_type": "code",
      "execution_count": 48,
      "metadata": {
        "id": "hPYwPfJwgrrZ"
      },
      "outputs": [],
      "source": [
        "in_neuron = len(text_field.vocab)\n",
        "embedding_dim = 100 # dimensions of GloVe which we'll use as the dimension for our embedding layer too\n",
        "drop = 0.0 # how much to drop\n",
        "\n",
        "loss_fn = torch.nn.BCEWithLogitsLoss()\n",
        "lr = 0.0003 #learning rate for optimizer\n",
        "optimizer = torch.optim.Adam(network.parameters(),lr=lr)\n",
        "\n",
        "network = Network(in_neuron,embedding_dim,drop=drop)\n",
        "\n",
        "pretrained_embeddings = text_field.vocab.vectors  # get all the 100000+2 vectors\n",
        "network.embedding.weight.data.copy_(pretrained_embeddings) #copy embeddings as the weights to the layer\n",
        "\n",
        "\n",
        "# now we have 2 extra embeddings so we'll have to get their index and change the values at index to zeros\n",
        "\n",
        "unknown_index = text_field.vocab.stoi[text_field.unk_token] # get index of unknown token\n",
        "padding_index = text_field.vocab.stoi[text_field.pad_token] # get index of padding token\n",
        "\n",
        "network.embedding.weight.data[unknown_index] = torch.zeros(embedding_dim) #change values to zeros\n",
        "network.embedding.weight.data[padding_index] = torch.zeros(embedding_dim)\n",
        "\n",
        "if torch.cuda.is_available():\n",
        "    network.cuda()\n",
        "    # network = network.to(device)\n",
        "\n",
        "\n",
        "# if you do not want to train your Embedding weights, you'll have to make 1 extra change\n",
        "# model.embedding.weight.requires_grad = False\n"
      ]
    },
    {
      "cell_type": "markdown",
      "metadata": {
        "id": "m_I7Yd2IgrrZ"
      },
      "source": [
        "<font color='red'>Note: If you have initialised an optimizer, before freezing the weights, then it is okay but **If you Freeze the weights BEFORE passing the parameters into optimizer, then youl'll have to add `optimizer = torch.optim.Adam([ param for param in model.parameters() if param.requires_grad == True],lr=lr)`**</font>"
      ]
    },
    {
      "cell_type": "markdown",
      "metadata": {
        "id": "M9w0hILdgrrZ"
      },
      "source": [
        "# Train and Evaluate Model"
      ]
    },
    {
      "cell_type": "code",
      "execution_count": 49,
      "metadata": {
        "id": "P4SbHOJPgrra",
        "colab": {
          "base_uri": "https://localhost:8080/",
          "height": 67,
          "referenced_widgets": [
            "2ec62878f66543d58551e5732998b0a3",
            "3bfdb7f5f3c44f1cac82f037697a9461",
            "18c688aad8194d759515aefb558f0f3c",
            "9335bcdca4ec4ee6976a6bb6893bd544",
            "74de01a7912f4ea59ff156a200e05ad4",
            "df19f0b611ff4edc8cee381ae1388ada",
            "ac6d998229bb4c509964f0a33ba373d4",
            "919959b236e34386a3d0decad2209f83",
            "4831319a704e4fa9b257188bbffae2ed",
            "f3b6dfebe9ec42ed9b503302a3230214",
            "cdd6c3e7a14547df883232212076f1c9"
          ]
        },
        "outputId": "03a32b6e-a964-479e-f797-48ec207d4b3e"
      },
      "outputs": [
        {
          "output_type": "display_data",
          "data": {
            "text/plain": [
              "Epoch: 1:   0%|          | 0/2992 [00:00<?, ?it/s]"
            ],
            "application/vnd.jupyter.widget-view+json": {
              "version_major": 2,
              "version_minor": 0,
              "model_id": "2ec62878f66543d58551e5732998b0a3"
            }
          },
          "metadata": {}
        },
        {
          "output_type": "stream",
          "name": "stdout",
          "text": [
            "End of Epoch: 1  |  Train Loss: 0.682  |  Val Loss: 0.681  |  Train Acc: 88.95%  |  Val Acc: 65.04%\n"
          ]
        }
      ],
      "source": [
        "for epoch in range(EPOCH):\n",
        "    train_loss, train_acc = train_network(network,train_iter,optimizer,loss_fn,epoch+1)\n",
        "    val_loss,val_acc = evaluate_network(network,val_iter,optimizer,loss_fn)\n",
        "    tqdm.write(f'''End of Epoch: {epoch+1}  |  Train Loss: {train_loss:.3f}  |  Val Loss: {val_loss:.3f}  |  Train Acc: {train_acc*100:.2f}%  |  Val Acc: {val_acc*100:.2f}%''')"
      ]
    }
  ],
  "metadata": {
    "accelerator": "GPU",
    "colab": {
      "provenance": []
    },
    "kernelspec": {
      "display_name": "Python 3.9.4 64-bit",
      "name": "python394jvsc74a57bd063fd5069d213b44bf678585dea6b12cceca9941eaf7f819626cde1f2670de90d"
    },
    "language_info": {
      "name": "python",
      "version": ""
    },
    "metadata": {
      "interpreter": {
        "hash": "63fd5069d213b44bf678585dea6b12cceca9941eaf7f819626cde1f2670de90d"
      }
    },
    "widgets": {
      "application/vnd.jupyter.widget-state+json": {
        "98e58d637a564566bfb634981fc4525e": {
          "model_module": "@jupyter-widgets/controls",
          "model_name": "HBoxModel",
          "model_module_version": "1.5.0",
          "state": {
            "_dom_classes": [],
            "_model_module": "@jupyter-widgets/controls",
            "_model_module_version": "1.5.0",
            "_model_name": "HBoxModel",
            "_view_count": null,
            "_view_module": "@jupyter-widgets/controls",
            "_view_module_version": "1.5.0",
            "_view_name": "HBoxView",
            "box_style": "",
            "children": [
              "IPY_MODEL_bcb0efc79d9449e594a94c89d55f4ac0",
              "IPY_MODEL_b6c2c512ba0140418173118df0a80a9a",
              "IPY_MODEL_faf7bb01f6164c59838611037db78d48"
            ],
            "layout": "IPY_MODEL_0ba94dd1609c4b8a801599a08f074e35"
          }
        },
        "bcb0efc79d9449e594a94c89d55f4ac0": {
          "model_module": "@jupyter-widgets/controls",
          "model_name": "HTMLModel",
          "model_module_version": "1.5.0",
          "state": {
            "_dom_classes": [],
            "_model_module": "@jupyter-widgets/controls",
            "_model_module_version": "1.5.0",
            "_model_name": "HTMLModel",
            "_view_count": null,
            "_view_module": "@jupyter-widgets/controls",
            "_view_module_version": "1.5.0",
            "_view_name": "HTMLView",
            "description": "",
            "description_tooltip": null,
            "layout": "IPY_MODEL_13d26768cdf240fb96288f6f92925f5a",
            "placeholder": "​",
            "style": "IPY_MODEL_4f12deecf7f849598e01c05622e75e6e",
            "value": "Epoch: 1: 100%"
          }
        },
        "b6c2c512ba0140418173118df0a80a9a": {
          "model_module": "@jupyter-widgets/controls",
          "model_name": "FloatProgressModel",
          "model_module_version": "1.5.0",
          "state": {
            "_dom_classes": [],
            "_model_module": "@jupyter-widgets/controls",
            "_model_module_version": "1.5.0",
            "_model_name": "FloatProgressModel",
            "_view_count": null,
            "_view_module": "@jupyter-widgets/controls",
            "_view_module_version": "1.5.0",
            "_view_name": "ProgressView",
            "bar_style": "success",
            "description": "",
            "description_tooltip": null,
            "layout": "IPY_MODEL_ad996ee4d6eb4fe18897bd2419d1af7f",
            "max": 2992,
            "min": 0,
            "orientation": "horizontal",
            "style": "IPY_MODEL_29db6c9fb365400fb467fcb20e203714",
            "value": 2992
          }
        },
        "faf7bb01f6164c59838611037db78d48": {
          "model_module": "@jupyter-widgets/controls",
          "model_name": "HTMLModel",
          "model_module_version": "1.5.0",
          "state": {
            "_dom_classes": [],
            "_model_module": "@jupyter-widgets/controls",
            "_model_module_version": "1.5.0",
            "_model_name": "HTMLModel",
            "_view_count": null,
            "_view_module": "@jupyter-widgets/controls",
            "_view_module_version": "1.5.0",
            "_view_name": "HTMLView",
            "description": "",
            "description_tooltip": null,
            "layout": "IPY_MODEL_e05fa4cf0d734d54ae77af99133a4717",
            "placeholder": "​",
            "style": "IPY_MODEL_fd929bce2fae49df9ec067896575ffbc",
            "value": " 2992/2992 [00:51&lt;00:00, 62.88it/s]"
          }
        },
        "0ba94dd1609c4b8a801599a08f074e35": {
          "model_module": "@jupyter-widgets/base",
          "model_name": "LayoutModel",
          "model_module_version": "1.2.0",
          "state": {
            "_model_module": "@jupyter-widgets/base",
            "_model_module_version": "1.2.0",
            "_model_name": "LayoutModel",
            "_view_count": null,
            "_view_module": "@jupyter-widgets/base",
            "_view_module_version": "1.2.0",
            "_view_name": "LayoutView",
            "align_content": null,
            "align_items": null,
            "align_self": null,
            "border": null,
            "bottom": null,
            "display": null,
            "flex": null,
            "flex_flow": null,
            "grid_area": null,
            "grid_auto_columns": null,
            "grid_auto_flow": null,
            "grid_auto_rows": null,
            "grid_column": null,
            "grid_gap": null,
            "grid_row": null,
            "grid_template_areas": null,
            "grid_template_columns": null,
            "grid_template_rows": null,
            "height": null,
            "justify_content": null,
            "justify_items": null,
            "left": null,
            "margin": null,
            "max_height": null,
            "max_width": null,
            "min_height": null,
            "min_width": null,
            "object_fit": null,
            "object_position": null,
            "order": null,
            "overflow": null,
            "overflow_x": null,
            "overflow_y": null,
            "padding": null,
            "right": null,
            "top": null,
            "visibility": null,
            "width": null
          }
        },
        "13d26768cdf240fb96288f6f92925f5a": {
          "model_module": "@jupyter-widgets/base",
          "model_name": "LayoutModel",
          "model_module_version": "1.2.0",
          "state": {
            "_model_module": "@jupyter-widgets/base",
            "_model_module_version": "1.2.0",
            "_model_name": "LayoutModel",
            "_view_count": null,
            "_view_module": "@jupyter-widgets/base",
            "_view_module_version": "1.2.0",
            "_view_name": "LayoutView",
            "align_content": null,
            "align_items": null,
            "align_self": null,
            "border": null,
            "bottom": null,
            "display": null,
            "flex": null,
            "flex_flow": null,
            "grid_area": null,
            "grid_auto_columns": null,
            "grid_auto_flow": null,
            "grid_auto_rows": null,
            "grid_column": null,
            "grid_gap": null,
            "grid_row": null,
            "grid_template_areas": null,
            "grid_template_columns": null,
            "grid_template_rows": null,
            "height": null,
            "justify_content": null,
            "justify_items": null,
            "left": null,
            "margin": null,
            "max_height": null,
            "max_width": null,
            "min_height": null,
            "min_width": null,
            "object_fit": null,
            "object_position": null,
            "order": null,
            "overflow": null,
            "overflow_x": null,
            "overflow_y": null,
            "padding": null,
            "right": null,
            "top": null,
            "visibility": null,
            "width": null
          }
        },
        "4f12deecf7f849598e01c05622e75e6e": {
          "model_module": "@jupyter-widgets/controls",
          "model_name": "DescriptionStyleModel",
          "model_module_version": "1.5.0",
          "state": {
            "_model_module": "@jupyter-widgets/controls",
            "_model_module_version": "1.5.0",
            "_model_name": "DescriptionStyleModel",
            "_view_count": null,
            "_view_module": "@jupyter-widgets/base",
            "_view_module_version": "1.2.0",
            "_view_name": "StyleView",
            "description_width": ""
          }
        },
        "ad996ee4d6eb4fe18897bd2419d1af7f": {
          "model_module": "@jupyter-widgets/base",
          "model_name": "LayoutModel",
          "model_module_version": "1.2.0",
          "state": {
            "_model_module": "@jupyter-widgets/base",
            "_model_module_version": "1.2.0",
            "_model_name": "LayoutModel",
            "_view_count": null,
            "_view_module": "@jupyter-widgets/base",
            "_view_module_version": "1.2.0",
            "_view_name": "LayoutView",
            "align_content": null,
            "align_items": null,
            "align_self": null,
            "border": null,
            "bottom": null,
            "display": null,
            "flex": null,
            "flex_flow": null,
            "grid_area": null,
            "grid_auto_columns": null,
            "grid_auto_flow": null,
            "grid_auto_rows": null,
            "grid_column": null,
            "grid_gap": null,
            "grid_row": null,
            "grid_template_areas": null,
            "grid_template_columns": null,
            "grid_template_rows": null,
            "height": null,
            "justify_content": null,
            "justify_items": null,
            "left": null,
            "margin": null,
            "max_height": null,
            "max_width": null,
            "min_height": null,
            "min_width": null,
            "object_fit": null,
            "object_position": null,
            "order": null,
            "overflow": null,
            "overflow_x": null,
            "overflow_y": null,
            "padding": null,
            "right": null,
            "top": null,
            "visibility": null,
            "width": null
          }
        },
        "29db6c9fb365400fb467fcb20e203714": {
          "model_module": "@jupyter-widgets/controls",
          "model_name": "ProgressStyleModel",
          "model_module_version": "1.5.0",
          "state": {
            "_model_module": "@jupyter-widgets/controls",
            "_model_module_version": "1.5.0",
            "_model_name": "ProgressStyleModel",
            "_view_count": null,
            "_view_module": "@jupyter-widgets/base",
            "_view_module_version": "1.2.0",
            "_view_name": "StyleView",
            "bar_color": null,
            "description_width": ""
          }
        },
        "e05fa4cf0d734d54ae77af99133a4717": {
          "model_module": "@jupyter-widgets/base",
          "model_name": "LayoutModel",
          "model_module_version": "1.2.0",
          "state": {
            "_model_module": "@jupyter-widgets/base",
            "_model_module_version": "1.2.0",
            "_model_name": "LayoutModel",
            "_view_count": null,
            "_view_module": "@jupyter-widgets/base",
            "_view_module_version": "1.2.0",
            "_view_name": "LayoutView",
            "align_content": null,
            "align_items": null,
            "align_self": null,
            "border": null,
            "bottom": null,
            "display": null,
            "flex": null,
            "flex_flow": null,
            "grid_area": null,
            "grid_auto_columns": null,
            "grid_auto_flow": null,
            "grid_auto_rows": null,
            "grid_column": null,
            "grid_gap": null,
            "grid_row": null,
            "grid_template_areas": null,
            "grid_template_columns": null,
            "grid_template_rows": null,
            "height": null,
            "justify_content": null,
            "justify_items": null,
            "left": null,
            "margin": null,
            "max_height": null,
            "max_width": null,
            "min_height": null,
            "min_width": null,
            "object_fit": null,
            "object_position": null,
            "order": null,
            "overflow": null,
            "overflow_x": null,
            "overflow_y": null,
            "padding": null,
            "right": null,
            "top": null,
            "visibility": null,
            "width": null
          }
        },
        "fd929bce2fae49df9ec067896575ffbc": {
          "model_module": "@jupyter-widgets/controls",
          "model_name": "DescriptionStyleModel",
          "model_module_version": "1.5.0",
          "state": {
            "_model_module": "@jupyter-widgets/controls",
            "_model_module_version": "1.5.0",
            "_model_name": "DescriptionStyleModel",
            "_view_count": null,
            "_view_module": "@jupyter-widgets/base",
            "_view_module_version": "1.2.0",
            "_view_name": "StyleView",
            "description_width": ""
          }
        },
        "ce6feb2347e4442690def60d33cb4ad5": {
          "model_module": "@jupyter-widgets/controls",
          "model_name": "HBoxModel",
          "model_module_version": "1.5.0",
          "state": {
            "_dom_classes": [],
            "_model_module": "@jupyter-widgets/controls",
            "_model_module_version": "1.5.0",
            "_model_name": "HBoxModel",
            "_view_count": null,
            "_view_module": "@jupyter-widgets/controls",
            "_view_module_version": "1.5.0",
            "_view_name": "HBoxView",
            "box_style": "",
            "children": [
              "IPY_MODEL_67f558753a884a5ca613b40005d0d80b",
              "IPY_MODEL_2f81f12a44a645ec85c8d31aeb990642",
              "IPY_MODEL_7d6cac0102344a4486f731b7747d742b"
            ],
            "layout": "IPY_MODEL_6375d698d06949c7ae7371a868959f02"
          }
        },
        "67f558753a884a5ca613b40005d0d80b": {
          "model_module": "@jupyter-widgets/controls",
          "model_name": "HTMLModel",
          "model_module_version": "1.5.0",
          "state": {
            "_dom_classes": [],
            "_model_module": "@jupyter-widgets/controls",
            "_model_module_version": "1.5.0",
            "_model_name": "HTMLModel",
            "_view_count": null,
            "_view_module": "@jupyter-widgets/controls",
            "_view_module_version": "1.5.0",
            "_view_name": "HTMLView",
            "description": "",
            "description_tooltip": null,
            "layout": "IPY_MODEL_6448743557c94ba69d99f9fb9230577e",
            "placeholder": "​",
            "style": "IPY_MODEL_0ef6400b29b54702b5f94d278475e3e3",
            "value": "Epoch: 1: 100%"
          }
        },
        "2f81f12a44a645ec85c8d31aeb990642": {
          "model_module": "@jupyter-widgets/controls",
          "model_name": "FloatProgressModel",
          "model_module_version": "1.5.0",
          "state": {
            "_dom_classes": [],
            "_model_module": "@jupyter-widgets/controls",
            "_model_module_version": "1.5.0",
            "_model_name": "FloatProgressModel",
            "_view_count": null,
            "_view_module": "@jupyter-widgets/controls",
            "_view_module_version": "1.5.0",
            "_view_name": "ProgressView",
            "bar_style": "success",
            "description": "",
            "description_tooltip": null,
            "layout": "IPY_MODEL_744ff875b9834104a59fee1273aa0bc4",
            "max": 2992,
            "min": 0,
            "orientation": "horizontal",
            "style": "IPY_MODEL_4f6b2172b6ec4230827a6405d5c46157",
            "value": 2992
          }
        },
        "7d6cac0102344a4486f731b7747d742b": {
          "model_module": "@jupyter-widgets/controls",
          "model_name": "HTMLModel",
          "model_module_version": "1.5.0",
          "state": {
            "_dom_classes": [],
            "_model_module": "@jupyter-widgets/controls",
            "_model_module_version": "1.5.0",
            "_model_name": "HTMLModel",
            "_view_count": null,
            "_view_module": "@jupyter-widgets/controls",
            "_view_module_version": "1.5.0",
            "_view_name": "HTMLView",
            "description": "",
            "description_tooltip": null,
            "layout": "IPY_MODEL_9bb2c84500b841afb3ceb40066b929a0",
            "placeholder": "​",
            "style": "IPY_MODEL_d0baa0a040174f5fa7ca417b7df91a0a",
            "value": " 2992/2992 [01:26&lt;00:00, 37.08it/s]"
          }
        },
        "6375d698d06949c7ae7371a868959f02": {
          "model_module": "@jupyter-widgets/base",
          "model_name": "LayoutModel",
          "model_module_version": "1.2.0",
          "state": {
            "_model_module": "@jupyter-widgets/base",
            "_model_module_version": "1.2.0",
            "_model_name": "LayoutModel",
            "_view_count": null,
            "_view_module": "@jupyter-widgets/base",
            "_view_module_version": "1.2.0",
            "_view_name": "LayoutView",
            "align_content": null,
            "align_items": null,
            "align_self": null,
            "border": null,
            "bottom": null,
            "display": null,
            "flex": null,
            "flex_flow": null,
            "grid_area": null,
            "grid_auto_columns": null,
            "grid_auto_flow": null,
            "grid_auto_rows": null,
            "grid_column": null,
            "grid_gap": null,
            "grid_row": null,
            "grid_template_areas": null,
            "grid_template_columns": null,
            "grid_template_rows": null,
            "height": null,
            "justify_content": null,
            "justify_items": null,
            "left": null,
            "margin": null,
            "max_height": null,
            "max_width": null,
            "min_height": null,
            "min_width": null,
            "object_fit": null,
            "object_position": null,
            "order": null,
            "overflow": null,
            "overflow_x": null,
            "overflow_y": null,
            "padding": null,
            "right": null,
            "top": null,
            "visibility": null,
            "width": null
          }
        },
        "6448743557c94ba69d99f9fb9230577e": {
          "model_module": "@jupyter-widgets/base",
          "model_name": "LayoutModel",
          "model_module_version": "1.2.0",
          "state": {
            "_model_module": "@jupyter-widgets/base",
            "_model_module_version": "1.2.0",
            "_model_name": "LayoutModel",
            "_view_count": null,
            "_view_module": "@jupyter-widgets/base",
            "_view_module_version": "1.2.0",
            "_view_name": "LayoutView",
            "align_content": null,
            "align_items": null,
            "align_self": null,
            "border": null,
            "bottom": null,
            "display": null,
            "flex": null,
            "flex_flow": null,
            "grid_area": null,
            "grid_auto_columns": null,
            "grid_auto_flow": null,
            "grid_auto_rows": null,
            "grid_column": null,
            "grid_gap": null,
            "grid_row": null,
            "grid_template_areas": null,
            "grid_template_columns": null,
            "grid_template_rows": null,
            "height": null,
            "justify_content": null,
            "justify_items": null,
            "left": null,
            "margin": null,
            "max_height": null,
            "max_width": null,
            "min_height": null,
            "min_width": null,
            "object_fit": null,
            "object_position": null,
            "order": null,
            "overflow": null,
            "overflow_x": null,
            "overflow_y": null,
            "padding": null,
            "right": null,
            "top": null,
            "visibility": null,
            "width": null
          }
        },
        "0ef6400b29b54702b5f94d278475e3e3": {
          "model_module": "@jupyter-widgets/controls",
          "model_name": "DescriptionStyleModel",
          "model_module_version": "1.5.0",
          "state": {
            "_model_module": "@jupyter-widgets/controls",
            "_model_module_version": "1.5.0",
            "_model_name": "DescriptionStyleModel",
            "_view_count": null,
            "_view_module": "@jupyter-widgets/base",
            "_view_module_version": "1.2.0",
            "_view_name": "StyleView",
            "description_width": ""
          }
        },
        "744ff875b9834104a59fee1273aa0bc4": {
          "model_module": "@jupyter-widgets/base",
          "model_name": "LayoutModel",
          "model_module_version": "1.2.0",
          "state": {
            "_model_module": "@jupyter-widgets/base",
            "_model_module_version": "1.2.0",
            "_model_name": "LayoutModel",
            "_view_count": null,
            "_view_module": "@jupyter-widgets/base",
            "_view_module_version": "1.2.0",
            "_view_name": "LayoutView",
            "align_content": null,
            "align_items": null,
            "align_self": null,
            "border": null,
            "bottom": null,
            "display": null,
            "flex": null,
            "flex_flow": null,
            "grid_area": null,
            "grid_auto_columns": null,
            "grid_auto_flow": null,
            "grid_auto_rows": null,
            "grid_column": null,
            "grid_gap": null,
            "grid_row": null,
            "grid_template_areas": null,
            "grid_template_columns": null,
            "grid_template_rows": null,
            "height": null,
            "justify_content": null,
            "justify_items": null,
            "left": null,
            "margin": null,
            "max_height": null,
            "max_width": null,
            "min_height": null,
            "min_width": null,
            "object_fit": null,
            "object_position": null,
            "order": null,
            "overflow": null,
            "overflow_x": null,
            "overflow_y": null,
            "padding": null,
            "right": null,
            "top": null,
            "visibility": null,
            "width": null
          }
        },
        "4f6b2172b6ec4230827a6405d5c46157": {
          "model_module": "@jupyter-widgets/controls",
          "model_name": "ProgressStyleModel",
          "model_module_version": "1.5.0",
          "state": {
            "_model_module": "@jupyter-widgets/controls",
            "_model_module_version": "1.5.0",
            "_model_name": "ProgressStyleModel",
            "_view_count": null,
            "_view_module": "@jupyter-widgets/base",
            "_view_module_version": "1.2.0",
            "_view_name": "StyleView",
            "bar_color": null,
            "description_width": ""
          }
        },
        "9bb2c84500b841afb3ceb40066b929a0": {
          "model_module": "@jupyter-widgets/base",
          "model_name": "LayoutModel",
          "model_module_version": "1.2.0",
          "state": {
            "_model_module": "@jupyter-widgets/base",
            "_model_module_version": "1.2.0",
            "_model_name": "LayoutModel",
            "_view_count": null,
            "_view_module": "@jupyter-widgets/base",
            "_view_module_version": "1.2.0",
            "_view_name": "LayoutView",
            "align_content": null,
            "align_items": null,
            "align_self": null,
            "border": null,
            "bottom": null,
            "display": null,
            "flex": null,
            "flex_flow": null,
            "grid_area": null,
            "grid_auto_columns": null,
            "grid_auto_flow": null,
            "grid_auto_rows": null,
            "grid_column": null,
            "grid_gap": null,
            "grid_row": null,
            "grid_template_areas": null,
            "grid_template_columns": null,
            "grid_template_rows": null,
            "height": null,
            "justify_content": null,
            "justify_items": null,
            "left": null,
            "margin": null,
            "max_height": null,
            "max_width": null,
            "min_height": null,
            "min_width": null,
            "object_fit": null,
            "object_position": null,
            "order": null,
            "overflow": null,
            "overflow_x": null,
            "overflow_y": null,
            "padding": null,
            "right": null,
            "top": null,
            "visibility": null,
            "width": null
          }
        },
        "d0baa0a040174f5fa7ca417b7df91a0a": {
          "model_module": "@jupyter-widgets/controls",
          "model_name": "DescriptionStyleModel",
          "model_module_version": "1.5.0",
          "state": {
            "_model_module": "@jupyter-widgets/controls",
            "_model_module_version": "1.5.0",
            "_model_name": "DescriptionStyleModel",
            "_view_count": null,
            "_view_module": "@jupyter-widgets/base",
            "_view_module_version": "1.2.0",
            "_view_name": "StyleView",
            "description_width": ""
          }
        },
        "8a7632b972ca49159697b5c4f5a0bdfb": {
          "model_module": "@jupyter-widgets/controls",
          "model_name": "HBoxModel",
          "model_module_version": "1.5.0",
          "state": {
            "_dom_classes": [],
            "_model_module": "@jupyter-widgets/controls",
            "_model_module_version": "1.5.0",
            "_model_name": "HBoxModel",
            "_view_count": null,
            "_view_module": "@jupyter-widgets/controls",
            "_view_module_version": "1.5.0",
            "_view_name": "HBoxView",
            "box_style": "",
            "children": [
              "IPY_MODEL_e22082efe072409996a663e55533e4fe",
              "IPY_MODEL_655e268b4e40432d812a63a4666d0ab3",
              "IPY_MODEL_64ecee6d1f1e4df69b6d42e916362ae5"
            ],
            "layout": "IPY_MODEL_2c3006c2adbb462fa403bdfa1bc4d572"
          }
        },
        "e22082efe072409996a663e55533e4fe": {
          "model_module": "@jupyter-widgets/controls",
          "model_name": "HTMLModel",
          "model_module_version": "1.5.0",
          "state": {
            "_dom_classes": [],
            "_model_module": "@jupyter-widgets/controls",
            "_model_module_version": "1.5.0",
            "_model_name": "HTMLModel",
            "_view_count": null,
            "_view_module": "@jupyter-widgets/controls",
            "_view_module_version": "1.5.0",
            "_view_name": "HTMLView",
            "description": "",
            "description_tooltip": null,
            "layout": "IPY_MODEL_d531bc1f15ae4f7d88385b6ab3f67dd2",
            "placeholder": "​",
            "style": "IPY_MODEL_5e546d1ae77147eca59aa7a975a94156",
            "value": "Epoch: 1: 100%"
          }
        },
        "655e268b4e40432d812a63a4666d0ab3": {
          "model_module": "@jupyter-widgets/controls",
          "model_name": "FloatProgressModel",
          "model_module_version": "1.5.0",
          "state": {
            "_dom_classes": [],
            "_model_module": "@jupyter-widgets/controls",
            "_model_module_version": "1.5.0",
            "_model_name": "FloatProgressModel",
            "_view_count": null,
            "_view_module": "@jupyter-widgets/controls",
            "_view_module_version": "1.5.0",
            "_view_name": "ProgressView",
            "bar_style": "success",
            "description": "",
            "description_tooltip": null,
            "layout": "IPY_MODEL_1de7dbb8f2d440b8be2ad95625e63c25",
            "max": 2992,
            "min": 0,
            "orientation": "horizontal",
            "style": "IPY_MODEL_c7fbf70d264c4e028ebb04280d04cab3",
            "value": 2992
          }
        },
        "64ecee6d1f1e4df69b6d42e916362ae5": {
          "model_module": "@jupyter-widgets/controls",
          "model_name": "HTMLModel",
          "model_module_version": "1.5.0",
          "state": {
            "_dom_classes": [],
            "_model_module": "@jupyter-widgets/controls",
            "_model_module_version": "1.5.0",
            "_model_name": "HTMLModel",
            "_view_count": null,
            "_view_module": "@jupyter-widgets/controls",
            "_view_module_version": "1.5.0",
            "_view_name": "HTMLView",
            "description": "",
            "description_tooltip": null,
            "layout": "IPY_MODEL_0cd7998391f54979aa62b69f38fbc0e5",
            "placeholder": "​",
            "style": "IPY_MODEL_9f307b64d9384ea5b94475c2f927013e",
            "value": " 2992/2992 [01:32&lt;00:00, 33.73it/s]"
          }
        },
        "2c3006c2adbb462fa403bdfa1bc4d572": {
          "model_module": "@jupyter-widgets/base",
          "model_name": "LayoutModel",
          "model_module_version": "1.2.0",
          "state": {
            "_model_module": "@jupyter-widgets/base",
            "_model_module_version": "1.2.0",
            "_model_name": "LayoutModel",
            "_view_count": null,
            "_view_module": "@jupyter-widgets/base",
            "_view_module_version": "1.2.0",
            "_view_name": "LayoutView",
            "align_content": null,
            "align_items": null,
            "align_self": null,
            "border": null,
            "bottom": null,
            "display": null,
            "flex": null,
            "flex_flow": null,
            "grid_area": null,
            "grid_auto_columns": null,
            "grid_auto_flow": null,
            "grid_auto_rows": null,
            "grid_column": null,
            "grid_gap": null,
            "grid_row": null,
            "grid_template_areas": null,
            "grid_template_columns": null,
            "grid_template_rows": null,
            "height": null,
            "justify_content": null,
            "justify_items": null,
            "left": null,
            "margin": null,
            "max_height": null,
            "max_width": null,
            "min_height": null,
            "min_width": null,
            "object_fit": null,
            "object_position": null,
            "order": null,
            "overflow": null,
            "overflow_x": null,
            "overflow_y": null,
            "padding": null,
            "right": null,
            "top": null,
            "visibility": null,
            "width": null
          }
        },
        "d531bc1f15ae4f7d88385b6ab3f67dd2": {
          "model_module": "@jupyter-widgets/base",
          "model_name": "LayoutModel",
          "model_module_version": "1.2.0",
          "state": {
            "_model_module": "@jupyter-widgets/base",
            "_model_module_version": "1.2.0",
            "_model_name": "LayoutModel",
            "_view_count": null,
            "_view_module": "@jupyter-widgets/base",
            "_view_module_version": "1.2.0",
            "_view_name": "LayoutView",
            "align_content": null,
            "align_items": null,
            "align_self": null,
            "border": null,
            "bottom": null,
            "display": null,
            "flex": null,
            "flex_flow": null,
            "grid_area": null,
            "grid_auto_columns": null,
            "grid_auto_flow": null,
            "grid_auto_rows": null,
            "grid_column": null,
            "grid_gap": null,
            "grid_row": null,
            "grid_template_areas": null,
            "grid_template_columns": null,
            "grid_template_rows": null,
            "height": null,
            "justify_content": null,
            "justify_items": null,
            "left": null,
            "margin": null,
            "max_height": null,
            "max_width": null,
            "min_height": null,
            "min_width": null,
            "object_fit": null,
            "object_position": null,
            "order": null,
            "overflow": null,
            "overflow_x": null,
            "overflow_y": null,
            "padding": null,
            "right": null,
            "top": null,
            "visibility": null,
            "width": null
          }
        },
        "5e546d1ae77147eca59aa7a975a94156": {
          "model_module": "@jupyter-widgets/controls",
          "model_name": "DescriptionStyleModel",
          "model_module_version": "1.5.0",
          "state": {
            "_model_module": "@jupyter-widgets/controls",
            "_model_module_version": "1.5.0",
            "_model_name": "DescriptionStyleModel",
            "_view_count": null,
            "_view_module": "@jupyter-widgets/base",
            "_view_module_version": "1.2.0",
            "_view_name": "StyleView",
            "description_width": ""
          }
        },
        "1de7dbb8f2d440b8be2ad95625e63c25": {
          "model_module": "@jupyter-widgets/base",
          "model_name": "LayoutModel",
          "model_module_version": "1.2.0",
          "state": {
            "_model_module": "@jupyter-widgets/base",
            "_model_module_version": "1.2.0",
            "_model_name": "LayoutModel",
            "_view_count": null,
            "_view_module": "@jupyter-widgets/base",
            "_view_module_version": "1.2.0",
            "_view_name": "LayoutView",
            "align_content": null,
            "align_items": null,
            "align_self": null,
            "border": null,
            "bottom": null,
            "display": null,
            "flex": null,
            "flex_flow": null,
            "grid_area": null,
            "grid_auto_columns": null,
            "grid_auto_flow": null,
            "grid_auto_rows": null,
            "grid_column": null,
            "grid_gap": null,
            "grid_row": null,
            "grid_template_areas": null,
            "grid_template_columns": null,
            "grid_template_rows": null,
            "height": null,
            "justify_content": null,
            "justify_items": null,
            "left": null,
            "margin": null,
            "max_height": null,
            "max_width": null,
            "min_height": null,
            "min_width": null,
            "object_fit": null,
            "object_position": null,
            "order": null,
            "overflow": null,
            "overflow_x": null,
            "overflow_y": null,
            "padding": null,
            "right": null,
            "top": null,
            "visibility": null,
            "width": null
          }
        },
        "c7fbf70d264c4e028ebb04280d04cab3": {
          "model_module": "@jupyter-widgets/controls",
          "model_name": "ProgressStyleModel",
          "model_module_version": "1.5.0",
          "state": {
            "_model_module": "@jupyter-widgets/controls",
            "_model_module_version": "1.5.0",
            "_model_name": "ProgressStyleModel",
            "_view_count": null,
            "_view_module": "@jupyter-widgets/base",
            "_view_module_version": "1.2.0",
            "_view_name": "StyleView",
            "bar_color": null,
            "description_width": ""
          }
        },
        "0cd7998391f54979aa62b69f38fbc0e5": {
          "model_module": "@jupyter-widgets/base",
          "model_name": "LayoutModel",
          "model_module_version": "1.2.0",
          "state": {
            "_model_module": "@jupyter-widgets/base",
            "_model_module_version": "1.2.0",
            "_model_name": "LayoutModel",
            "_view_count": null,
            "_view_module": "@jupyter-widgets/base",
            "_view_module_version": "1.2.0",
            "_view_name": "LayoutView",
            "align_content": null,
            "align_items": null,
            "align_self": null,
            "border": null,
            "bottom": null,
            "display": null,
            "flex": null,
            "flex_flow": null,
            "grid_area": null,
            "grid_auto_columns": null,
            "grid_auto_flow": null,
            "grid_auto_rows": null,
            "grid_column": null,
            "grid_gap": null,
            "grid_row": null,
            "grid_template_areas": null,
            "grid_template_columns": null,
            "grid_template_rows": null,
            "height": null,
            "justify_content": null,
            "justify_items": null,
            "left": null,
            "margin": null,
            "max_height": null,
            "max_width": null,
            "min_height": null,
            "min_width": null,
            "object_fit": null,
            "object_position": null,
            "order": null,
            "overflow": null,
            "overflow_x": null,
            "overflow_y": null,
            "padding": null,
            "right": null,
            "top": null,
            "visibility": null,
            "width": null
          }
        },
        "9f307b64d9384ea5b94475c2f927013e": {
          "model_module": "@jupyter-widgets/controls",
          "model_name": "DescriptionStyleModel",
          "model_module_version": "1.5.0",
          "state": {
            "_model_module": "@jupyter-widgets/controls",
            "_model_module_version": "1.5.0",
            "_model_name": "DescriptionStyleModel",
            "_view_count": null,
            "_view_module": "@jupyter-widgets/base",
            "_view_module_version": "1.2.0",
            "_view_name": "StyleView",
            "description_width": ""
          }
        },
        "bd54f334bc1f4cfeace5785f2660a506": {
          "model_module": "@jupyter-widgets/controls",
          "model_name": "HBoxModel",
          "model_module_version": "1.5.0",
          "state": {
            "_dom_classes": [],
            "_model_module": "@jupyter-widgets/controls",
            "_model_module_version": "1.5.0",
            "_model_name": "HBoxModel",
            "_view_count": null,
            "_view_module": "@jupyter-widgets/controls",
            "_view_module_version": "1.5.0",
            "_view_name": "HBoxView",
            "box_style": "",
            "children": [
              "IPY_MODEL_54321366abee4a1595fb98ca102ed540",
              "IPY_MODEL_414fd2425eb64680a6b83fd4020047e9",
              "IPY_MODEL_d1b0af611ba243008a133952f3ec1fbd"
            ],
            "layout": "IPY_MODEL_17b3963de9934bdab97a2f60ff2ebbdd"
          }
        },
        "54321366abee4a1595fb98ca102ed540": {
          "model_module": "@jupyter-widgets/controls",
          "model_name": "HTMLModel",
          "model_module_version": "1.5.0",
          "state": {
            "_dom_classes": [],
            "_model_module": "@jupyter-widgets/controls",
            "_model_module_version": "1.5.0",
            "_model_name": "HTMLModel",
            "_view_count": null,
            "_view_module": "@jupyter-widgets/controls",
            "_view_module_version": "1.5.0",
            "_view_name": "HTMLView",
            "description": "",
            "description_tooltip": null,
            "layout": "IPY_MODEL_4cfe5a925cf84f41acbc84d90cd27e52",
            "placeholder": "​",
            "style": "IPY_MODEL_0b83f76d53514fa0853920311ca94494",
            "value": "Epoch: 1: 100%"
          }
        },
        "414fd2425eb64680a6b83fd4020047e9": {
          "model_module": "@jupyter-widgets/controls",
          "model_name": "FloatProgressModel",
          "model_module_version": "1.5.0",
          "state": {
            "_dom_classes": [],
            "_model_module": "@jupyter-widgets/controls",
            "_model_module_version": "1.5.0",
            "_model_name": "FloatProgressModel",
            "_view_count": null,
            "_view_module": "@jupyter-widgets/controls",
            "_view_module_version": "1.5.0",
            "_view_name": "ProgressView",
            "bar_style": "success",
            "description": "",
            "description_tooltip": null,
            "layout": "IPY_MODEL_38ad1e61f7e344d3b0c98fb7ed790e6d",
            "max": 2992,
            "min": 0,
            "orientation": "horizontal",
            "style": "IPY_MODEL_cb7fd1ad4cf340289db595a1b7542fa8",
            "value": 2992
          }
        },
        "d1b0af611ba243008a133952f3ec1fbd": {
          "model_module": "@jupyter-widgets/controls",
          "model_name": "HTMLModel",
          "model_module_version": "1.5.0",
          "state": {
            "_dom_classes": [],
            "_model_module": "@jupyter-widgets/controls",
            "_model_module_version": "1.5.0",
            "_model_name": "HTMLModel",
            "_view_count": null,
            "_view_module": "@jupyter-widgets/controls",
            "_view_module_version": "1.5.0",
            "_view_name": "HTMLView",
            "description": "",
            "description_tooltip": null,
            "layout": "IPY_MODEL_599b150d55c64b87a12dd9158ebd65ab",
            "placeholder": "​",
            "style": "IPY_MODEL_0e0d78d8022b43f89114bc2acf25556f",
            "value": " 2992/2992 [01:32&lt;00:00, 34.85it/s]"
          }
        },
        "17b3963de9934bdab97a2f60ff2ebbdd": {
          "model_module": "@jupyter-widgets/base",
          "model_name": "LayoutModel",
          "model_module_version": "1.2.0",
          "state": {
            "_model_module": "@jupyter-widgets/base",
            "_model_module_version": "1.2.0",
            "_model_name": "LayoutModel",
            "_view_count": null,
            "_view_module": "@jupyter-widgets/base",
            "_view_module_version": "1.2.0",
            "_view_name": "LayoutView",
            "align_content": null,
            "align_items": null,
            "align_self": null,
            "border": null,
            "bottom": null,
            "display": null,
            "flex": null,
            "flex_flow": null,
            "grid_area": null,
            "grid_auto_columns": null,
            "grid_auto_flow": null,
            "grid_auto_rows": null,
            "grid_column": null,
            "grid_gap": null,
            "grid_row": null,
            "grid_template_areas": null,
            "grid_template_columns": null,
            "grid_template_rows": null,
            "height": null,
            "justify_content": null,
            "justify_items": null,
            "left": null,
            "margin": null,
            "max_height": null,
            "max_width": null,
            "min_height": null,
            "min_width": null,
            "object_fit": null,
            "object_position": null,
            "order": null,
            "overflow": null,
            "overflow_x": null,
            "overflow_y": null,
            "padding": null,
            "right": null,
            "top": null,
            "visibility": null,
            "width": null
          }
        },
        "4cfe5a925cf84f41acbc84d90cd27e52": {
          "model_module": "@jupyter-widgets/base",
          "model_name": "LayoutModel",
          "model_module_version": "1.2.0",
          "state": {
            "_model_module": "@jupyter-widgets/base",
            "_model_module_version": "1.2.0",
            "_model_name": "LayoutModel",
            "_view_count": null,
            "_view_module": "@jupyter-widgets/base",
            "_view_module_version": "1.2.0",
            "_view_name": "LayoutView",
            "align_content": null,
            "align_items": null,
            "align_self": null,
            "border": null,
            "bottom": null,
            "display": null,
            "flex": null,
            "flex_flow": null,
            "grid_area": null,
            "grid_auto_columns": null,
            "grid_auto_flow": null,
            "grid_auto_rows": null,
            "grid_column": null,
            "grid_gap": null,
            "grid_row": null,
            "grid_template_areas": null,
            "grid_template_columns": null,
            "grid_template_rows": null,
            "height": null,
            "justify_content": null,
            "justify_items": null,
            "left": null,
            "margin": null,
            "max_height": null,
            "max_width": null,
            "min_height": null,
            "min_width": null,
            "object_fit": null,
            "object_position": null,
            "order": null,
            "overflow": null,
            "overflow_x": null,
            "overflow_y": null,
            "padding": null,
            "right": null,
            "top": null,
            "visibility": null,
            "width": null
          }
        },
        "0b83f76d53514fa0853920311ca94494": {
          "model_module": "@jupyter-widgets/controls",
          "model_name": "DescriptionStyleModel",
          "model_module_version": "1.5.0",
          "state": {
            "_model_module": "@jupyter-widgets/controls",
            "_model_module_version": "1.5.0",
            "_model_name": "DescriptionStyleModel",
            "_view_count": null,
            "_view_module": "@jupyter-widgets/base",
            "_view_module_version": "1.2.0",
            "_view_name": "StyleView",
            "description_width": ""
          }
        },
        "38ad1e61f7e344d3b0c98fb7ed790e6d": {
          "model_module": "@jupyter-widgets/base",
          "model_name": "LayoutModel",
          "model_module_version": "1.2.0",
          "state": {
            "_model_module": "@jupyter-widgets/base",
            "_model_module_version": "1.2.0",
            "_model_name": "LayoutModel",
            "_view_count": null,
            "_view_module": "@jupyter-widgets/base",
            "_view_module_version": "1.2.0",
            "_view_name": "LayoutView",
            "align_content": null,
            "align_items": null,
            "align_self": null,
            "border": null,
            "bottom": null,
            "display": null,
            "flex": null,
            "flex_flow": null,
            "grid_area": null,
            "grid_auto_columns": null,
            "grid_auto_flow": null,
            "grid_auto_rows": null,
            "grid_column": null,
            "grid_gap": null,
            "grid_row": null,
            "grid_template_areas": null,
            "grid_template_columns": null,
            "grid_template_rows": null,
            "height": null,
            "justify_content": null,
            "justify_items": null,
            "left": null,
            "margin": null,
            "max_height": null,
            "max_width": null,
            "min_height": null,
            "min_width": null,
            "object_fit": null,
            "object_position": null,
            "order": null,
            "overflow": null,
            "overflow_x": null,
            "overflow_y": null,
            "padding": null,
            "right": null,
            "top": null,
            "visibility": null,
            "width": null
          }
        },
        "cb7fd1ad4cf340289db595a1b7542fa8": {
          "model_module": "@jupyter-widgets/controls",
          "model_name": "ProgressStyleModel",
          "model_module_version": "1.5.0",
          "state": {
            "_model_module": "@jupyter-widgets/controls",
            "_model_module_version": "1.5.0",
            "_model_name": "ProgressStyleModel",
            "_view_count": null,
            "_view_module": "@jupyter-widgets/base",
            "_view_module_version": "1.2.0",
            "_view_name": "StyleView",
            "bar_color": null,
            "description_width": ""
          }
        },
        "599b150d55c64b87a12dd9158ebd65ab": {
          "model_module": "@jupyter-widgets/base",
          "model_name": "LayoutModel",
          "model_module_version": "1.2.0",
          "state": {
            "_model_module": "@jupyter-widgets/base",
            "_model_module_version": "1.2.0",
            "_model_name": "LayoutModel",
            "_view_count": null,
            "_view_module": "@jupyter-widgets/base",
            "_view_module_version": "1.2.0",
            "_view_name": "LayoutView",
            "align_content": null,
            "align_items": null,
            "align_self": null,
            "border": null,
            "bottom": null,
            "display": null,
            "flex": null,
            "flex_flow": null,
            "grid_area": null,
            "grid_auto_columns": null,
            "grid_auto_flow": null,
            "grid_auto_rows": null,
            "grid_column": null,
            "grid_gap": null,
            "grid_row": null,
            "grid_template_areas": null,
            "grid_template_columns": null,
            "grid_template_rows": null,
            "height": null,
            "justify_content": null,
            "justify_items": null,
            "left": null,
            "margin": null,
            "max_height": null,
            "max_width": null,
            "min_height": null,
            "min_width": null,
            "object_fit": null,
            "object_position": null,
            "order": null,
            "overflow": null,
            "overflow_x": null,
            "overflow_y": null,
            "padding": null,
            "right": null,
            "top": null,
            "visibility": null,
            "width": null
          }
        },
        "0e0d78d8022b43f89114bc2acf25556f": {
          "model_module": "@jupyter-widgets/controls",
          "model_name": "DescriptionStyleModel",
          "model_module_version": "1.5.0",
          "state": {
            "_model_module": "@jupyter-widgets/controls",
            "_model_module_version": "1.5.0",
            "_model_name": "DescriptionStyleModel",
            "_view_count": null,
            "_view_module": "@jupyter-widgets/base",
            "_view_module_version": "1.2.0",
            "_view_name": "StyleView",
            "description_width": ""
          }
        },
        "2ec62878f66543d58551e5732998b0a3": {
          "model_module": "@jupyter-widgets/controls",
          "model_name": "HBoxModel",
          "model_module_version": "1.5.0",
          "state": {
            "_dom_classes": [],
            "_model_module": "@jupyter-widgets/controls",
            "_model_module_version": "1.5.0",
            "_model_name": "HBoxModel",
            "_view_count": null,
            "_view_module": "@jupyter-widgets/controls",
            "_view_module_version": "1.5.0",
            "_view_name": "HBoxView",
            "box_style": "",
            "children": [
              "IPY_MODEL_3bfdb7f5f3c44f1cac82f037697a9461",
              "IPY_MODEL_18c688aad8194d759515aefb558f0f3c",
              "IPY_MODEL_9335bcdca4ec4ee6976a6bb6893bd544"
            ],
            "layout": "IPY_MODEL_74de01a7912f4ea59ff156a200e05ad4"
          }
        },
        "3bfdb7f5f3c44f1cac82f037697a9461": {
          "model_module": "@jupyter-widgets/controls",
          "model_name": "HTMLModel",
          "model_module_version": "1.5.0",
          "state": {
            "_dom_classes": [],
            "_model_module": "@jupyter-widgets/controls",
            "_model_module_version": "1.5.0",
            "_model_name": "HTMLModel",
            "_view_count": null,
            "_view_module": "@jupyter-widgets/controls",
            "_view_module_version": "1.5.0",
            "_view_name": "HTMLView",
            "description": "",
            "description_tooltip": null,
            "layout": "IPY_MODEL_df19f0b611ff4edc8cee381ae1388ada",
            "placeholder": "​",
            "style": "IPY_MODEL_ac6d998229bb4c509964f0a33ba373d4",
            "value": "Epoch: 1: 100%"
          }
        },
        "18c688aad8194d759515aefb558f0f3c": {
          "model_module": "@jupyter-widgets/controls",
          "model_name": "FloatProgressModel",
          "model_module_version": "1.5.0",
          "state": {
            "_dom_classes": [],
            "_model_module": "@jupyter-widgets/controls",
            "_model_module_version": "1.5.0",
            "_model_name": "FloatProgressModel",
            "_view_count": null,
            "_view_module": "@jupyter-widgets/controls",
            "_view_module_version": "1.5.0",
            "_view_name": "ProgressView",
            "bar_style": "success",
            "description": "",
            "description_tooltip": null,
            "layout": "IPY_MODEL_919959b236e34386a3d0decad2209f83",
            "max": 2992,
            "min": 0,
            "orientation": "horizontal",
            "style": "IPY_MODEL_4831319a704e4fa9b257188bbffae2ed",
            "value": 2992
          }
        },
        "9335bcdca4ec4ee6976a6bb6893bd544": {
          "model_module": "@jupyter-widgets/controls",
          "model_name": "HTMLModel",
          "model_module_version": "1.5.0",
          "state": {
            "_dom_classes": [],
            "_model_module": "@jupyter-widgets/controls",
            "_model_module_version": "1.5.0",
            "_model_name": "HTMLModel",
            "_view_count": null,
            "_view_module": "@jupyter-widgets/controls",
            "_view_module_version": "1.5.0",
            "_view_name": "HTMLView",
            "description": "",
            "description_tooltip": null,
            "layout": "IPY_MODEL_f3b6dfebe9ec42ed9b503302a3230214",
            "placeholder": "​",
            "style": "IPY_MODEL_cdd6c3e7a14547df883232212076f1c9",
            "value": " 2992/2992 [00:45&lt;00:00, 71.75it/s]"
          }
        },
        "74de01a7912f4ea59ff156a200e05ad4": {
          "model_module": "@jupyter-widgets/base",
          "model_name": "LayoutModel",
          "model_module_version": "1.2.0",
          "state": {
            "_model_module": "@jupyter-widgets/base",
            "_model_module_version": "1.2.0",
            "_model_name": "LayoutModel",
            "_view_count": null,
            "_view_module": "@jupyter-widgets/base",
            "_view_module_version": "1.2.0",
            "_view_name": "LayoutView",
            "align_content": null,
            "align_items": null,
            "align_self": null,
            "border": null,
            "bottom": null,
            "display": null,
            "flex": null,
            "flex_flow": null,
            "grid_area": null,
            "grid_auto_columns": null,
            "grid_auto_flow": null,
            "grid_auto_rows": null,
            "grid_column": null,
            "grid_gap": null,
            "grid_row": null,
            "grid_template_areas": null,
            "grid_template_columns": null,
            "grid_template_rows": null,
            "height": null,
            "justify_content": null,
            "justify_items": null,
            "left": null,
            "margin": null,
            "max_height": null,
            "max_width": null,
            "min_height": null,
            "min_width": null,
            "object_fit": null,
            "object_position": null,
            "order": null,
            "overflow": null,
            "overflow_x": null,
            "overflow_y": null,
            "padding": null,
            "right": null,
            "top": null,
            "visibility": null,
            "width": null
          }
        },
        "df19f0b611ff4edc8cee381ae1388ada": {
          "model_module": "@jupyter-widgets/base",
          "model_name": "LayoutModel",
          "model_module_version": "1.2.0",
          "state": {
            "_model_module": "@jupyter-widgets/base",
            "_model_module_version": "1.2.0",
            "_model_name": "LayoutModel",
            "_view_count": null,
            "_view_module": "@jupyter-widgets/base",
            "_view_module_version": "1.2.0",
            "_view_name": "LayoutView",
            "align_content": null,
            "align_items": null,
            "align_self": null,
            "border": null,
            "bottom": null,
            "display": null,
            "flex": null,
            "flex_flow": null,
            "grid_area": null,
            "grid_auto_columns": null,
            "grid_auto_flow": null,
            "grid_auto_rows": null,
            "grid_column": null,
            "grid_gap": null,
            "grid_row": null,
            "grid_template_areas": null,
            "grid_template_columns": null,
            "grid_template_rows": null,
            "height": null,
            "justify_content": null,
            "justify_items": null,
            "left": null,
            "margin": null,
            "max_height": null,
            "max_width": null,
            "min_height": null,
            "min_width": null,
            "object_fit": null,
            "object_position": null,
            "order": null,
            "overflow": null,
            "overflow_x": null,
            "overflow_y": null,
            "padding": null,
            "right": null,
            "top": null,
            "visibility": null,
            "width": null
          }
        },
        "ac6d998229bb4c509964f0a33ba373d4": {
          "model_module": "@jupyter-widgets/controls",
          "model_name": "DescriptionStyleModel",
          "model_module_version": "1.5.0",
          "state": {
            "_model_module": "@jupyter-widgets/controls",
            "_model_module_version": "1.5.0",
            "_model_name": "DescriptionStyleModel",
            "_view_count": null,
            "_view_module": "@jupyter-widgets/base",
            "_view_module_version": "1.2.0",
            "_view_name": "StyleView",
            "description_width": ""
          }
        },
        "919959b236e34386a3d0decad2209f83": {
          "model_module": "@jupyter-widgets/base",
          "model_name": "LayoutModel",
          "model_module_version": "1.2.0",
          "state": {
            "_model_module": "@jupyter-widgets/base",
            "_model_module_version": "1.2.0",
            "_model_name": "LayoutModel",
            "_view_count": null,
            "_view_module": "@jupyter-widgets/base",
            "_view_module_version": "1.2.0",
            "_view_name": "LayoutView",
            "align_content": null,
            "align_items": null,
            "align_self": null,
            "border": null,
            "bottom": null,
            "display": null,
            "flex": null,
            "flex_flow": null,
            "grid_area": null,
            "grid_auto_columns": null,
            "grid_auto_flow": null,
            "grid_auto_rows": null,
            "grid_column": null,
            "grid_gap": null,
            "grid_row": null,
            "grid_template_areas": null,
            "grid_template_columns": null,
            "grid_template_rows": null,
            "height": null,
            "justify_content": null,
            "justify_items": null,
            "left": null,
            "margin": null,
            "max_height": null,
            "max_width": null,
            "min_height": null,
            "min_width": null,
            "object_fit": null,
            "object_position": null,
            "order": null,
            "overflow": null,
            "overflow_x": null,
            "overflow_y": null,
            "padding": null,
            "right": null,
            "top": null,
            "visibility": null,
            "width": null
          }
        },
        "4831319a704e4fa9b257188bbffae2ed": {
          "model_module": "@jupyter-widgets/controls",
          "model_name": "ProgressStyleModel",
          "model_module_version": "1.5.0",
          "state": {
            "_model_module": "@jupyter-widgets/controls",
            "_model_module_version": "1.5.0",
            "_model_name": "ProgressStyleModel",
            "_view_count": null,
            "_view_module": "@jupyter-widgets/base",
            "_view_module_version": "1.2.0",
            "_view_name": "StyleView",
            "bar_color": null,
            "description_width": ""
          }
        },
        "f3b6dfebe9ec42ed9b503302a3230214": {
          "model_module": "@jupyter-widgets/base",
          "model_name": "LayoutModel",
          "model_module_version": "1.2.0",
          "state": {
            "_model_module": "@jupyter-widgets/base",
            "_model_module_version": "1.2.0",
            "_model_name": "LayoutModel",
            "_view_count": null,
            "_view_module": "@jupyter-widgets/base",
            "_view_module_version": "1.2.0",
            "_view_name": "LayoutView",
            "align_content": null,
            "align_items": null,
            "align_self": null,
            "border": null,
            "bottom": null,
            "display": null,
            "flex": null,
            "flex_flow": null,
            "grid_area": null,
            "grid_auto_columns": null,
            "grid_auto_flow": null,
            "grid_auto_rows": null,
            "grid_column": null,
            "grid_gap": null,
            "grid_row": null,
            "grid_template_areas": null,
            "grid_template_columns": null,
            "grid_template_rows": null,
            "height": null,
            "justify_content": null,
            "justify_items": null,
            "left": null,
            "margin": null,
            "max_height": null,
            "max_width": null,
            "min_height": null,
            "min_width": null,
            "object_fit": null,
            "object_position": null,
            "order": null,
            "overflow": null,
            "overflow_x": null,
            "overflow_y": null,
            "padding": null,
            "right": null,
            "top": null,
            "visibility": null,
            "width": null
          }
        },
        "cdd6c3e7a14547df883232212076f1c9": {
          "model_module": "@jupyter-widgets/controls",
          "model_name": "DescriptionStyleModel",
          "model_module_version": "1.5.0",
          "state": {
            "_model_module": "@jupyter-widgets/controls",
            "_model_module_version": "1.5.0",
            "_model_name": "DescriptionStyleModel",
            "_view_count": null,
            "_view_module": "@jupyter-widgets/base",
            "_view_module_version": "1.2.0",
            "_view_name": "StyleView",
            "description_width": ""
          }
        }
      }
    }
  },
  "nbformat": 4,
  "nbformat_minor": 0
}