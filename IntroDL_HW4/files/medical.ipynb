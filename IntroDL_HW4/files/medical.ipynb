{
  "cells": [
    {
      "cell_type": "markdown",
      "source": [
        "# Import libraries"
      ],
      "metadata": {
        "id": "_0VHf7-_5hwQ"
      }
    },
    {
      "cell_type": "markdown",
      "source": [
        "First we import the libraries to use them later"
      ],
      "metadata": {
        "id": "ujuCMqmT55bR"
      }
    },
    {
      "cell_type": "code",
      "source": [
        "! pip install visualkeras"
      ],
      "metadata": {
        "id": "sBUS4Nq2wMLD"
      },
      "execution_count": null,
      "outputs": []
    },
    {
      "cell_type": "code",
      "execution_count": null,
      "metadata": {
        "id": "1ZkP_2AZvjdP"
      },
      "outputs": [],
      "source": [
        "import os\n",
        "import cv2\n",
        "import time\n",
        "import math\n",
        "import glob\n",
        "import seaborn\n",
        "import visualkeras\n",
        "import numpy as np\n",
        "import pandas as pd\n",
        "from PIL import Image\n",
        "import tensorflow as tf\n",
        "from PIL import ImageFont\n",
        "from tensorflow import keras\n",
        "from google.colab import files\n",
        "import matplotlib.pyplot as plt\n",
        "from prettytable import PrettyTable\n",
        "from keras.callbacks import ModelCheckpoint\n",
        "from tensorflow.keras.utils import to_categorical\n",
        "from sklearn.model_selection import train_test_split\n",
        "from tensorflow.keras.preprocessing.image import ImageDataGenerator\n",
        "from tensorflow.keras.callbacks import EarlyStopping, ModelCheckpoint\n",
        "from sklearn.metrics import confusion_matrix , accuracy_score, classification_report"
      ]
    },
    {
      "cell_type": "markdown",
      "source": [
        "# Download and create dataset"
      ],
      "metadata": {
        "id": "8Uoxxvrz5pMm"
      }
    },
    {
      "cell_type": "markdown",
      "source": [
        "in this section we download the dataset from:<br> https://figshare.com/articles/dataset/GRAZPEDWRI-DX/14825193"
      ],
      "metadata": {
        "id": "x-VdDyPn6Eap"
      }
    },
    {
      "cell_type": "code",
      "execution_count": null,
      "metadata": {
        "id": "oNSWsifn9ilA"
      },
      "outputs": [],
      "source": [
        "# Download the first file #"
      ]
    },
    {
      "cell_type": "code",
      "execution_count": null,
      "metadata": {
        "id": "azRe-8brgU69"
      },
      "outputs": [],
      "source": [
        "# Download the second file #"
      ]
    },
    {
      "cell_type": "code",
      "execution_count": null,
      "metadata": {
        "id": "-qHc9C6iheOa"
      },
      "outputs": [],
      "source": [
        "# Download the third file #"
      ]
    },
    {
      "cell_type": "code",
      "execution_count": null,
      "metadata": {
        "id": "EK8FvuBHiJTS"
      },
      "outputs": [],
      "source": [
        "# Download the fourth file #"
      ]
    },
    {
      "cell_type": "code",
      "execution_count": null,
      "metadata": {
        "id": "Rxxr6daKi7vq"
      },
      "outputs": [],
      "source": [
        "# Download the fifth file #"
      ]
    },
    {
      "cell_type": "code",
      "source": [
        "# Download the sixth file #"
      ],
      "metadata": {
        "id": "4kOUAclRvMI_"
      },
      "execution_count": null,
      "outputs": []
    },
    {
      "cell_type": "markdown",
      "source": [
        "in the next step, we extract all the images"
      ],
      "metadata": {
        "id": "gIUmt3LR7xQB"
      }
    },
    {
      "cell_type": "code",
      "execution_count": null,
      "metadata": {
        "id": "X64YjaWAB7Jo"
      },
      "outputs": [],
      "source": [
        "# Your code here #"
      ]
    },
    {
      "cell_type": "markdown",
      "source": [
        "Next, due to disk limitations, we delete all zip files"
      ],
      "metadata": {
        "id": "3UEml_5B7vLP"
      }
    },
    {
      "cell_type": "code",
      "execution_count": null,
      "metadata": {
        "id": "6HI-Kuz8crJ1"
      },
      "outputs": [],
      "source": [
        "# Your code here #"
      ]
    },
    {
      "cell_type": "markdown",
      "source": [
        "# Read csv file"
      ],
      "metadata": {
        "id": "7aAowzJT_IxC"
      }
    },
    {
      "cell_type": "markdown",
      "source": [
        "In the csv file, we only need the filestem and fracture_visible columns. Here is a description of them:\n",
        "\n",
        "*   <b>filestem:<br> </b> the name of images (note that we should add 'png' to them)\n",
        "*   <b>fracture_visible: </b> <br> image labels (note that the labels are binary and we replace 'Nan' values with '0') <br>\n",
        "---\n",
        "As it is clear from the csv file, we have 20327 photos\n",
        "\n",
        "\n",
        "\n",
        "\n",
        "\n"
      ],
      "metadata": {
        "id": "ZaMPK4N2_UjW"
      }
    },
    {
      "cell_type": "code",
      "execution_count": null,
      "metadata": {
        "id": "c9HX308UA3bX",
        "colab": {
          "base_uri": "https://localhost:8080/",
          "height": 423
        },
        "outputId": "b58512e0-0275-484a-a032-721cd6691d3e"
      },
      "outputs": [
        {
          "output_type": "execute_result",
          "data": {
            "text/plain": [
              "                                 filestem fracture_visible\n",
              "446    0139_0814048580_02_WRI-L2_M016.png              1.0\n",
              "8985   2668_0379440903_04_WRI-R1_M016.png              1.0\n",
              "15334  4587_0374311741_01_WRI-L1_M010.png              1.0\n",
              "61     0025_0483842914_01_WRI-L2_F000.png              1.0\n",
              "15694  4689_0323683654_01_WRI-R2_F008.png              1.0\n",
              "...                                   ...              ...\n",
              "13354  3989_0867345839_01_WRI-R1_F014.png              0.0\n",
              "8760   2609_0246356313_01_WRI-R1_M012.png              0.0\n",
              "15641  4673_1240375256_04_WRI-L1_M012.png              1.0\n",
              "4771   1427_0280007956_01_WRI-L2_F014.png              0.0\n",
              "195    0063_0566100805_02_WRI-R1_F011.png              1.0\n",
              "\n",
              "[20327 rows x 2 columns]"
            ],
            "text/html": [
              "\n",
              "  <div id=\"df-a061f94b-a6d5-462b-b686-b73a3080c0b0\" class=\"colab-df-container\">\n",
              "    <div>\n",
              "<style scoped>\n",
              "    .dataframe tbody tr th:only-of-type {\n",
              "        vertical-align: middle;\n",
              "    }\n",
              "\n",
              "    .dataframe tbody tr th {\n",
              "        vertical-align: top;\n",
              "    }\n",
              "\n",
              "    .dataframe thead th {\n",
              "        text-align: right;\n",
              "    }\n",
              "</style>\n",
              "<table border=\"1\" class=\"dataframe\">\n",
              "  <thead>\n",
              "    <tr style=\"text-align: right;\">\n",
              "      <th></th>\n",
              "      <th>filestem</th>\n",
              "      <th>fracture_visible</th>\n",
              "    </tr>\n",
              "  </thead>\n",
              "  <tbody>\n",
              "    <tr>\n",
              "      <th>446</th>\n",
              "      <td>0139_0814048580_02_WRI-L2_M016.png</td>\n",
              "      <td>1.0</td>\n",
              "    </tr>\n",
              "    <tr>\n",
              "      <th>8985</th>\n",
              "      <td>2668_0379440903_04_WRI-R1_M016.png</td>\n",
              "      <td>1.0</td>\n",
              "    </tr>\n",
              "    <tr>\n",
              "      <th>15334</th>\n",
              "      <td>4587_0374311741_01_WRI-L1_M010.png</td>\n",
              "      <td>1.0</td>\n",
              "    </tr>\n",
              "    <tr>\n",
              "      <th>61</th>\n",
              "      <td>0025_0483842914_01_WRI-L2_F000.png</td>\n",
              "      <td>1.0</td>\n",
              "    </tr>\n",
              "    <tr>\n",
              "      <th>15694</th>\n",
              "      <td>4689_0323683654_01_WRI-R2_F008.png</td>\n",
              "      <td>1.0</td>\n",
              "    </tr>\n",
              "    <tr>\n",
              "      <th>...</th>\n",
              "      <td>...</td>\n",
              "      <td>...</td>\n",
              "    </tr>\n",
              "    <tr>\n",
              "      <th>13354</th>\n",
              "      <td>3989_0867345839_01_WRI-R1_F014.png</td>\n",
              "      <td>0.0</td>\n",
              "    </tr>\n",
              "    <tr>\n",
              "      <th>8760</th>\n",
              "      <td>2609_0246356313_01_WRI-R1_M012.png</td>\n",
              "      <td>0.0</td>\n",
              "    </tr>\n",
              "    <tr>\n",
              "      <th>15641</th>\n",
              "      <td>4673_1240375256_04_WRI-L1_M012.png</td>\n",
              "      <td>1.0</td>\n",
              "    </tr>\n",
              "    <tr>\n",
              "      <th>4771</th>\n",
              "      <td>1427_0280007956_01_WRI-L2_F014.png</td>\n",
              "      <td>0.0</td>\n",
              "    </tr>\n",
              "    <tr>\n",
              "      <th>195</th>\n",
              "      <td>0063_0566100805_02_WRI-R1_F011.png</td>\n",
              "      <td>1.0</td>\n",
              "    </tr>\n",
              "  </tbody>\n",
              "</table>\n",
              "<p>20327 rows × 2 columns</p>\n",
              "</div>\n",
              "    <div class=\"colab-df-buttons\">\n",
              "\n",
              "  <div class=\"colab-df-container\">\n",
              "    <button class=\"colab-df-convert\" onclick=\"convertToInteractive('df-a061f94b-a6d5-462b-b686-b73a3080c0b0')\"\n",
              "            title=\"Convert this dataframe to an interactive table.\"\n",
              "            style=\"display:none;\">\n",
              "\n",
              "  <svg xmlns=\"http://www.w3.org/2000/svg\" height=\"24px\" viewBox=\"0 -960 960 960\">\n",
              "    <path d=\"M120-120v-720h720v720H120Zm60-500h600v-160H180v160Zm220 220h160v-160H400v160Zm0 220h160v-160H400v160ZM180-400h160v-160H180v160Zm440 0h160v-160H620v160ZM180-180h160v-160H180v160Zm440 0h160v-160H620v160Z\"/>\n",
              "  </svg>\n",
              "    </button>\n",
              "\n",
              "  <style>\n",
              "    .colab-df-container {\n",
              "      display:flex;\n",
              "      gap: 12px;\n",
              "    }\n",
              "\n",
              "    .colab-df-convert {\n",
              "      background-color: #E8F0FE;\n",
              "      border: none;\n",
              "      border-radius: 50%;\n",
              "      cursor: pointer;\n",
              "      display: none;\n",
              "      fill: #1967D2;\n",
              "      height: 32px;\n",
              "      padding: 0 0 0 0;\n",
              "      width: 32px;\n",
              "    }\n",
              "\n",
              "    .colab-df-convert:hover {\n",
              "      background-color: #E2EBFA;\n",
              "      box-shadow: 0px 1px 2px rgba(60, 64, 67, 0.3), 0px 1px 3px 1px rgba(60, 64, 67, 0.15);\n",
              "      fill: #174EA6;\n",
              "    }\n",
              "\n",
              "    .colab-df-buttons div {\n",
              "      margin-bottom: 4px;\n",
              "    }\n",
              "\n",
              "    [theme=dark] .colab-df-convert {\n",
              "      background-color: #3B4455;\n",
              "      fill: #D2E3FC;\n",
              "    }\n",
              "\n",
              "    [theme=dark] .colab-df-convert:hover {\n",
              "      background-color: #434B5C;\n",
              "      box-shadow: 0px 1px 3px 1px rgba(0, 0, 0, 0.15);\n",
              "      filter: drop-shadow(0px 1px 2px rgba(0, 0, 0, 0.3));\n",
              "      fill: #FFFFFF;\n",
              "    }\n",
              "  </style>\n",
              "\n",
              "    <script>\n",
              "      const buttonEl =\n",
              "        document.querySelector('#df-a061f94b-a6d5-462b-b686-b73a3080c0b0 button.colab-df-convert');\n",
              "      buttonEl.style.display =\n",
              "        google.colab.kernel.accessAllowed ? 'block' : 'none';\n",
              "\n",
              "      async function convertToInteractive(key) {\n",
              "        const element = document.querySelector('#df-a061f94b-a6d5-462b-b686-b73a3080c0b0');\n",
              "        const dataTable =\n",
              "          await google.colab.kernel.invokeFunction('convertToInteractive',\n",
              "                                                    [key], {});\n",
              "        if (!dataTable) return;\n",
              "\n",
              "        const docLinkHtml = 'Like what you see? Visit the ' +\n",
              "          '<a target=\"_blank\" href=https://colab.research.google.com/notebooks/data_table.ipynb>data table notebook</a>'\n",
              "          + ' to learn more about interactive tables.';\n",
              "        element.innerHTML = '';\n",
              "        dataTable['output_type'] = 'display_data';\n",
              "        await google.colab.output.renderOutput(dataTable, element);\n",
              "        const docLink = document.createElement('div');\n",
              "        docLink.innerHTML = docLinkHtml;\n",
              "        element.appendChild(docLink);\n",
              "      }\n",
              "    </script>\n",
              "  </div>\n",
              "\n",
              "\n",
              "<div id=\"df-3bb4903d-3d72-407f-8a83-884d722aad1f\">\n",
              "  <button class=\"colab-df-quickchart\" onclick=\"quickchart('df-3bb4903d-3d72-407f-8a83-884d722aad1f')\"\n",
              "            title=\"Suggest charts.\"\n",
              "            style=\"display:none;\">\n",
              "\n",
              "<svg xmlns=\"http://www.w3.org/2000/svg\" height=\"24px\"viewBox=\"0 0 24 24\"\n",
              "     width=\"24px\">\n",
              "    <g>\n",
              "        <path d=\"M19 3H5c-1.1 0-2 .9-2 2v14c0 1.1.9 2 2 2h14c1.1 0 2-.9 2-2V5c0-1.1-.9-2-2-2zM9 17H7v-7h2v7zm4 0h-2V7h2v10zm4 0h-2v-4h2v4z\"/>\n",
              "    </g>\n",
              "</svg>\n",
              "  </button>\n",
              "\n",
              "<style>\n",
              "  .colab-df-quickchart {\n",
              "      --bg-color: #E8F0FE;\n",
              "      --fill-color: #1967D2;\n",
              "      --hover-bg-color: #E2EBFA;\n",
              "      --hover-fill-color: #174EA6;\n",
              "      --disabled-fill-color: #AAA;\n",
              "      --disabled-bg-color: #DDD;\n",
              "  }\n",
              "\n",
              "  [theme=dark] .colab-df-quickchart {\n",
              "      --bg-color: #3B4455;\n",
              "      --fill-color: #D2E3FC;\n",
              "      --hover-bg-color: #434B5C;\n",
              "      --hover-fill-color: #FFFFFF;\n",
              "      --disabled-bg-color: #3B4455;\n",
              "      --disabled-fill-color: #666;\n",
              "  }\n",
              "\n",
              "  .colab-df-quickchart {\n",
              "    background-color: var(--bg-color);\n",
              "    border: none;\n",
              "    border-radius: 50%;\n",
              "    cursor: pointer;\n",
              "    display: none;\n",
              "    fill: var(--fill-color);\n",
              "    height: 32px;\n",
              "    padding: 0;\n",
              "    width: 32px;\n",
              "  }\n",
              "\n",
              "  .colab-df-quickchart:hover {\n",
              "    background-color: var(--hover-bg-color);\n",
              "    box-shadow: 0 1px 2px rgba(60, 64, 67, 0.3), 0 1px 3px 1px rgba(60, 64, 67, 0.15);\n",
              "    fill: var(--button-hover-fill-color);\n",
              "  }\n",
              "\n",
              "  .colab-df-quickchart-complete:disabled,\n",
              "  .colab-df-quickchart-complete:disabled:hover {\n",
              "    background-color: var(--disabled-bg-color);\n",
              "    fill: var(--disabled-fill-color);\n",
              "    box-shadow: none;\n",
              "  }\n",
              "\n",
              "  .colab-df-spinner {\n",
              "    border: 2px solid var(--fill-color);\n",
              "    border-color: transparent;\n",
              "    border-bottom-color: var(--fill-color);\n",
              "    animation:\n",
              "      spin 1s steps(1) infinite;\n",
              "  }\n",
              "\n",
              "  @keyframes spin {\n",
              "    0% {\n",
              "      border-color: transparent;\n",
              "      border-bottom-color: var(--fill-color);\n",
              "      border-left-color: var(--fill-color);\n",
              "    }\n",
              "    20% {\n",
              "      border-color: transparent;\n",
              "      border-left-color: var(--fill-color);\n",
              "      border-top-color: var(--fill-color);\n",
              "    }\n",
              "    30% {\n",
              "      border-color: transparent;\n",
              "      border-left-color: var(--fill-color);\n",
              "      border-top-color: var(--fill-color);\n",
              "      border-right-color: var(--fill-color);\n",
              "    }\n",
              "    40% {\n",
              "      border-color: transparent;\n",
              "      border-right-color: var(--fill-color);\n",
              "      border-top-color: var(--fill-color);\n",
              "    }\n",
              "    60% {\n",
              "      border-color: transparent;\n",
              "      border-right-color: var(--fill-color);\n",
              "    }\n",
              "    80% {\n",
              "      border-color: transparent;\n",
              "      border-right-color: var(--fill-color);\n",
              "      border-bottom-color: var(--fill-color);\n",
              "    }\n",
              "    90% {\n",
              "      border-color: transparent;\n",
              "      border-bottom-color: var(--fill-color);\n",
              "    }\n",
              "  }\n",
              "</style>\n",
              "\n",
              "  <script>\n",
              "    async function quickchart(key) {\n",
              "      const quickchartButtonEl =\n",
              "        document.querySelector('#' + key + ' button');\n",
              "      quickchartButtonEl.disabled = true;  // To prevent multiple clicks.\n",
              "      quickchartButtonEl.classList.add('colab-df-spinner');\n",
              "      try {\n",
              "        const charts = await google.colab.kernel.invokeFunction(\n",
              "            'suggestCharts', [key], {});\n",
              "      } catch (error) {\n",
              "        console.error('Error during call to suggestCharts:', error);\n",
              "      }\n",
              "      quickchartButtonEl.classList.remove('colab-df-spinner');\n",
              "      quickchartButtonEl.classList.add('colab-df-quickchart-complete');\n",
              "    }\n",
              "    (() => {\n",
              "      let quickchartButtonEl =\n",
              "        document.querySelector('#df-3bb4903d-3d72-407f-8a83-884d722aad1f button');\n",
              "      quickchartButtonEl.style.display =\n",
              "        google.colab.kernel.accessAllowed ? 'block' : 'none';\n",
              "    })();\n",
              "  </script>\n",
              "</div>\n",
              "    </div>\n",
              "  </div>\n"
            ]
          },
          "metadata": {},
          "execution_count": 13
        }
      ],
      "source": [
        "# Your code here #"
      ]
    },
    {
      "cell_type": "markdown",
      "source": [
        "# Create dataloader"
      ],
      "metadata": {
        "id": "xQ1rDppkG_2I"
      }
    },
    {
      "cell_type": "markdown",
      "source": [
        "Our images are grayscale so we convert them to RGB becase the models input must have three channels.<br> Then we resize the images to (224,224,3) becuase all input images must be the same size."
      ],
      "metadata": {
        "id": "_wMSFZ22HFLo"
      }
    },
    {
      "cell_type": "code",
      "execution_count": null,
      "metadata": {
        "id": "dTNRCYCdTY0O"
      },
      "outputs": [],
      "source": [
        "size = 224\n",
        "image_dir = 'dataset/'\n",
        "idx = 0\n",
        "for f in df['filestem']:\n",
        "    if f[-3:] == 'jpg' or f[-3:] == 'png':\n",
        "        # Your code here #"
      ]
    },
    {
      "cell_type": "markdown",
      "source": [
        "Due to RAM limitations, we should use dataloader and batch size.<br> Here is some information about data after the dataloader is created:\n",
        "\n",
        "*   <b> Image shape: </b> (224, 224, 3)\n",
        "*   <b> Number of channels: </b> 3\n",
        "*   <b> Channel format: </b> RGB\n",
        "*   <b> Data scale: </b> 0 to 1\n",
        "*   <b> Batch size: </b> 64\n",
        "*   <b> Validation size: </b> 20%\n",
        "*   <b> Data type: </b> float32\n",
        "\n",
        "\n",
        "\n",
        "\n",
        "\n",
        "\n"
      ],
      "metadata": {
        "id": "VOjgzgheI1HI"
      }
    },
    {
      "cell_type": "code",
      "execution_count": null,
      "metadata": {
        "id": "AUUh6Vmb3CAq"
      },
      "outputs": [],
      "source": [
        "# Your code here #"
      ]
    },
    {
      "cell_type": "code",
      "source": [
        "train_size = train_generator.samples\n",
        "validation_size = val_generator.samples"
      ],
      "metadata": {
        "id": "Mp-BQAezNegh"
      },
      "execution_count": null,
      "outputs": []
    },
    {
      "cell_type": "markdown",
      "source": [
        "# plot some images"
      ],
      "metadata": {
        "id": "NvnIvGKUQqLp"
      }
    },
    {
      "cell_type": "markdown",
      "source": [
        "In this section we show some images and their labels with matplotlib library"
      ],
      "metadata": {
        "id": "9mxBSvBuW2Ex"
      }
    },
    {
      "cell_type": "code",
      "source": [
        "def visualize(data,figsize,shape):\n",
        "    '''\n",
        "      visualize some samples\n",
        "      input(s):\n",
        "        data (int): The dataset we want to show some examples of\n",
        "        figsize (tuple): size of images for display\n",
        "        shape (tuple): number of images for display\n",
        "      output(s):\n",
        "        visualize some samples\n",
        "    '''\n",
        "\n",
        "    # obtain one batch of training images\n",
        "    dataiter = iter(data)\n",
        "    images, labels = next(dataiter)\n",
        "\n",
        "    # plot the images in the batch, along with the corresponding labels\n",
        "    fig = plt.figure(figsize=figsize)\n",
        "    x,y = shape\n",
        "    for idx in np.arange(x*y):\n",
        "        ax = fig.add_subplot(x, y, idx+1, xticks=[], yticks=[])\n",
        "        ax.imshow(np.squeeze(images[idx]), cmap='gray')\n",
        "        # print out the correct label for each image\n",
        "        ax.set_title(str(labels[idx].argmax()))"
      ],
      "metadata": {
        "id": "4ZkAMtJ1Qw-z"
      },
      "execution_count": null,
      "outputs": []
    },
    {
      "cell_type": "code",
      "source": [
        "visualize(train_generator,(20,10),(2,4))"
      ],
      "metadata": {
        "id": "0PM-g2Bsi7bU"
      },
      "execution_count": null,
      "outputs": []
    },
    {
      "cell_type": "markdown",
      "source": [
        "# Define models"
      ],
      "metadata": {
        "id": "HFbe1xslP7Ai"
      }
    },
    {
      "cell_type": "markdown",
      "source": [
        "We use transfer learning with imagenet weights for training our models.<br> We fine tune the last two layers and use a multi layer perceptron(MLP) with a hidden layer of size 128 and two neurons in the last layer for prediction. <br> Also we use Categorical CrossEntropy as the loss function and Adam as the optimizer. <br> ![image.png](data:image/png;base64,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)"
      ],
      "metadata": {
        "id": "n2ti8Pm7XgUx"
      }
    },
    {
      "cell_type": "markdown",
      "source": [
        "in this section we define a function that takes `conv_model` as input and we want to fine-tune our model.\n",
        "\n",
        "Note: please tune the last two layers of the conv model and then create a mlp with 128 hidden layer and `relu` function for activation."
      ],
      "metadata": {
        "id": "r5laJ1tdFgzh"
      }
    },
    {
      "cell_type": "code",
      "execution_count": null,
      "metadata": {
        "id": "0vvSWOUgOk-J"
      },
      "outputs": [],
      "source": [
        "def define_model(conv_model):\n",
        "    # Your code here #\n",
        "    full_model = keras.models.Model(inputs=conv_model.input, outputs=predictions)\n",
        "    full_model.summary()\n",
        "    full_model.compile(loss='categorical_crossentropy',\n",
        "                      optimizer=keras.optimizers.Adam(),\n",
        "                      metrics=['accuracy'],)\n",
        "    return full_model"
      ]
    },
    {
      "cell_type": "markdown",
      "source": [
        "# Training"
      ],
      "metadata": {
        "id": "x7JRYSwbb4QR"
      }
    },
    {
      "cell_type": "markdown",
      "source": [
        "# Define fnctions for plots"
      ],
      "metadata": {
        "id": "pcjZqpldZ-Y1"
      }
    },
    {
      "cell_type": "code",
      "source": [
        "def loss_plot(model_history):\n",
        "    plt.figure(figsize=(10,4))\n",
        "    plt.subplot(1,2,1)\n",
        "    plt.plot(model_history.history['loss']);\n",
        "    plt.title('Training Loss');\n",
        "    plt.subplot(1,2,2)\n",
        "    plt.plot(model_history.history['val_loss']);\n",
        "    plt.title('validation Loss');\n",
        "    plt.show()\n",
        "\n",
        "def acc_plot(model_history):\n",
        "    plt.figure(figsize=(10,4))\n",
        "    plt.subplot(1,2,1)\n",
        "    plt.plot(VGG_history.history['accuracy']);\n",
        "    plt.title('Training accuracy');\n",
        "    plt.subplot(1,2,2)\n",
        "    plt.plot(VGG_history.history['val_accuracy']);\n",
        "    plt.title('validation accuracy');\n",
        "    plt.show()\n",
        "\n",
        "def cm_plot(model):\n",
        "    test_labels = []\n",
        "    predict_labels =[]\n",
        "    for i in range(0,int(64)):\n",
        "        test_labels.extend(np.array(val_generator[i][1]))\n",
        "        predict_labels.extend(np.array(model.predict(val_generator[i][0], verbose = 0)))\n",
        "    test_labels = np.array(test_labels)\n",
        "    test_labels = test_labels.argmax(axis=1)\n",
        "    predict_labels = np.array(predict_labels)\n",
        "    predict_labels = predict_labels.argmax(axis=1)\n",
        "\n",
        "    cm = confusion_matrix(test_labels, predict_labels)\n",
        "    info=['0','1']\n",
        "    plt.figure(figsize = (12,12))\n",
        "    ax = seaborn.heatmap(cm, cmap=plt.cm.Blues, annot=True, square=True, xticklabels = info, yticklabels = info)\n",
        "    ax.set_ylabel('Actual', fontsize=40)\n",
        "    ax.set_xlabel('Predicted', fontsize=40)\n",
        "    print(cm)\n",
        "    plt.show()\n",
        "\n",
        "def visualizer(data, model, figsize, shape):\n",
        "    # obtain one batch of test images\n",
        "    dataiter = iter(data)\n",
        "    images, labels = next(dataiter)\n",
        "\n",
        "    # get sample predictions\n",
        "    preds = model.predict(images).argmax(axis=1)\n",
        "    labels = labels.argmax(axis=1)\n",
        "    # plot the images in the batch, along with predicted and true labels\n",
        "    fig = plt.figure(figsize=figsize)\n",
        "    x,y = shape\n",
        "    for idx in np.arange(x*y):\n",
        "      ax = fig.add_subplot(x, y, idx+1, xticks=[], yticks=[])\n",
        "      ax.imshow(np.squeeze(images[idx]), cmap='gray')\n",
        "      ax.set_title(\"{} ({})\".format(str(preds[idx]), str(labels[idx])),\n",
        "                  color=(\"green\" if preds[idx]==labels[idx] else \"red\"))"
      ],
      "metadata": {
        "id": "FqeDEa9yaCR0"
      },
      "execution_count": null,
      "outputs": []
    },
    {
      "cell_type": "markdown",
      "source": [
        "## VGG"
      ],
      "metadata": {
        "id": "5WsTlxRAjHCU"
      }
    },
    {
      "cell_type": "markdown",
      "source": [
        "VGG, which stands for Visual Geometry Group, is a convolutional neural network (CNN) architecture designed for image classification and recognition tasks. It was proposed by researchers from the University of Oxford in the paper titled \"Very Deep Convolutional Networks for Large-Scale Image Recognition.\"\n",
        "\n",
        "The VGG architecture is known for its depth, featuring 16 to 19 layers of convolutional and fully connected layers. The key characteristics of VGG networks are the use of small 3x3 convolutional filters with a stride of 1, which helps preserve spatial resolution while increasing the depth, and max-pooling layers for down-sampling.\n",
        "\n",
        "The VGG architecture has multiple versions, including VGG16 and VGG19, with varying numbers of layers. These models have been widely used and are benchmarks in the field of computer vision for various image-related tasks such as image classification, object detection, and segmentation. We use VGG16 in this project."
      ],
      "metadata": {
        "id": "W0VP8JXazXGC"
      }
    },
    {
      "cell_type": "code",
      "source": [
        "vgg16 = keras.applications.vgg16\n",
        "conv_model = vgg16.VGG16(weights='imagenet', include_top=False, input_shape=(size,size,3))\n",
        "VGG_model = define_model(conv_model)"
      ],
      "metadata": {
        "id": "NznH8rIq4ePn"
      },
      "execution_count": null,
      "outputs": []
    },
    {
      "cell_type": "markdown",
      "source": [
        "show model structure"
      ],
      "metadata": {
        "id": "MuHBbp0AwE1L"
      }
    },
    {
      "cell_type": "code",
      "source": [
        "font = ImageFont.truetype(\"Arial.ttf\", 32)\n",
        "visualkeras.layered_view(VGG_model, legend=True, font=font, max_z=400)"
      ],
      "metadata": {
        "id": "64DuvDkVnbzP"
      },
      "execution_count": null,
      "outputs": []
    },
    {
      "cell_type": "code",
      "execution_count": null,
      "metadata": {
        "id": "JH6OO_rnYSXK"
      },
      "outputs": [],
      "source": [
        "name = './unet_model.h5'\n",
        "checkp = [EarlyStopping(patience=2),\n",
        "              ModelCheckpoint(name, monitor = 'accuracy', save_best_only = True, verbose = 1)]\n",
        "start_time = # your code here#\n",
        "VGG_history = VGG_model.fit_generator(\n",
        "    train_generator,\n",
        "    steps_per_epoch=len(train_generator),\n",
        "    epochs=10,\n",
        "    validation_data=val_generator,\n",
        "    validation_steps=len(val_generator),\n",
        "    callbacks = [checkp]\n",
        ")\n",
        "VGG_time = # Your code here #\n",
        "VGG_model_parameters = # Your code here #"
      ]
    },
    {
      "cell_type": "code",
      "source": [
        "VGG_train_acc = # Your code here #\n",
        "VGG_val_acc = # Your code here #\n",
        "VGG_train_loss = # Your code here #\n",
        "VGG_val_loss = # Your code here #"
      ],
      "metadata": {
        "id": "XI8l8xNRjgAb"
      },
      "execution_count": null,
      "outputs": []
    },
    {
      "cell_type": "markdown",
      "source": [
        "now we want to plot:\n",
        "\n",
        "*   Training Loss\n",
        "*   Validation Loss\n",
        "*   Training Accuracy\n",
        "*   Validation Accuracy\n",
        "*   Confusion Matrix\n",
        "\n",
        "\n",
        "\n"
      ],
      "metadata": {
        "id": "jDLMDSwZYBbN"
      }
    },
    {
      "cell_type": "code",
      "source": [
        "loss_plot(VGG_history)"
      ],
      "metadata": {
        "id": "tgZ3vvBkcVt5"
      },
      "execution_count": null,
      "outputs": []
    },
    {
      "cell_type": "code",
      "source": [
        "acc_plot(VGG_history)"
      ],
      "metadata": {
        "id": "BP08sNfOiu6C"
      },
      "execution_count": null,
      "outputs": []
    },
    {
      "cell_type": "code",
      "source": [
        "cm_plot(VGG_model)"
      ],
      "metadata": {
        "id": "ui_EXwi4NqAr"
      },
      "execution_count": null,
      "outputs": []
    },
    {
      "cell_type": "code",
      "source": [
        "visualizer(val_generator, VGG_model, (20,10), (2,4))"
      ],
      "metadata": {
        "id": "ZwoswkJ6ubN9"
      },
      "execution_count": null,
      "outputs": []
    },
    {
      "cell_type": "markdown",
      "source": [
        "## Resnet"
      ],
      "metadata": {
        "id": "rR0u4HvDdrPY"
      }
    },
    {
      "cell_type": "markdown",
      "source": [
        "ResNet, short for Residual Network, is a deep convolutional neural network architecture that was introduced by researchers Kaiming He, Xiangyu Zhang, Shaoqing Ren, and Jian Sun in their 2015 paper titled \"Deep Residual Learning for Image Recognition.\" It won the 2016 ImageNet competition, demonstrating its effectiveness in image classification tasks.\n",
        "\n",
        "The key innovation in ResNet is the use of residual blocks, which address the vanishing gradient problem that often occurs in very deep neural networks. The vanishing gradient problem can make it challenging for traditional deep networks to learn effectively as the gradients become extremely small, hindering the training process.\n",
        "\n",
        "In a residual block, instead of trying to learn the mapping directly, the network learns residual functions. The output of a layer is added to the input, creating a shortcut connection (or \"skip connection\"). This enables the network to learn the difference or residual between the input and the desired output, making it easier for the network to learn identity mappings. The residual blocks allow the model to efficiently train very deep networks by mitigating the vanishing gradient issue.\n",
        "\n",
        "The architecture of ResNet consists of multiple residual blocks stacked on top of each other, forming a deep neural network. Different versions of ResNet, such as ResNet-18, ResNet-34, ResNet-50, ResNet-101, and ResNet-152, are based on the number and structure of these residual blocks. We use ResNet-50 in this project.\n",
        "\n",
        "ResNet has had a significant impact on the field of computer vision and deep learning, especially in image recognition tasks. Its concepts of residual learning and skip connections have been incorporated and adapted in various architectures to improve training and performance in deep neural networks."
      ],
      "metadata": {
        "id": "cIiEeUZ_fnI0"
      }
    },
    {
      "cell_type": "code",
      "source": [
        "resnet50 = keras.applications.resnet50\n",
        "conv_model = resnet50.ResNet50(weights='imagenet', include_top=False, input_shape=(size,size,3))\n",
        "resnet_model = define_model(conv_model)"
      ],
      "metadata": {
        "id": "tyiXLdHyd8IN"
      },
      "execution_count": null,
      "outputs": []
    },
    {
      "cell_type": "code",
      "source": [
        "font = ImageFont.truetype(\"Arial.ttf\", 32)\n",
        "visualkeras.layered_view(resnet_model, legend=True, font=font, max_z=5)"
      ],
      "metadata": {
        "id": "9ckS7JU4eLWD"
      },
      "execution_count": null,
      "outputs": []
    },
    {
      "cell_type": "code",
      "source": [
        "name = './unet_model.h6'\n",
        "checkp = [EarlyStopping(patience=2),\n",
        "              ModelCheckpoint(name, monitor = 'accuracy', save_best_only = True, verbose = 1)]\n",
        "start_time = # Your code here #\n",
        "resnet_history = resnet_model.fit_generator(\n",
        "    train_generator,\n",
        "    steps_per_epoch=len(train_generator),\n",
        "    epochs=10,\n",
        "    validation_data=val_generator,\n",
        "    validation_steps=len(val_generator),\n",
        "    callbacks = [checkp]\n",
        ")\n",
        "resnet_time = # Your code here #\n",
        "resnet_model_parameters = # Your code here #"
      ],
      "metadata": {
        "id": "o5f8HaLBe3yT"
      },
      "execution_count": null,
      "outputs": []
    },
    {
      "cell_type": "code",
      "source": [
        "resnet_train_acc = # Your code here #\n",
        "resnet_val_acc = # Your code here #\n",
        "resnet_train_loss = # Your code here #\n",
        "resnet_val_loss = # Your code here #"
      ],
      "metadata": {
        "id": "1Rb7eM08g4r9"
      },
      "execution_count": null,
      "outputs": []
    },
    {
      "cell_type": "markdown",
      "source": [
        "now we want to plot:\n",
        "\n",
        "*   Training Loss\n",
        "*   Validation Loss\n",
        "*   Training Accuracy\n",
        "*   Validation Accuracy\n",
        "*   Confusion Matrix\n"
      ],
      "metadata": {
        "id": "4V_oCy9LhOBL"
      }
    },
    {
      "cell_type": "code",
      "source": [
        "loss_plot(resnet_history)"
      ],
      "metadata": {
        "id": "aJK9K7_qhdaU"
      },
      "execution_count": null,
      "outputs": []
    },
    {
      "cell_type": "code",
      "source": [
        "acc_plot(resnet_history)"
      ],
      "metadata": {
        "id": "VFo_8gU3hfhl"
      },
      "execution_count": null,
      "outputs": []
    },
    {
      "cell_type": "code",
      "source": [
        "cm_plot(resnet_model)"
      ],
      "metadata": {
        "id": "1fI1l8YkhiTE"
      },
      "execution_count": null,
      "outputs": []
    },
    {
      "cell_type": "code",
      "source": [
        "visualizer(val_generator, resnet_model, (20,10), (2,4))"
      ],
      "metadata": {
        "id": "l3oUN8CT0Pce"
      },
      "execution_count": null,
      "outputs": []
    },
    {
      "cell_type": "markdown",
      "source": [
        "# Conclusion"
      ],
      "metadata": {
        "id": "H_OeqnQx4_T9"
      }
    },
    {
      "cell_type": "markdown",
      "source": [
        "At the end, we compare the results in the form of a table"
      ],
      "metadata": {
        "id": "kO0bJJe35N29"
      }
    },
    {
      "cell_type": "code",
      "source": [
        "myTable = PrettyTable([\"model\", \"number of train data\", \"number of test data\", \"train accuracy\", \"test accuracy\", \"time\", \"parametes\"])\n",
        "\n",
        "# Add rows\n",
        "# Your code here #\n",
        "print(myTable)"
      ],
      "metadata": {
        "id": "Q8DrPjvV47Ff"
      },
      "execution_count": null,
      "outputs": []
    }
  ],
  "metadata": {
    "colab": {
      "provenance": [],
      "gpuType": "T4"
    },
    "kernelspec": {
      "display_name": "Python 3",
      "name": "python3"
    },
    "language_info": {
      "name": "python"
    },
    "accelerator": "GPU"
  },
  "nbformat": 4,
  "nbformat_minor": 0
}