{
  "nbformat": 4,
  "nbformat_minor": 0,
  "metadata": {
    "colab": {
      "provenance": [],
      "gpuType": "T4"
    },
    "kernelspec": {
      "name": "python3",
      "display_name": "Python 3"
    },
    "language_info": {
      "name": "python"
    },
    "accelerator": "GPU"
  },
  "cells": [
    {
      "cell_type": "code",
      "execution_count": 1,
      "metadata": {
        "id": "cSeciHmkANs_",
        "colab": {
          "base_uri": "https://localhost:8080/"
        },
        "outputId": "43b34d70-84b5-4992-c530-84a39e2db161"
      },
      "outputs": [
        {
          "output_type": "stream",
          "name": "stdout",
          "text": [
            "Requirement already satisfied: keras-tuner in /usr/local/lib/python3.10/dist-packages (1.4.6)\n",
            "Requirement already satisfied: keras in /usr/local/lib/python3.10/dist-packages (from keras-tuner) (2.14.0)\n",
            "Requirement already satisfied: packaging in /usr/local/lib/python3.10/dist-packages (from keras-tuner) (23.2)\n",
            "Requirement already satisfied: requests in /usr/local/lib/python3.10/dist-packages (from keras-tuner) (2.31.0)\n",
            "Requirement already satisfied: kt-legacy in /usr/local/lib/python3.10/dist-packages (from keras-tuner) (1.0.5)\n",
            "Requirement already satisfied: charset-normalizer<4,>=2 in /usr/local/lib/python3.10/dist-packages (from requests->keras-tuner) (3.3.2)\n",
            "Requirement already satisfied: idna<4,>=2.5 in /usr/local/lib/python3.10/dist-packages (from requests->keras-tuner) (3.6)\n",
            "Requirement already satisfied: urllib3<3,>=1.21.1 in /usr/local/lib/python3.10/dist-packages (from requests->keras-tuner) (2.0.7)\n",
            "Requirement already satisfied: certifi>=2017.4.17 in /usr/local/lib/python3.10/dist-packages (from requests->keras-tuner) (2023.11.17)\n"
          ]
        }
      ],
      "source": [
        "pip install keras-tuner"
      ]
    },
    {
      "cell_type": "code",
      "source": [
        "import tensorflow as tf\n",
        "import keras_tuner\n",
        "from tensorflow.keras import layers\n",
        "from keras_tuner.tuners import RandomSearch\n",
        "import matplotlib.pyplot as plt\n",
        "import numpy as np"
      ],
      "metadata": {
        "id": "Q3lEuVdeFqht"
      },
      "execution_count": 2,
      "outputs": []
    },
    {
      "cell_type": "code",
      "source": [
        "(x_train,y_train),(x_test,y_test)=tf.keras.datasets.mnist.load_data()\n",
        "x_train, x_test = x_train / 255.0, x_test / 255.0\n",
        "\n",
        "x_train = x_train.reshape(x_train.shape + (1,))\n",
        "x_test = x_test.reshape(x_test.shape + (1,))"
      ],
      "metadata": {
        "id": "xY_LicwpF-d0",
        "colab": {
          "base_uri": "https://localhost:8080/"
        },
        "outputId": "7db0592d-2a26-494f-985c-fc86c19aaad9"
      },
      "execution_count": 3,
      "outputs": [
        {
          "output_type": "stream",
          "name": "stdout",
          "text": [
            "Downloading data from https://storage.googleapis.com/tensorflow/tf-keras-datasets/mnist.npz\n",
            "11490434/11490434 [==============================] - 2s 0us/step\n"
          ]
        }
      ]
    },
    {
      "cell_type": "code",
      "source": [
        "def build_model(hp):\n",
        "    model = tf.keras.Sequential()\n",
        "\n",
        "    # Convolutional layers\n",
        "    for i in range(hp.Int('conv_layers', 1, 5, default=3)):\n",
        "        model.add(layers.Conv2D(hp.Int(f'filters_{i}', 32, 256, step=32), (3, 3), activation='relu'))\n",
        "        model.add(layers.MaxPooling2D((2, 2)))\n",
        "        model.add(layers.Dropout(hp.Float(f'dropout_conv_{i}', 0, 0.5, step=0.1, default=0.25)))\n",
        "\n",
        "    model.add(layers.Flatten())\n",
        "\n",
        "    # Dense layers\n",
        "    for i in range(hp.Int('dense_layers', 1, 5, default=3)):\n",
        "        model.add(layers.Dense(hp.Int(f'neurons_{i}', 32, 256, step=32), activation='relu'))\n",
        "        model.add(layers.Dropout(hp.Float(f'dropout_dense_{i}', 0, 0.5, step=0.1, default=0.25)))\n",
        "\n",
        "    model.add(layers.Dense(10, activation='softmax'))\n",
        "\n",
        "    # Compile the model\n",
        "    model.compile(\n",
        "        optimizer=tf.keras.optimizers.Adam(hp.Float('learning_rate', 1e-5, 1e-3, sampling='log', default=1e-3)),\n",
        "        loss='sparse_categorical_crossentropy',\n",
        "        metrics=['accuracy']\n",
        "    )\n",
        "\n",
        "    return model"
      ],
      "metadata": {
        "id": "eGQdjA3hGBel"
      },
      "execution_count": 4,
      "outputs": []
    },
    {
      "cell_type": "code",
      "source": [
        "# Set up the Keras Tuner\n",
        "tuner = RandomSearch(\n",
        "    build_model,\n",
        "    objective='val_accuracy',\n",
        "    max_trials=5,\n",
        "    directory='tune_dir',\n",
        "    project_name='mnist_tuning'\n",
        ")"
      ],
      "metadata": {
        "colab": {
          "base_uri": "https://localhost:8080/"
        },
        "id": "W9h5ncOgasV8",
        "outputId": "133bd7b1-2019-4878-d65d-066bcdda2d93"
      },
      "execution_count": 5,
      "outputs": [
        {
          "output_type": "stream",
          "name": "stdout",
          "text": [
            "Reloading Tuner from tune_dir/mnist_tuning/tuner0.json\n"
          ]
        }
      ]
    },
    {
      "cell_type": "code",
      "source": [
        "# Run the tuner\n",
        "tuner.search(x_train, y_train, epochs=5, validation_data=(x_test, y_test))"
      ],
      "metadata": {
        "id": "PBcSxpJnbCr_"
      },
      "execution_count": 6,
      "outputs": []
    },
    {
      "cell_type": "code",
      "source": [
        "tuner.results_summary(1)"
      ],
      "metadata": {
        "colab": {
          "base_uri": "https://localhost:8080/"
        },
        "id": "BArvOqb7ix3i",
        "outputId": "d543c5c9-f1d5-4873-c6e5-1942e6b2eabe"
      },
      "execution_count": 7,
      "outputs": [
        {
          "output_type": "stream",
          "name": "stdout",
          "text": [
            "Results summary\n",
            "Results in tune_dir/mnist_tuning\n",
            "Showing 1 best trials\n",
            "Objective(name=\"val_accuracy\", direction=\"max\")\n",
            "\n",
            "Trial 1 summary\n",
            "Hyperparameters:\n",
            "conv_layers: 3\n",
            "filters_0: 128\n",
            "dropout_conv_0: 0.2\n",
            "filters_1: 64\n",
            "dropout_conv_1: 0.4\n",
            "filters_2: 256\n",
            "dropout_conv_2: 0.0\n",
            "dense_layers: 4\n",
            "neurons_0: 256\n",
            "dropout_dense_0: 0.30000000000000004\n",
            "neurons_1: 256\n",
            "dropout_dense_1: 0.2\n",
            "neurons_2: 160\n",
            "dropout_dense_2: 0.2\n",
            "learning_rate: 0.0006291832312051203\n",
            "filters_3: 224\n",
            "dropout_conv_3: 0.0\n",
            "neurons_3: 256\n",
            "dropout_dense_3: 0.30000000000000004\n",
            "Score: 0.8773000240325928\n"
          ]
        }
      ]
    },
    {
      "cell_type": "code",
      "source": [
        "# Get the best model\n",
        "best_model = tuner.get_best_models(num_models=1)[0]\n",
        "best_model.build((None,) + x_train.shape[1:])\n",
        "best_model.summary()"
      ],
      "metadata": {
        "id": "RZNQWbZCbJ_R",
        "colab": {
          "base_uri": "https://localhost:8080/"
        },
        "outputId": "767b4eb3-db6d-4e22-c878-78f7206af1db"
      },
      "execution_count": 8,
      "outputs": [
        {
          "output_type": "stream",
          "name": "stdout",
          "text": [
            "Model: \"sequential\"\n",
            "_________________________________________________________________\n",
            " Layer (type)                Output Shape              Param #   \n",
            "=================================================================\n",
            " conv2d (Conv2D)             (None, 26, 26, 128)       1280      \n",
            "                                                                 \n",
            " max_pooling2d (MaxPooling2  (None, 13, 13, 128)       0         \n",
            " D)                                                              \n",
            "                                                                 \n",
            " dropout (Dropout)           (None, 13, 13, 128)       0         \n",
            "                                                                 \n",
            " conv2d_1 (Conv2D)           (None, 11, 11, 64)        73792     \n",
            "                                                                 \n",
            " max_pooling2d_1 (MaxPoolin  (None, 5, 5, 64)          0         \n",
            " g2D)                                                            \n",
            "                                                                 \n",
            " dropout_1 (Dropout)         (None, 5, 5, 64)          0         \n",
            "                                                                 \n",
            " conv2d_2 (Conv2D)           (None, 3, 3, 256)         147712    \n",
            "                                                                 \n",
            " max_pooling2d_2 (MaxPoolin  (None, 1, 1, 256)         0         \n",
            " g2D)                                                            \n",
            "                                                                 \n",
            " dropout_2 (Dropout)         (None, 1, 1, 256)         0         \n",
            "                                                                 \n",
            " flatten (Flatten)           (None, 256)               0         \n",
            "                                                                 \n",
            " dense (Dense)               (None, 256)               65792     \n",
            "                                                                 \n",
            " dropout_3 (Dropout)         (None, 256)               0         \n",
            "                                                                 \n",
            " dense_1 (Dense)             (None, 256)               65792     \n",
            "                                                                 \n",
            " dropout_4 (Dropout)         (None, 256)               0         \n",
            "                                                                 \n",
            " dense_2 (Dense)             (None, 160)               41120     \n",
            "                                                                 \n",
            " dropout_5 (Dropout)         (None, 160)               0         \n",
            "                                                                 \n",
            " dense_3 (Dense)             (None, 256)               41216     \n",
            "                                                                 \n",
            " dropout_6 (Dropout)         (None, 256)               0         \n",
            "                                                                 \n",
            " dense_4 (Dense)             (None, 10)                2570      \n",
            "                                                                 \n",
            "=================================================================\n",
            "Total params: 439274 (1.68 MB)\n",
            "Trainable params: 439274 (1.68 MB)\n",
            "Non-trainable params: 0 (0.00 Byte)\n",
            "_________________________________________________________________\n"
          ]
        }
      ]
    },
    {
      "cell_type": "code",
      "source": [
        "# Train the best model\n",
        "fit = best_model.fit(\n",
        "    x_train,y_train,\n",
        "    validation_data=(x_test,y_test),\n",
        "    epochs=20,batch_size=128,\n",
        "    callbacks=[tf.keras.callbacks.EarlyStopping(monitor='val_accuracy',patience=3)]\n",
        ")"
      ],
      "metadata": {
        "colab": {
          "base_uri": "https://localhost:8080/"
        },
        "id": "JOmo_HIMiKV3",
        "outputId": "c18609e6-9bf7-4687-d7cf-7494533abf8b"
      },
      "execution_count": 9,
      "outputs": [
        {
          "output_type": "stream",
          "name": "stdout",
          "text": [
            "Epoch 1/20\n",
            "469/469 [==============================] - 18s 22ms/step - loss: 0.6313 - accuracy: 0.8060 - val_loss: 0.1143 - val_accuracy: 0.9675\n",
            "Epoch 2/20\n",
            "469/469 [==============================] - 6s 12ms/step - loss: 0.1799 - accuracy: 0.9510 - val_loss: 0.0687 - val_accuracy: 0.9806\n",
            "Epoch 3/20\n",
            "469/469 [==============================] - 6s 13ms/step - loss: 0.1366 - accuracy: 0.9628 - val_loss: 0.0600 - val_accuracy: 0.9828\n",
            "Epoch 4/20\n",
            "469/469 [==============================] - 5s 12ms/step - loss: 0.1078 - accuracy: 0.9707 - val_loss: 0.0566 - val_accuracy: 0.9843\n",
            "Epoch 5/20\n",
            "469/469 [==============================] - 6s 12ms/step - loss: 0.0940 - accuracy: 0.9747 - val_loss: 0.0535 - val_accuracy: 0.9851\n",
            "Epoch 6/20\n",
            "469/469 [==============================] - 6s 12ms/step - loss: 0.0858 - accuracy: 0.9759 - val_loss: 0.0504 - val_accuracy: 0.9859\n",
            "Epoch 7/20\n",
            "469/469 [==============================] - 5s 11ms/step - loss: 0.0787 - accuracy: 0.9782 - val_loss: 0.0463 - val_accuracy: 0.9865\n",
            "Epoch 8/20\n",
            "469/469 [==============================] - 6s 13ms/step - loss: 0.0727 - accuracy: 0.9797 - val_loss: 0.0474 - val_accuracy: 0.9860\n",
            "Epoch 9/20\n",
            "469/469 [==============================] - 5s 12ms/step - loss: 0.0651 - accuracy: 0.9813 - val_loss: 0.0450 - val_accuracy: 0.9880\n",
            "Epoch 10/20\n",
            "469/469 [==============================] - 6s 12ms/step - loss: 0.0625 - accuracy: 0.9828 - val_loss: 0.0451 - val_accuracy: 0.9878\n",
            "Epoch 11/20\n",
            "469/469 [==============================] - 6s 12ms/step - loss: 0.0579 - accuracy: 0.9831 - val_loss: 0.0439 - val_accuracy: 0.9890\n",
            "Epoch 12/20\n",
            "469/469 [==============================] - 5s 12ms/step - loss: 0.0584 - accuracy: 0.9833 - val_loss: 0.0400 - val_accuracy: 0.9895\n",
            "Epoch 13/20\n",
            "469/469 [==============================] - 6s 13ms/step - loss: 0.0521 - accuracy: 0.9854 - val_loss: 0.0365 - val_accuracy: 0.9904\n",
            "Epoch 14/20\n",
            "469/469 [==============================] - 5s 11ms/step - loss: 0.0507 - accuracy: 0.9850 - val_loss: 0.0418 - val_accuracy: 0.9898\n",
            "Epoch 15/20\n",
            "469/469 [==============================] - 6s 12ms/step - loss: 0.0474 - accuracy: 0.9860 - val_loss: 0.0375 - val_accuracy: 0.9889\n",
            "Epoch 16/20\n",
            "469/469 [==============================] - 6s 12ms/step - loss: 0.0463 - accuracy: 0.9869 - val_loss: 0.0402 - val_accuracy: 0.9898\n"
          ]
        }
      ]
    },
    {
      "cell_type": "code",
      "source": [
        "# Evaluate the model on the test set\n",
        "loss, accuracy = best_model.evaluate(x_test, y_test)\n",
        "print(f'Test accuracy: {accuracy * 100:.2f}%')"
      ],
      "metadata": {
        "colab": {
          "base_uri": "https://localhost:8080/"
        },
        "id": "FxSEdqvJjM8_",
        "outputId": "1311790f-0821-49ad-d867-4f0b6b8a9120"
      },
      "execution_count": 10,
      "outputs": [
        {
          "output_type": "stream",
          "name": "stdout",
          "text": [
            "313/313 [==============================] - 1s 3ms/step - loss: 0.0402 - accuracy: 0.9898\n",
            "Test accuracy: 98.98%\n"
          ]
        }
      ]
    }
  ]
}