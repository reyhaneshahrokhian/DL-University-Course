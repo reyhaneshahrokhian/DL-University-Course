{
  "nbformat": 4,
  "nbformat_minor": 0,
  "metadata": {
    "colab": {
      "provenance": []
    },
    "kernelspec": {
      "name": "python3",
      "display_name": "Python 3"
    },
    "language_info": {
      "name": "python"
    }
  },
  "cells": [
    {
      "cell_type": "code",
      "source": [
        "import tensorflow as tf\n",
        "from tensorflow.keras import layers, models\n",
        "import numpy as np"
      ],
      "metadata": {
        "id": "7cKbEi8Dgjmg"
      },
      "execution_count": 1,
      "outputs": []
    },
    {
      "cell_type": "code",
      "source": [
        "# generate a random input tensor\n",
        "input_tensor = np.random.rand(1, 32, 32, 3).astype(np.float32)"
      ],
      "metadata": {
        "id": "ElNcsVDeiJZh"
      },
      "execution_count": 2,
      "outputs": []
    },
    {
      "cell_type": "code",
      "source": [
        "# create a simple CNN with a 1x1 filter\n",
        "model = models.Sequential()\n",
        "model.add(layers.Conv2D(filters=1, kernel_size=(1, 1), activation='relu', input_shape=(32, 32, 3)))\n",
        "model.summary()"
      ],
      "metadata": {
        "colab": {
          "base_uri": "https://localhost:8080/"
        },
        "id": "GGsFybWJh6OB",
        "outputId": "fc69e4b3-a5e4-427b-dcb9-a853203863c2"
      },
      "execution_count": 3,
      "outputs": [
        {
          "output_type": "stream",
          "name": "stdout",
          "text": [
            "Model: \"sequential\"\n",
            "_________________________________________________________________\n",
            " Layer (type)                Output Shape              Param #   \n",
            "=================================================================\n",
            " conv2d (Conv2D)             (None, 32, 32, 1)         4         \n",
            "                                                                 \n",
            "=================================================================\n",
            "Total params: 4 (16.00 Byte)\n",
            "Trainable params: 4 (16.00 Byte)\n",
            "Non-trainable params: 0 (0.00 Byte)\n",
            "_________________________________________________________________\n"
          ]
        }
      ]
    },
    {
      "cell_type": "code",
      "source": [
        "# Get the output tensor\n",
        "output_tensor = model.predict(input_tensor)"
      ],
      "metadata": {
        "colab": {
          "base_uri": "https://localhost:8080/"
        },
        "id": "715EYSdPh6tQ",
        "outputId": "bc2a88dc-aa63-4485-c21e-867fd3a6f945"
      },
      "execution_count": 4,
      "outputs": [
        {
          "output_type": "stream",
          "name": "stdout",
          "text": [
            "1/1 [==============================] - 0s 120ms/step\n"
          ]
        }
      ]
    },
    {
      "cell_type": "code",
      "source": [
        "# Print the input and output sizes\n",
        "print(f\"Input size: {input_tensor.shape}\")\n",
        "print(f\"Output size: {output_tensor.shape}\")"
      ],
      "metadata": {
        "colab": {
          "base_uri": "https://localhost:8080/"
        },
        "id": "RKPiumt9iOIS",
        "outputId": "375ba83e-933b-4f65-f7e6-3d139d958a3d"
      },
      "execution_count": 5,
      "outputs": [
        {
          "output_type": "stream",
          "name": "stdout",
          "text": [
            "Input size: (1, 32, 32, 3)\n",
            "Output size: (1, 32, 32, 1)\n"
          ]
        }
      ]
    },
    {
      "cell_type": "code",
      "source": [
        "input_tensor"
      ],
      "metadata": {
        "colab": {
          "base_uri": "https://localhost:8080/"
        },
        "id": "5gqFx-ZmjMFJ",
        "outputId": "d24d115f-6994-42a5-c1d7-c7566efccc88"
      },
      "execution_count": 7,
      "outputs": [
        {
          "output_type": "execute_result",
          "data": {
            "text/plain": [
              "array([[[[0.69244814, 0.45220283, 0.5494314 ],\n",
              "         [0.27731928, 0.8068023 , 0.46578997],\n",
              "         [0.32113716, 0.91189325, 0.36296967],\n",
              "         ...,\n",
              "         [0.3249825 , 0.39507192, 0.37359115],\n",
              "         [0.28603458, 0.23356286, 0.9399693 ],\n",
              "         [0.45498472, 0.84399056, 0.01844314]],\n",
              "\n",
              "        [[0.27947205, 0.396623  , 0.03452523],\n",
              "         [0.08451525, 0.23744692, 0.02333461],\n",
              "         [0.79280746, 0.6189034 , 0.22297376],\n",
              "         ...,\n",
              "         [0.71798354, 0.54735655, 0.8225756 ],\n",
              "         [0.26144105, 0.42457753, 0.67938524],\n",
              "         [0.7433914 , 0.39416897, 0.7494888 ]],\n",
              "\n",
              "        [[0.74896204, 0.46031442, 0.9277271 ],\n",
              "         [0.31005636, 0.95528066, 0.8523773 ],\n",
              "         [0.1877886 , 0.8048471 , 0.9738403 ],\n",
              "         ...,\n",
              "         [0.43127972, 0.6346132 , 0.6441206 ],\n",
              "         [0.08899295, 0.08326513, 0.18252823],\n",
              "         [0.31670067, 0.06622968, 0.8090722 ]],\n",
              "\n",
              "        ...,\n",
              "\n",
              "        [[0.21050169, 0.10057106, 0.22013266],\n",
              "         [0.40915075, 0.27574778, 0.9277642 ],\n",
              "         [0.7650898 , 0.11066461, 0.35430476],\n",
              "         ...,\n",
              "         [0.29188985, 0.82662946, 0.8178233 ],\n",
              "         [0.42042446, 0.30993617, 0.49863163],\n",
              "         [0.6771693 , 0.04453341, 0.4027971 ]],\n",
              "\n",
              "        [[0.1023373 , 0.920333  , 0.9198087 ],\n",
              "         [0.13174552, 0.27114564, 0.947837  ],\n",
              "         [0.152772  , 0.00779655, 0.6455832 ],\n",
              "         ...,\n",
              "         [0.2393398 , 0.125827  , 0.97316664],\n",
              "         [0.5392154 , 0.0241633 , 0.18447147],\n",
              "         [0.39934516, 0.24850045, 0.4156398 ]],\n",
              "\n",
              "        [[0.31037313, 0.748011  , 0.99780875],\n",
              "         [0.62212545, 0.75711   , 0.34806547],\n",
              "         [0.6706116 , 0.13289845, 0.19909842],\n",
              "         ...,\n",
              "         [0.48652232, 0.00907188, 0.11698957],\n",
              "         [0.04426903, 0.2626274 , 0.41065755],\n",
              "         [0.24942993, 0.40253365, 0.9607951 ]]]], dtype=float32)"
            ]
          },
          "metadata": {},
          "execution_count": 7
        }
      ]
    },
    {
      "cell_type": "code",
      "source": [
        "output_tensor"
      ],
      "metadata": {
        "colab": {
          "base_uri": "https://localhost:8080/"
        },
        "id": "wZKRGvX_jNQE",
        "outputId": "74c35a8f-fe18-4aa6-93ba-43d1d93f7f33"
      },
      "execution_count": 8,
      "outputs": [
        {
          "output_type": "execute_result",
          "data": {
            "text/plain": [
              "array([[[[0.43867064],\n",
              "         [0.        ],\n",
              "         [0.0424183 ],\n",
              "         ...,\n",
              "         [0.1133519 ],\n",
              "         [0.        ],\n",
              "         [0.40944362]],\n",
              "\n",
              "        [[0.25518516],\n",
              "         [0.05323242],\n",
              "         [0.72269905],\n",
              "         ...,\n",
              "         [0.29771575],\n",
              "         [0.        ],\n",
              "         [0.3915147 ]],\n",
              "\n",
              "        [[0.28583777],\n",
              "         [0.        ],\n",
              "         [0.        ],\n",
              "         ...,\n",
              "         [0.04923877],\n",
              "         [0.        ],\n",
              "         [0.        ]],\n",
              "\n",
              "        ...,\n",
              "\n",
              "        [[0.10784517],\n",
              "         [0.        ],\n",
              "         [0.6853219 ],\n",
              "         ...,\n",
              "         [0.        ],\n",
              "         [0.16601431],\n",
              "         [0.5625175 ]],\n",
              "\n",
              "        [[0.        ],\n",
              "         [0.        ],\n",
              "         [0.        ],\n",
              "         ...,\n",
              "         [0.        ],\n",
              "         [0.5282433 ],\n",
              "         [0.19763908]],\n",
              "\n",
              "        [[0.        ],\n",
              "         [0.4290039 ],\n",
              "         [0.6600569 ],\n",
              "         ...,\n",
              "         [0.50698465],\n",
              "         [0.        ],\n",
              "         [0.        ]]]], dtype=float32)"
            ]
          },
          "metadata": {},
          "execution_count": 8
        }
      ]
    }
  ]
}