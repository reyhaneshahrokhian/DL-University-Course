{
  "cells": [
    {
      "cell_type": "markdown",
      "metadata": {
        "id": "buNBHgZ3G-Lp"
      },
      "source": [
        "## **Import libraries**"
      ]
    },
    {
      "cell_type": "code",
      "execution_count": 1,
      "metadata": {
        "id": "f2l9UrkQ-YoW"
      },
      "outputs": [],
      "source": [
        "import tensorflow as tf\n",
        "from tensorflow import keras\n",
        "import matplotlib.pyplot as plt\n",
        "from tensorflow.keras.models import Sequential, Model\n",
        "from tensorflow.keras.layers import Dense, Conv2D, MaxPool2D, Activation, Input, Flatten, Rescaling\n",
        "from tensorflow.keras.optimizers import Adam\n",
        "from tensorflow.keras.callbacks import EarlyStopping"
      ]
    },
    {
      "cell_type": "markdown",
      "metadata": {
        "id": "UFxWZlMPP4Lf"
      },
      "source": [
        "## **Download the dataset**"
      ]
    },
    {
      "cell_type": "markdown",
      "metadata": {
        "id": "stzYxVHUQosO"
      },
      "source": [
        "Download and extract the dataset from the below link in a folder.\n",
        "\n",
        "https://drive.google.com/file/d/1SCpVEdJ6_YOAcy2iW05ENlMh-OCcFz3P/view?usp=sharing"
      ]
    },
    {
      "cell_type": "code",
      "execution_count": null,
      "metadata": {
        "id": "CCnzmYZ1SEul"
      },
      "outputs": [],
      "source": []
    },
    {
      "cell_type": "markdown",
      "metadata": {
        "id": "bmHv8qCSK2Ec"
      },
      "source": [
        "## **Read image files from directory**\n",
        "\n",
        "To be familiar with keras dataset loading and preprocessing you can use the below link:\n",
        "\n",
        "https://keras.io/api/preprocessing/image/\n",
        "\n",
        "Please set ***validation_split = 0.2***"
      ]
    },
    {
      "cell_type": "code",
      "source": [],
      "metadata": {
        "id": "5B3woVncj4vu"
      },
      "execution_count": null,
      "outputs": []
    },
    {
      "cell_type": "markdown",
      "metadata": {
        "id": "zQIVmkp3HLm_"
      },
      "source": [
        "## **Display the dataset**\n",
        "\n",
        "Plot some samples from the dataset to see and know what are you working with."
      ]
    },
    {
      "cell_type": "code",
      "source": [],
      "metadata": {
        "id": "4rvwQw74j8Vp"
      },
      "execution_count": null,
      "outputs": []
    },
    {
      "cell_type": "markdown",
      "metadata": {
        "id": "Z9IqUE2yObmX"
      },
      "source": [
        "## **Build the models**\n",
        "\n",
        "In this section you will build the model with two approaches.\n",
        "First you should build it with the Sequential API and then you have to work with the Functional API in the second part.\n",
        "\n",
        "You can use the below link to know more about these two APIs.\n",
        "\n",
        "Keep the architecture as simple as possible.\n",
        "\n",
        "https://medium.com/analytics-vidhya/keras-model-sequential-api-vs-functional-api-fc1439a6fb10"
      ]
    },
    {
      "cell_type": "markdown",
      "metadata": {
        "id": "m7uan8NLHmig"
      },
      "source": [
        "## **1.Sequential API**"
      ]
    },
    {
      "cell_type": "markdown",
      "metadata": {
        "id": "_nM-SGgrLlrr"
      },
      "source": [
        "### **Build a model**"
      ]
    },
    {
      "cell_type": "code",
      "execution_count": null,
      "metadata": {
        "id": "Ugf9s_eJLq0r"
      },
      "outputs": [],
      "source": []
    },
    {
      "cell_type": "markdown",
      "metadata": {
        "id": "xeZRjzjPLtjE"
      },
      "source": [
        "### **Train the model**"
      ]
    },
    {
      "cell_type": "code",
      "source": [],
      "metadata": {
        "id": "LPxybMnZkM7P"
      },
      "execution_count": null,
      "outputs": []
    },
    {
      "cell_type": "markdown",
      "metadata": {
        "id": "9b7EJ3zDLxpb"
      },
      "source": [
        "### **Test the model**"
      ]
    },
    {
      "cell_type": "code",
      "source": [],
      "metadata": {
        "id": "0N8MclSYkPbB"
      },
      "execution_count": null,
      "outputs": []
    },
    {
      "cell_type": "markdown",
      "metadata": {
        "id": "aV7K8PVNpVCt"
      },
      "source": [
        "### **Plot loss and accuracy**\n",
        "\n",
        "In this part you should plot the loss and accuracy of train and test."
      ]
    },
    {
      "cell_type": "code",
      "source": [],
      "metadata": {
        "id": "kVWcoKo3kVVu"
      },
      "execution_count": null,
      "outputs": []
    },
    {
      "cell_type": "markdown",
      "metadata": {
        "id": "a0d_vN_5LLkU"
      },
      "source": [
        "## **2.Functional API**"
      ]
    },
    {
      "cell_type": "markdown",
      "metadata": {
        "id": "tWYSKpU6PgE7"
      },
      "source": [
        "### **Build a model**"
      ]
    },
    {
      "cell_type": "code",
      "execution_count": null,
      "metadata": {
        "id": "VnlK2qzPPgE8"
      },
      "outputs": [],
      "source": []
    },
    {
      "cell_type": "markdown",
      "metadata": {
        "id": "bOrnpSog23zA"
      },
      "source": [
        "### **Train the model**"
      ]
    },
    {
      "cell_type": "code",
      "source": [],
      "metadata": {
        "id": "g-laQm-ekiMH"
      },
      "execution_count": null,
      "outputs": []
    },
    {
      "cell_type": "markdown",
      "metadata": {
        "id": "eX43FkoJ23zD"
      },
      "source": [
        "### **Test the model**"
      ]
    },
    {
      "cell_type": "code",
      "source": [],
      "metadata": {
        "id": "HnZzU3O8kkMu"
      },
      "execution_count": null,
      "outputs": []
    },
    {
      "cell_type": "markdown",
      "metadata": {
        "id": "fdv6p71y23zE"
      },
      "source": [
        "### **Plot loss and accuracy**\n",
        "\n",
        "In this part you should plot the loss and accuracy of train and test."
      ]
    },
    {
      "cell_type": "code",
      "source": [],
      "metadata": {
        "id": "D3TRMnE6kmu3"
      },
      "execution_count": null,
      "outputs": []
    }
  ],
  "metadata": {
    "accelerator": "GPU",
    "colab": {
      "provenance": []
    },
    "kernelspec": {
      "display_name": "Python 3",
      "language": "python",
      "name": "python3"
    },
    "language_info": {
      "codemirror_mode": {
        "name": "ipython",
        "version": 3
      },
      "file_extension": ".py",
      "mimetype": "text/x-python",
      "name": "python",
      "nbconvert_exporter": "python",
      "pygments_lexer": "ipython3",
      "version": "3.8.5"
    }
  },
  "nbformat": 4,
  "nbformat_minor": 0
}